{
  "nbformat": 4,
  "nbformat_minor": 0,
  "metadata": {
    "colab": {
      "name": "linear_regression.ipynb",
      "provenance": [],
      "collapsed_sections": [],
      "toc_visible": true,
      "authorship_tag": "ABX9TyPVmZCHWhbsa05Bk2GbSS0i",
      "include_colab_link": true
    },
    "kernelspec": {
      "name": "python3",
      "display_name": "Python 3"
    }
  },
  "cells": [
    {
      "cell_type": "markdown",
      "metadata": {
        "id": "view-in-github",
        "colab_type": "text"
      },
      "source": [
        "<a href=\"https://colab.research.google.com/github/tqnhu2407/Color_Compression/blob/master/linear_regression.ipynb\" target=\"_parent\"><img src=\"https://colab.research.google.com/assets/colab-badge.svg\" alt=\"Open In Colab\"/></a>"
      ]
    },
    {
      "cell_type": "markdown",
      "metadata": {
        "id": "Tkl0wyWpH8wC",
        "colab_type": "text"
      },
      "source": [
        "# Đồ án 03: Linear Regression"
      ]
    },
    {
      "cell_type": "markdown",
      "metadata": {
        "id": "fVuLkbotIRT4",
        "colab_type": "text"
      },
      "source": [
        "## Thông tin cá nhân\n",
        "\n",
        "### Họ tên: Trần Quỳnh Như\n",
        "\n",
        "### MSSV: 18127266"
      ]
    },
    {
      "cell_type": "markdown",
      "metadata": {
        "id": "x_fRAlIqId-Y",
        "colab_type": "text"
      },
      "source": [
        "## Các chức năng đã hoàn thành\n",
        "\n",
        "Xây dựng mô hình đánh giá chất lượng rượu sử dụng phương pháp hồi quy tuyến tính.\n",
        "\n",
        "    a) Sử dụng toàn bộ 11 đặc trưng đề bài cung cấp.\n",
        "\n",
        "    b) Sử dụng duy nhất 1 đặc trưng cho kết quả tốt nhất."
      ]
    },
    {
      "cell_type": "markdown",
      "metadata": {
        "id": "60_CcnQUKsfS",
        "colab_type": "text"
      },
      "source": [
        "## Ý tưởng thực hiện\n",
        "\n",
        "Do tập dữ liệu có 1199 dòng, nên ta nhân đôi dòng cuối để tập này có 1200 dòng giúp tiện cho việc tính toán và xử lí hơn.\n",
        "\n",
        "Mô hình hồi qui tuyến tính của ta có dạng \n",
        "$$A\\hat{x} = b$$\n",
        "nên ta tách tập dữ liệu ra thành 2 ma trận **A** và **b**"
      ]
    },
    {
      "cell_type": "markdown",
      "metadata": {
        "id": "gCvJG_NdNuQA",
        "colab_type": "text"
      },
      "source": [
        "## Mô tả các hàm chức năng"
      ]
    },
    {
      "cell_type": "markdown",
      "metadata": {
        "id": "OX6K-Fy2OWET",
        "colab_type": "text"
      },
      "source": [
        "Import các thư viện cần thiết"
      ]
    },
    {
      "cell_type": "code",
      "metadata": {
        "id": "UN8FXIFlYoHz",
        "colab_type": "code",
        "colab": {}
      },
      "source": [
        "import numpy as np\n",
        "import pandas as pd"
      ],
      "execution_count": 1,
      "outputs": []
    },
    {
      "cell_type": "markdown",
      "metadata": {
        "id": "fLdTB60kG-gJ",
        "colab_type": "text"
      },
      "source": [
        "Đọc file csv bằng thư viện pandas"
      ]
    },
    {
      "cell_type": "code",
      "metadata": {
        "id": "kLy6Odd8bTx2",
        "colab_type": "code",
        "colab": {}
      },
      "source": [
        "df = pd.read_csv('wine.csv', sep=';')"
      ],
      "execution_count": 18,
      "outputs": []
    },
    {
      "cell_type": "markdown",
      "metadata": {
        "id": "60vR9h-FG3D_",
        "colab_type": "text"
      },
      "source": [
        "Gán data vào numpy array mới để thuận lợi cho việc xử lí"
      ]
    },
    {
      "cell_type": "code",
      "metadata": {
        "id": "VbRvW5YxBSw-",
        "colab_type": "code",
        "colab": {}
      },
      "source": [
        "wine = df.values.copy()"
      ],
      "execution_count": 19,
      "outputs": []
    },
    {
      "cell_type": "markdown",
      "metadata": {
        "id": "c0_epegAHCc4",
        "colab_type": "text"
      },
      "source": [
        "Do dataset ban đầu chỉ có 1199 dòng, nên ta duplicate dòng cuối lên để dataset chẵn 1200 dòng"
      ]
    },
    {
      "cell_type": "code",
      "metadata": {
        "id": "4YQJYusxGyzf",
        "colab_type": "code",
        "colab": {}
      },
      "source": [
        "last_line = wine[-1]\n",
        "wine = np.append(wine, [last_line], axis=0)"
      ],
      "execution_count": 27,
      "outputs": []
    },
    {
      "cell_type": "code",
      "metadata": {
        "id": "E2Hjb5viwtwc",
        "colab_type": "code",
        "colab": {
          "base_uri": "https://localhost:8080/",
          "height": 34
        },
        "outputId": "d0d2ef04-122e-4ece-a7d1-b360f9a5384d"
      },
      "source": [
        "wine.shape[0]"
      ],
      "execution_count": 29,
      "outputs": [
        {
          "output_type": "execute_result",
          "data": {
            "text/plain": [
              "1200"
            ]
          },
          "metadata": {
            "tags": []
          },
          "execution_count": 29
        }
      ]
    },
    {
      "cell_type": "markdown",
      "metadata": {
        "id": "PMO7QgDRHTWm",
        "colab_type": "text"
      },
      "source": [
        "Tách tập dữ liệu ra thành 2 ma trận A và b"
      ]
    },
    {
      "cell_type": "code",
      "metadata": {
        "id": "wnh54MwEFi5s",
        "colab_type": "code",
        "colab": {}
      },
      "source": [
        "A = np.zeros((1200, 11))\n",
        "\n",
        "for line in range(1200):\n",
        "    A[line] = wine[line, :-1]"
      ],
      "execution_count": 31,
      "outputs": []
    },
    {
      "cell_type": "code",
      "metadata": {
        "id": "2ltqRA5dL_V6",
        "colab_type": "code",
        "colab": {}
      },
      "source": [
        "b = wine[:, 11]"
      ],
      "execution_count": 32,
      "outputs": []
    },
    {
      "cell_type": "markdown",
      "metadata": {
        "id": "Kkf2fxsCDkDt",
        "colab_type": "text"
      },
      "source": [
        "# a)"
      ]
    },
    {
      "cell_type": "markdown",
      "metadata": {
        "id": "3roFiv3jPfxc",
        "colab_type": "text"
      },
      "source": [
        "Tính nghiệm của phương trình hồi qui tuyến tính."
      ]
    },
    {
      "cell_type": "code",
      "metadata": {
        "id": "Va-xB9fRMphx",
        "colab_type": "code",
        "colab": {
          "base_uri": "https://localhost:8080/",
          "height": 67
        },
        "outputId": "64c02ef0-ad68-4e16-9555-4ed041628dbc"
      },
      "source": [
        "np.linalg.pinv(A)@b"
      ],
      "execution_count": 33,
      "outputs": [
        {
          "output_type": "execute_result",
          "data": {
            "text/plain": [
              "array([ 6.08780564e-03, -1.10606523e+00, -2.61369571e-01,  1.53895225e-02,\n",
              "       -1.72614693e+00,  3.81352544e-03, -3.90664540e-03,  4.32676138e+00,\n",
              "       -4.55444191e-01,  7.28908094e-01,  3.08728459e-01])"
            ]
          },
          "metadata": {
            "tags": []
          },
          "execution_count": 33
        }
      ]
    },
    {
      "cell_type": "markdown",
      "metadata": {
        "id": "HhnZSjQDEeL6",
        "colab_type": "text"
      },
      "source": [
        "# b)"
      ]
    },
    {
      "cell_type": "markdown",
      "metadata": {
        "id": "MbnYDoABPiF1",
        "colab_type": "text"
      },
      "source": [
        "Chia tập rượu thành 11 thuộc tính att[0] ... att[10].\n",
        "\n",
        "Với mỗi thuộc tính, ở mỗi dòng dữ liệu ta thêm giá trị 0 vào vì khi dùng hàm np.linalg.pinv(A)@b yêu cầu mỗi ma trận A có ít nhất 2 chiều."
      ]
    },
    {
      "cell_type": "code",
      "metadata": {
        "id": "IoDA9_MIQx0R",
        "colab_type": "code",
        "colab": {}
      },
      "source": [
        "att = np.zeros((11, 1200, 2))\n",
        "\n",
        "for col_idx in range(11):\n",
        "    att[col_idx,: , 0] = A[:, col_idx]"
      ],
      "execution_count": 34,
      "outputs": []
    },
    {
      "cell_type": "markdown",
      "metadata": {
        "id": "0WzOyJJVQ1Xg",
        "colab_type": "text"
      },
      "source": [
        "Ví dụ: Dòng dữ liệu đầu tiên của thuộc tính thứ 1:"
      ]
    },
    {
      "cell_type": "code",
      "metadata": {
        "id": "D7fVG7iLMxed",
        "colab_type": "code",
        "colab": {
          "base_uri": "https://localhost:8080/",
          "height": 34
        },
        "outputId": "21b636e3-4433-4ca3-ffdb-91a06d1d890c"
      },
      "source": [
        "att[0][0]"
      ],
      "execution_count": 35,
      "outputs": [
        {
          "output_type": "execute_result",
          "data": {
            "text/plain": [
              "array([7.4, 0. ])"
            ]
          },
          "metadata": {
            "tags": []
          },
          "execution_count": 35
        }
      ]
    },
    {
      "cell_type": "code",
      "metadata": {
        "id": "dj9wrhWTZxiP",
        "colab_type": "code",
        "colab": {}
      },
      "source": [
        "# Tính 11 nghiệm x bằng cách dùng full 1200 dòng data cho mỗi thuộc tính\n",
        "# Test chơi thoi\n",
        "\n",
        "x = np.zeros(11)\n",
        "\n",
        "for idx in range(11):\n",
        "    tmp_x = np.linalg.pinv(att[idx])@b\n",
        "    x[idx] = tmp_x[0]"
      ],
      "execution_count": 37,
      "outputs": []
    },
    {
      "cell_type": "code",
      "metadata": {
        "id": "e62HQixMp4B5",
        "colab_type": "code",
        "colab": {
          "base_uri": "https://localhost:8080/",
          "height": 50
        },
        "outputId": "b02ccfb1-581b-4820-a3c9-c20fc318629d"
      },
      "source": [
        "# Test thử với thuộc tính đầu tiên\n",
        "# Với tập train là 800 dòng đầu tiên\n",
        "# Và tập test là 400 dòng còn lại\n",
        "\n",
        "# Consider each of the 11 attributes\n",
        "# Here we only consider the first attribute\n",
        "for i in range(1):\n",
        "\n",
        "    # 2 train sets A and b\n",
        "    # trainA here is the first attribute \n",
        "    # These 2 sets are from line 0 to line 799\n",
        "    trainA = att[i][:800]\n",
        "    trainb = b[:800]\n",
        "\n",
        "    # Calculate x\n",
        "    x = np.linalg.pinv(trainA)@trainb\n",
        "    print(x)\n",
        "\n",
        "    # 2 test sets A and b\n",
        "    # testA here is the first attribute \n",
        "    # These 2 sets are from line 800 to line 1199\n",
        "    testA = att[i][800:1200]\n",
        "    testb = b[800:1200]\n",
        "\n",
        "    # Sum the differences btw the train result and the test one\n",
        "    sum_saiso = 0\n",
        "    for j in range(400):\n",
        "        sum_saiso += testA[j][0] * x[0] - testb[j]\n",
        "    \n",
        "    # Print the average difference btw the train result and the test one\n",
        "    print(sum_saiso / 400)"
      ],
      "execution_count": 39,
      "outputs": [
        {
          "output_type": "stream",
          "text": [
            "[0.60218365 0.        ]\n",
            "-1.0009988794840796\n"
          ],
          "name": "stdout"
        }
      ]
    },
    {
      "cell_type": "code",
      "metadata": {
        "id": "zTBwZO5gDSno",
        "colab_type": "code",
        "colab": {
          "base_uri": "https://localhost:8080/",
          "height": 202
        },
        "outputId": "311ecc42-8228-4c8a-ddc5-bc30cf6a654b"
      },
      "source": [
        "# Test thử trên cả 11 thuộc tính\n",
        "# Tập train và test vẫn chia thành 800 đầu 400 cuối\n",
        "\n",
        "# The saiso array\n",
        "saiso = []\n",
        "\n",
        "# Consider each of the 11 attributes\n",
        "for i in range(11):\n",
        "\n",
        "    # 2 train sets A and b\n",
        "    # trainA here is the first attribute \n",
        "    # These 2 sets are from line 0 to line 799\n",
        "    trainA = att[i][:800]\n",
        "    trainb = b[:800]\n",
        "\n",
        "    # Calculate x\n",
        "    x = np.linalg.pinv(trainA)@trainb\n",
        "    #print(x)\n",
        "\n",
        "    # 2 test sets A and b\n",
        "    # testA here is the first attribute \n",
        "    # These 2 sets are from line 800 to line 1298\n",
        "    testA = att[i][800:1200]\n",
        "    testb = b[800:1200]\n",
        "\n",
        "    # Sum the differences btw the train result and the test one\n",
        "    sum_saiso = 0\n",
        "    for j in range(400):\n",
        "        sum_saiso += testA[j][0] * x[0] - testb[j]\n",
        "    \n",
        "    saiso.append(sum_saiso/400)\n",
        "\n",
        "for each_saiso in saiso:\n",
        "    print(each_saiso)"
      ],
      "execution_count": 40,
      "outputs": [
        {
          "output_type": "stream",
          "text": [
            "-1.0009988794840796\n",
            "-1.5736335486859836\n",
            "-2.4402807273957015\n",
            "-1.6724475830340042\n",
            "-2.313385177891496\n",
            "-1.8229677198625935\n",
            "-3.027381448042614\n",
            "-0.377302918690982\n",
            "-0.31711637660784\n",
            "-0.9460128096918236\n",
            "0.07909009727494934\n"
          ],
          "name": "stdout"
        }
      ]
    },
    {
      "cell_type": "code",
      "metadata": {
        "id": "WlFg08kWv1Bk",
        "colab_type": "code",
        "colab": {}
      },
      "source": [
        "# Test thử trên cả 11 thuộc tính\n",
        "# Tập train và test vẫn chia thành 800 đầu 400 cuối\n",
        "\n",
        "# The saiso array\n",
        "saiso = []\n",
        "\n",
        "# Consider each of the 11 attributes\n",
        "for i in range(11):\n",
        "\n",
        "    # 2 train sets A and b\n",
        "    # trainA here is the first attribute \n",
        "    # These 2 sets are from line 0 to line 799\n",
        "    trainA = att[i][:800]\n",
        "    trainb = b[:800]\n",
        "\n",
        "    # Calculate x\n",
        "    x = np.linalg.pinv(trainA)@trainb\n",
        "    #print(x)\n",
        "\n",
        "    # 2 test sets A and b\n",
        "    # testA here is the first attribute \n",
        "    # These 2 sets are from line 800 to line 1298\n",
        "    testA = att[i][800:1200]\n",
        "    testb = b[800:1200]\n",
        "\n",
        "    # Sum the differences btw the train result and the test one\n",
        "    sum_saiso = 0\n",
        "    for j in range(400):\n",
        "        sum_saiso += testA[j][0] * x[0] - testb[j]\n",
        "    \n",
        "    saiso.append(sum_saiso/400)\n",
        "\n",
        "for each_saiso in saiso:\n",
        "    print(each_saiso)"
      ],
      "execution_count": null,
      "outputs": []
    }
  ]
}