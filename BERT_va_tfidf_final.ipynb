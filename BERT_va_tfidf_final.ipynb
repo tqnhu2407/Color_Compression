{
  "cells": [
    {
      "cell_type": "markdown",
      "metadata": {
        "id": "view-in-github",
        "colab_type": "text"
      },
      "source": [
        "<a href=\"https://colab.research.google.com/github/tqnhu2407/Color_Compression/blob/master/BERT_va_tfidf_final.ipynb\" target=\"_parent\"><img src=\"https://colab.research.google.com/assets/colab-badge.svg\" alt=\"Open In Colab\"/></a>"
      ]
    },
    {
      "cell_type": "code",
      "execution_count": 1,
      "metadata": {
        "colab": {
          "base_uri": "https://localhost:8080/"
        },
        "id": "wtjz6QIvETnO",
        "outputId": "410c4962-dfa9-4633-8e03-793b09ffeff4"
      },
      "outputs": [
        {
          "output_type": "stream",
          "name": "stdout",
          "text": [
            "TensorFlow 1.x selected.\n"
          ]
        }
      ],
      "source": [
        "%tensorflow_version 1.x"
      ]
    },
    {
      "cell_type": "markdown",
      "metadata": {
        "id": "_ojSZ5hvYnvV"
      },
      "source": [
        "# Importing Necessary Libraries"
      ]
    },
    {
      "cell_type": "code",
      "execution_count": 2,
      "metadata": {
        "colab": {
          "base_uri": "https://localhost:8080/"
        },
        "id": "7HmgeXNeF2Ts",
        "outputId": "5867c0e7-babf-4030-87b9-8ae47cd541b0"
      },
      "outputs": [
        {
          "output_type": "stream",
          "name": "stderr",
          "text": [
            "Using TensorFlow backend.\n"
          ]
        }
      ],
      "source": [
        "import keras"
      ]
    },
    {
      "cell_type": "code",
      "execution_count": 3,
      "metadata": {
        "id": "SlW7YHjGz0o5"
      },
      "outputs": [],
      "source": [
        "import os\n",
        "import pandas as pd\n",
        "import numpy as np\n",
        "np.random.seed(1337)\n",
        "from keras import Sequential\n",
        "from keras.utils import Sequence\n",
        "from keras.layers import LSTM, Dense, Masking\n",
        "import numpy as np\n",
        "from keras.utils import np_utils\n",
        "from keras import optimizers\n",
        "from keras.models import Sequential, Model\n",
        "from keras.layers import Embedding, Dense, Input, concatenate, Layer, Lambda, Dropout, Activation\n",
        "import datetime\n",
        "from datetime import datetime\n",
        "from keras.callbacks import ModelCheckpoint, EarlyStopping, Callback, TensorBoard\n",
        "import tensorflow as tf\n",
        "import tensorflow_hub as hub"
      ]
    },
    {
      "cell_type": "markdown",
      "metadata": {
        "id": "3JEJQ70-Ze4X"
      },
      "source": [
        "# Loading The Data"
      ]
    },
    {
      "cell_type": "code",
      "execution_count": 4,
      "metadata": {
        "colab": {
          "base_uri": "https://localhost:8080/",
          "height": 206
        },
        "id": "82TK3tDYzpqm",
        "outputId": "57582abb-756a-4e38-d06b-d6d49252c845"
      },
      "outputs": [
        {
          "output_type": "execute_result",
          "data": {
            "text/plain": [
              "   label                                               text\n",
              "0     10  câu thành_ngữ này trong tiếng anh là a_promise...\n",
              "1      2  trong một chuyến du_lịch trung_quốc chúng_tôi ...\n",
              "2     10  đồng_nghiệp của tôi tổ_chức tiệc cuối tuần họ ...\n",
              "3     11  một nhược_điểm lớn trong quản_lý đất_đai ở nướ...\n",
              "4      0  đi trên các tuyến đường quốc_lộ ở nước ta đôi_..."
            ],
            "text/html": [
              "\n",
              "  <div id=\"df-c1a37606-02d9-464c-8e42-2e549862896e\">\n",
              "    <div class=\"colab-df-container\">\n",
              "      <div>\n",
              "<style scoped>\n",
              "    .dataframe tbody tr th:only-of-type {\n",
              "        vertical-align: middle;\n",
              "    }\n",
              "\n",
              "    .dataframe tbody tr th {\n",
              "        vertical-align: top;\n",
              "    }\n",
              "\n",
              "    .dataframe thead th {\n",
              "        text-align: right;\n",
              "    }\n",
              "</style>\n",
              "<table border=\"1\" class=\"dataframe\">\n",
              "  <thead>\n",
              "    <tr style=\"text-align: right;\">\n",
              "      <th></th>\n",
              "      <th>label</th>\n",
              "      <th>text</th>\n",
              "    </tr>\n",
              "  </thead>\n",
              "  <tbody>\n",
              "    <tr>\n",
              "      <th>0</th>\n",
              "      <td>10</td>\n",
              "      <td>câu thành_ngữ này trong tiếng anh là a_promise...</td>\n",
              "    </tr>\n",
              "    <tr>\n",
              "      <th>1</th>\n",
              "      <td>2</td>\n",
              "      <td>trong một chuyến du_lịch trung_quốc chúng_tôi ...</td>\n",
              "    </tr>\n",
              "    <tr>\n",
              "      <th>2</th>\n",
              "      <td>10</td>\n",
              "      <td>đồng_nghiệp của tôi tổ_chức tiệc cuối tuần họ ...</td>\n",
              "    </tr>\n",
              "    <tr>\n",
              "      <th>3</th>\n",
              "      <td>11</td>\n",
              "      <td>một nhược_điểm lớn trong quản_lý đất_đai ở nướ...</td>\n",
              "    </tr>\n",
              "    <tr>\n",
              "      <th>4</th>\n",
              "      <td>0</td>\n",
              "      <td>đi trên các tuyến đường quốc_lộ ở nước ta đôi_...</td>\n",
              "    </tr>\n",
              "  </tbody>\n",
              "</table>\n",
              "</div>\n",
              "      <button class=\"colab-df-convert\" onclick=\"convertToInteractive('df-c1a37606-02d9-464c-8e42-2e549862896e')\"\n",
              "              title=\"Convert this dataframe to an interactive table.\"\n",
              "              style=\"display:none;\">\n",
              "        \n",
              "  <svg xmlns=\"http://www.w3.org/2000/svg\" height=\"24px\"viewBox=\"0 0 24 24\"\n",
              "       width=\"24px\">\n",
              "    <path d=\"M0 0h24v24H0V0z\" fill=\"none\"/>\n",
              "    <path d=\"M18.56 5.44l.94 2.06.94-2.06 2.06-.94-2.06-.94-.94-2.06-.94 2.06-2.06.94zm-11 1L8.5 8.5l.94-2.06 2.06-.94-2.06-.94L8.5 2.5l-.94 2.06-2.06.94zm10 10l.94 2.06.94-2.06 2.06-.94-2.06-.94-.94-2.06-.94 2.06-2.06.94z\"/><path d=\"M17.41 7.96l-1.37-1.37c-.4-.4-.92-.59-1.43-.59-.52 0-1.04.2-1.43.59L10.3 9.45l-7.72 7.72c-.78.78-.78 2.05 0 2.83L4 21.41c.39.39.9.59 1.41.59.51 0 1.02-.2 1.41-.59l7.78-7.78 2.81-2.81c.8-.78.8-2.07 0-2.86zM5.41 20L4 18.59l7.72-7.72 1.47 1.35L5.41 20z\"/>\n",
              "  </svg>\n",
              "      </button>\n",
              "      \n",
              "  <style>\n",
              "    .colab-df-container {\n",
              "      display:flex;\n",
              "      flex-wrap:wrap;\n",
              "      gap: 12px;\n",
              "    }\n",
              "\n",
              "    .colab-df-convert {\n",
              "      background-color: #E8F0FE;\n",
              "      border: none;\n",
              "      border-radius: 50%;\n",
              "      cursor: pointer;\n",
              "      display: none;\n",
              "      fill: #1967D2;\n",
              "      height: 32px;\n",
              "      padding: 0 0 0 0;\n",
              "      width: 32px;\n",
              "    }\n",
              "\n",
              "    .colab-df-convert:hover {\n",
              "      background-color: #E2EBFA;\n",
              "      box-shadow: 0px 1px 2px rgba(60, 64, 67, 0.3), 0px 1px 3px 1px rgba(60, 64, 67, 0.15);\n",
              "      fill: #174EA6;\n",
              "    }\n",
              "\n",
              "    [theme=dark] .colab-df-convert {\n",
              "      background-color: #3B4455;\n",
              "      fill: #D2E3FC;\n",
              "    }\n",
              "\n",
              "    [theme=dark] .colab-df-convert:hover {\n",
              "      background-color: #434B5C;\n",
              "      box-shadow: 0px 1px 3px 1px rgba(0, 0, 0, 0.15);\n",
              "      filter: drop-shadow(0px 1px 2px rgba(0, 0, 0, 0.3));\n",
              "      fill: #FFFFFF;\n",
              "    }\n",
              "  </style>\n",
              "\n",
              "      <script>\n",
              "        const buttonEl =\n",
              "          document.querySelector('#df-c1a37606-02d9-464c-8e42-2e549862896e button.colab-df-convert');\n",
              "        buttonEl.style.display =\n",
              "          google.colab.kernel.accessAllowed ? 'block' : 'none';\n",
              "\n",
              "        async function convertToInteractive(key) {\n",
              "          const element = document.querySelector('#df-c1a37606-02d9-464c-8e42-2e549862896e');\n",
              "          const dataTable =\n",
              "            await google.colab.kernel.invokeFunction('convertToInteractive',\n",
              "                                                     [key], {});\n",
              "          if (!dataTable) return;\n",
              "\n",
              "          const docLinkHtml = 'Like what you see? Visit the ' +\n",
              "            '<a target=\"_blank\" href=https://colab.research.google.com/notebooks/data_table.ipynb>data table notebook</a>'\n",
              "            + ' to learn more about interactive tables.';\n",
              "          element.innerHTML = '';\n",
              "          dataTable['output_type'] = 'display_data';\n",
              "          await google.colab.output.renderOutput(dataTable, element);\n",
              "          const docLink = document.createElement('div');\n",
              "          docLink.innerHTML = docLinkHtml;\n",
              "          element.appendChild(docLink);\n",
              "        }\n",
              "      </script>\n",
              "    </div>\n",
              "  </div>\n",
              "  "
            ]
          },
          "metadata": {},
          "execution_count": 4
        }
      ],
      "source": [
        "train_raw = pd.read_csv('dataset.csv', encoding='utf8')\n",
        "train_raw['text'] = train_raw['text'].apply(lambda x: x.lower())\n",
        "train_raw.head() # (461, 2)"
      ]
    },
    {
      "cell_type": "markdown",
      "metadata": {
        "id": "TWhbClcM8XaW"
      },
      "source": [
        "# Remove _"
      ]
    },
    {
      "cell_type": "code",
      "execution_count": 5,
      "metadata": {
        "id": "4eFmi2IG8ZIX"
      },
      "outputs": [],
      "source": [
        "def remove_underscope(text):\n",
        "    texts = text.split('_')\n",
        "    return ' '.join(texts)"
      ]
    },
    {
      "cell_type": "code",
      "execution_count": 6,
      "metadata": {
        "id": "zP58kV3k9a5u"
      },
      "outputs": [],
      "source": [
        "train_raw['text'] = train_raw['text'].apply(remove_underscope)"
      ]
    },
    {
      "cell_type": "markdown",
      "metadata": {
        "id": "-Hr1v_VoZqws"
      },
      "source": [
        "# Preprocessing Data"
      ]
    },
    {
      "cell_type": "code",
      "execution_count": 7,
      "metadata": {
        "id": "vjTcB2IElYK-"
      },
      "outputs": [],
      "source": [
        "train = train_raw.copy()"
      ]
    },
    {
      "cell_type": "code",
      "execution_count": 8,
      "metadata": {
        "colab": {
          "base_uri": "https://localhost:8080/",
          "height": 206
        },
        "id": "_KSdpULo4vBM",
        "outputId": "02b5cffd-ebcc-41bb-e517-b936d71196e5"
      },
      "outputs": [
        {
          "output_type": "execute_result",
          "data": {
            "text/plain": [
              "     label                                               text\n",
              "180      6  ở xã thanh hương huyện thanh chương tỉnh nghệ ...\n",
              "182     10  trước khi tham gia chiến trường afghanistan ch...\n",
              "324      5  bác ruột tôi mất tích từ cuối tuần trước hầu h...\n",
              "352     10  năm 2015 tôi mở lớp dạy học tại nhà tôi tự mua...\n",
              "214      1  hơn năm trước tôi nhận được một bộ sách giáo k..."
            ],
            "text/html": [
              "\n",
              "  <div id=\"df-05e25b47-dee0-4ad5-b81d-1a229bdd9aee\">\n",
              "    <div class=\"colab-df-container\">\n",
              "      <div>\n",
              "<style scoped>\n",
              "    .dataframe tbody tr th:only-of-type {\n",
              "        vertical-align: middle;\n",
              "    }\n",
              "\n",
              "    .dataframe tbody tr th {\n",
              "        vertical-align: top;\n",
              "    }\n",
              "\n",
              "    .dataframe thead th {\n",
              "        text-align: right;\n",
              "    }\n",
              "</style>\n",
              "<table border=\"1\" class=\"dataframe\">\n",
              "  <thead>\n",
              "    <tr style=\"text-align: right;\">\n",
              "      <th></th>\n",
              "      <th>label</th>\n",
              "      <th>text</th>\n",
              "    </tr>\n",
              "  </thead>\n",
              "  <tbody>\n",
              "    <tr>\n",
              "      <th>180</th>\n",
              "      <td>6</td>\n",
              "      <td>ở xã thanh hương huyện thanh chương tỉnh nghệ ...</td>\n",
              "    </tr>\n",
              "    <tr>\n",
              "      <th>182</th>\n",
              "      <td>10</td>\n",
              "      <td>trước khi tham gia chiến trường afghanistan ch...</td>\n",
              "    </tr>\n",
              "    <tr>\n",
              "      <th>324</th>\n",
              "      <td>5</td>\n",
              "      <td>bác ruột tôi mất tích từ cuối tuần trước hầu h...</td>\n",
              "    </tr>\n",
              "    <tr>\n",
              "      <th>352</th>\n",
              "      <td>10</td>\n",
              "      <td>năm 2015 tôi mở lớp dạy học tại nhà tôi tự mua...</td>\n",
              "    </tr>\n",
              "    <tr>\n",
              "      <th>214</th>\n",
              "      <td>1</td>\n",
              "      <td>hơn năm trước tôi nhận được một bộ sách giáo k...</td>\n",
              "    </tr>\n",
              "  </tbody>\n",
              "</table>\n",
              "</div>\n",
              "      <button class=\"colab-df-convert\" onclick=\"convertToInteractive('df-05e25b47-dee0-4ad5-b81d-1a229bdd9aee')\"\n",
              "              title=\"Convert this dataframe to an interactive table.\"\n",
              "              style=\"display:none;\">\n",
              "        \n",
              "  <svg xmlns=\"http://www.w3.org/2000/svg\" height=\"24px\"viewBox=\"0 0 24 24\"\n",
              "       width=\"24px\">\n",
              "    <path d=\"M0 0h24v24H0V0z\" fill=\"none\"/>\n",
              "    <path d=\"M18.56 5.44l.94 2.06.94-2.06 2.06-.94-2.06-.94-.94-2.06-.94 2.06-2.06.94zm-11 1L8.5 8.5l.94-2.06 2.06-.94-2.06-.94L8.5 2.5l-.94 2.06-2.06.94zm10 10l.94 2.06.94-2.06 2.06-.94-2.06-.94-.94-2.06-.94 2.06-2.06.94z\"/><path d=\"M17.41 7.96l-1.37-1.37c-.4-.4-.92-.59-1.43-.59-.52 0-1.04.2-1.43.59L10.3 9.45l-7.72 7.72c-.78.78-.78 2.05 0 2.83L4 21.41c.39.39.9.59 1.41.59.51 0 1.02-.2 1.41-.59l7.78-7.78 2.81-2.81c.8-.78.8-2.07 0-2.86zM5.41 20L4 18.59l7.72-7.72 1.47 1.35L5.41 20z\"/>\n",
              "  </svg>\n",
              "      </button>\n",
              "      \n",
              "  <style>\n",
              "    .colab-df-container {\n",
              "      display:flex;\n",
              "      flex-wrap:wrap;\n",
              "      gap: 12px;\n",
              "    }\n",
              "\n",
              "    .colab-df-convert {\n",
              "      background-color: #E8F0FE;\n",
              "      border: none;\n",
              "      border-radius: 50%;\n",
              "      cursor: pointer;\n",
              "      display: none;\n",
              "      fill: #1967D2;\n",
              "      height: 32px;\n",
              "      padding: 0 0 0 0;\n",
              "      width: 32px;\n",
              "    }\n",
              "\n",
              "    .colab-df-convert:hover {\n",
              "      background-color: #E2EBFA;\n",
              "      box-shadow: 0px 1px 2px rgba(60, 64, 67, 0.3), 0px 1px 3px 1px rgba(60, 64, 67, 0.15);\n",
              "      fill: #174EA6;\n",
              "    }\n",
              "\n",
              "    [theme=dark] .colab-df-convert {\n",
              "      background-color: #3B4455;\n",
              "      fill: #D2E3FC;\n",
              "    }\n",
              "\n",
              "    [theme=dark] .colab-df-convert:hover {\n",
              "      background-color: #434B5C;\n",
              "      box-shadow: 0px 1px 3px 1px rgba(0, 0, 0, 0.15);\n",
              "      filter: drop-shadow(0px 1px 2px rgba(0, 0, 0, 0.3));\n",
              "      fill: #FFFFFF;\n",
              "    }\n",
              "  </style>\n",
              "\n",
              "      <script>\n",
              "        const buttonEl =\n",
              "          document.querySelector('#df-05e25b47-dee0-4ad5-b81d-1a229bdd9aee button.colab-df-convert');\n",
              "        buttonEl.style.display =\n",
              "          google.colab.kernel.accessAllowed ? 'block' : 'none';\n",
              "\n",
              "        async function convertToInteractive(key) {\n",
              "          const element = document.querySelector('#df-05e25b47-dee0-4ad5-b81d-1a229bdd9aee');\n",
              "          const dataTable =\n",
              "            await google.colab.kernel.invokeFunction('convertToInteractive',\n",
              "                                                     [key], {});\n",
              "          if (!dataTable) return;\n",
              "\n",
              "          const docLinkHtml = 'Like what you see? Visit the ' +\n",
              "            '<a target=\"_blank\" href=https://colab.research.google.com/notebooks/data_table.ipynb>data table notebook</a>'\n",
              "            + ' to learn more about interactive tables.';\n",
              "          element.innerHTML = '';\n",
              "          dataTable['output_type'] = 'display_data';\n",
              "          await google.colab.output.renderOutput(dataTable, element);\n",
              "          const docLink = document.createElement('div');\n",
              "          docLink.innerHTML = docLinkHtml;\n",
              "          element.appendChild(docLink);\n",
              "        }\n",
              "      </script>\n",
              "    </div>\n",
              "  </div>\n",
              "  "
            ]
          },
          "metadata": {},
          "execution_count": 8
        }
      ],
      "source": [
        "train = train.reindex(np.random.permutation(train.index))\n",
        "train.head()"
      ]
    },
    {
      "cell_type": "markdown",
      "metadata": {
        "id": "CJaaGqEC61Tw"
      },
      "source": [
        "Clean the text columns"
      ]
    },
    {
      "cell_type": "code",
      "execution_count": 9,
      "metadata": {
        "id": "lFLkBvrnyKnt"
      },
      "outputs": [],
      "source": [
        "import re\n",
        "def clean_txt(text):\n",
        "  text = re.sub(\"'\", \"\",text)\n",
        "  text=re.sub(\"(\\\\W)+\",\" \",text)    \n",
        "  return text"
      ]
    },
    {
      "cell_type": "code",
      "execution_count": 10,
      "metadata": {
        "colab": {
          "base_uri": "https://localhost:8080/",
          "height": 206
        },
        "id": "C4yHuGEayROw",
        "outputId": "8ee66b7d-abca-417a-aab5-c60aa22e669d"
      },
      "outputs": [
        {
          "output_type": "execute_result",
          "data": {
            "text/plain": [
              "     label                                               text\n",
              "180      6  ở xã thanh hương huyện thanh chương tỉnh nghệ ...\n",
              "182     10  trước khi tham gia chiến trường afghanistan ch...\n",
              "324      5  bác ruột tôi mất tích từ cuối tuần trước hầu h...\n",
              "352     10  năm 2015 tôi mở lớp dạy học tại nhà tôi tự mua...\n",
              "214      1  hơn năm trước tôi nhận được một bộ sách giáo k..."
            ],
            "text/html": [
              "\n",
              "  <div id=\"df-4eda473d-aa3b-4249-b3ce-3cf4951beb9a\">\n",
              "    <div class=\"colab-df-container\">\n",
              "      <div>\n",
              "<style scoped>\n",
              "    .dataframe tbody tr th:only-of-type {\n",
              "        vertical-align: middle;\n",
              "    }\n",
              "\n",
              "    .dataframe tbody tr th {\n",
              "        vertical-align: top;\n",
              "    }\n",
              "\n",
              "    .dataframe thead th {\n",
              "        text-align: right;\n",
              "    }\n",
              "</style>\n",
              "<table border=\"1\" class=\"dataframe\">\n",
              "  <thead>\n",
              "    <tr style=\"text-align: right;\">\n",
              "      <th></th>\n",
              "      <th>label</th>\n",
              "      <th>text</th>\n",
              "    </tr>\n",
              "  </thead>\n",
              "  <tbody>\n",
              "    <tr>\n",
              "      <th>180</th>\n",
              "      <td>6</td>\n",
              "      <td>ở xã thanh hương huyện thanh chương tỉnh nghệ ...</td>\n",
              "    </tr>\n",
              "    <tr>\n",
              "      <th>182</th>\n",
              "      <td>10</td>\n",
              "      <td>trước khi tham gia chiến trường afghanistan ch...</td>\n",
              "    </tr>\n",
              "    <tr>\n",
              "      <th>324</th>\n",
              "      <td>5</td>\n",
              "      <td>bác ruột tôi mất tích từ cuối tuần trước hầu h...</td>\n",
              "    </tr>\n",
              "    <tr>\n",
              "      <th>352</th>\n",
              "      <td>10</td>\n",
              "      <td>năm 2015 tôi mở lớp dạy học tại nhà tôi tự mua...</td>\n",
              "    </tr>\n",
              "    <tr>\n",
              "      <th>214</th>\n",
              "      <td>1</td>\n",
              "      <td>hơn năm trước tôi nhận được một bộ sách giáo k...</td>\n",
              "    </tr>\n",
              "  </tbody>\n",
              "</table>\n",
              "</div>\n",
              "      <button class=\"colab-df-convert\" onclick=\"convertToInteractive('df-4eda473d-aa3b-4249-b3ce-3cf4951beb9a')\"\n",
              "              title=\"Convert this dataframe to an interactive table.\"\n",
              "              style=\"display:none;\">\n",
              "        \n",
              "  <svg xmlns=\"http://www.w3.org/2000/svg\" height=\"24px\"viewBox=\"0 0 24 24\"\n",
              "       width=\"24px\">\n",
              "    <path d=\"M0 0h24v24H0V0z\" fill=\"none\"/>\n",
              "    <path d=\"M18.56 5.44l.94 2.06.94-2.06 2.06-.94-2.06-.94-.94-2.06-.94 2.06-2.06.94zm-11 1L8.5 8.5l.94-2.06 2.06-.94-2.06-.94L8.5 2.5l-.94 2.06-2.06.94zm10 10l.94 2.06.94-2.06 2.06-.94-2.06-.94-.94-2.06-.94 2.06-2.06.94z\"/><path d=\"M17.41 7.96l-1.37-1.37c-.4-.4-.92-.59-1.43-.59-.52 0-1.04.2-1.43.59L10.3 9.45l-7.72 7.72c-.78.78-.78 2.05 0 2.83L4 21.41c.39.39.9.59 1.41.59.51 0 1.02-.2 1.41-.59l7.78-7.78 2.81-2.81c.8-.78.8-2.07 0-2.86zM5.41 20L4 18.59l7.72-7.72 1.47 1.35L5.41 20z\"/>\n",
              "  </svg>\n",
              "      </button>\n",
              "      \n",
              "  <style>\n",
              "    .colab-df-container {\n",
              "      display:flex;\n",
              "      flex-wrap:wrap;\n",
              "      gap: 12px;\n",
              "    }\n",
              "\n",
              "    .colab-df-convert {\n",
              "      background-color: #E8F0FE;\n",
              "      border: none;\n",
              "      border-radius: 50%;\n",
              "      cursor: pointer;\n",
              "      display: none;\n",
              "      fill: #1967D2;\n",
              "      height: 32px;\n",
              "      padding: 0 0 0 0;\n",
              "      width: 32px;\n",
              "    }\n",
              "\n",
              "    .colab-df-convert:hover {\n",
              "      background-color: #E2EBFA;\n",
              "      box-shadow: 0px 1px 2px rgba(60, 64, 67, 0.3), 0px 1px 3px 1px rgba(60, 64, 67, 0.15);\n",
              "      fill: #174EA6;\n",
              "    }\n",
              "\n",
              "    [theme=dark] .colab-df-convert {\n",
              "      background-color: #3B4455;\n",
              "      fill: #D2E3FC;\n",
              "    }\n",
              "\n",
              "    [theme=dark] .colab-df-convert:hover {\n",
              "      background-color: #434B5C;\n",
              "      box-shadow: 0px 1px 3px 1px rgba(0, 0, 0, 0.15);\n",
              "      filter: drop-shadow(0px 1px 2px rgba(0, 0, 0, 0.3));\n",
              "      fill: #FFFFFF;\n",
              "    }\n",
              "  </style>\n",
              "\n",
              "      <script>\n",
              "        const buttonEl =\n",
              "          document.querySelector('#df-4eda473d-aa3b-4249-b3ce-3cf4951beb9a button.colab-df-convert');\n",
              "        buttonEl.style.display =\n",
              "          google.colab.kernel.accessAllowed ? 'block' : 'none';\n",
              "\n",
              "        async function convertToInteractive(key) {\n",
              "          const element = document.querySelector('#df-4eda473d-aa3b-4249-b3ce-3cf4951beb9a');\n",
              "          const dataTable =\n",
              "            await google.colab.kernel.invokeFunction('convertToInteractive',\n",
              "                                                     [key], {});\n",
              "          if (!dataTable) return;\n",
              "\n",
              "          const docLinkHtml = 'Like what you see? Visit the ' +\n",
              "            '<a target=\"_blank\" href=https://colab.research.google.com/notebooks/data_table.ipynb>data table notebook</a>'\n",
              "            + ' to learn more about interactive tables.';\n",
              "          element.innerHTML = '';\n",
              "          dataTable['output_type'] = 'display_data';\n",
              "          await google.colab.output.renderOutput(dataTable, element);\n",
              "          const docLink = document.createElement('div');\n",
              "          docLink.innerHTML = docLinkHtml;\n",
              "          element.appendChild(docLink);\n",
              "        }\n",
              "      </script>\n",
              "    </div>\n",
              "  </div>\n",
              "  "
            ]
          },
          "metadata": {},
          "execution_count": 10
        }
      ],
      "source": [
        "train['text']  = train.text.apply(clean_txt)\n",
        "train.head()"
      ]
    },
    {
      "cell_type": "code",
      "execution_count": 11,
      "metadata": {
        "id": "BaqiECFhdUJm"
      },
      "outputs": [],
      "source": [
        "from textblob import TextBlob\n",
        "import nltk\n",
        "import string\n",
        "def text_preproc(x):\n",
        "  x = x.lower()\n",
        "  x = x.encode('utf8', 'ignore').decode()\n",
        "  x = x.replace('\\n', ' ')\n",
        "  x = re.sub(r'https*\\S+', ' ', x)\n",
        "  x = re.sub(r'@\\S+', ' ', x)\n",
        "  x = re.sub(r'#\\S+', ' ', x)\n",
        "  x = re.sub(r'\\'\\w+', '', x)\n",
        "  x = re.sub('[%s]' % re.escape(string.punctuation), ' ', x)\n",
        "  x = re.sub(r'\\w*\\d+\\w*', '', x)\n",
        "  x = re.sub(r'\\s{2,}', ' ', x)\n",
        "  return x\n",
        "\n",
        "train['clean_text'] = train.text.apply(text_preproc)\n",
        "train = train.sample(frac=1).reset_index(drop=True)"
      ]
    },
    {
      "cell_type": "markdown",
      "source": [
        "# Add tf-idf"
      ],
      "metadata": {
        "id": "SUFVXTp7TMZP"
      }
    },
    {
      "cell_type": "code",
      "execution_count": 12,
      "metadata": {
        "colab": {
          "base_uri": "https://localhost:8080/",
          "height": 523
        },
        "id": "OyOS6ZHOd446",
        "outputId": "06ab179d-044c-480e-82b5-c960bfd1d11b"
      },
      "outputs": [
        {
          "output_type": "stream",
          "name": "stderr",
          "text": [
            "/usr/local/lib/python3.7/dist-packages/sklearn/utils/deprecation.py:87: FutureWarning: Function get_feature_names is deprecated; get_feature_names is deprecated in 1.0 and will be removed in 1.2. Please use get_feature_names_out instead.\n",
            "  warnings.warn(msg, category=FutureWarning)\n"
          ]
        },
        {
          "output_type": "execute_result",
          "data": {
            "text/plain": [
              "     aarhus  abbott  abe  abercrombie  abor  academic  acb  accademy  \\\n",
              "0       0.0     0.0  0.0          0.0   0.0       0.0  0.0       0.0   \n",
              "1       0.0     0.0  0.0          0.0   0.0       0.0  0.0       0.0   \n",
              "2       0.0     0.0  0.0          0.0   0.0       0.0  0.0       0.0   \n",
              "3       0.0     0.0  0.0          0.0   0.0       0.0  0.0       0.0   \n",
              "4       0.0     0.0  0.0          0.0   0.0       0.0  0.0       0.0   \n",
              "..      ...     ...  ...          ...   ...       ...  ...       ...   \n",
              "456     0.0     0.0  0.0          0.0   0.0       0.0  0.0       0.0   \n",
              "457     0.0     0.0  0.0          0.0   0.0       0.0  0.0       0.0   \n",
              "458     0.0     0.0  0.0          0.0   0.0       0.0  0.0       0.0   \n",
              "459     0.0     0.0  0.0          0.0   0.0       0.0  0.0       0.0   \n",
              "460     0.0     0.0  0.0          0.0   0.0       0.0  0.0       0.0   \n",
              "\n",
              "     acemoglu  acetate  ...   ộp   ớn   ớt   ục   ụp   ủa   ủi       ủng   ức  \\\n",
              "0         0.0      0.0  ...  0.0  0.0  0.0  0.0  0.0  0.0  0.0  0.022817  0.0   \n",
              "1         0.0      0.0  ...  0.0  0.0  0.0  0.0  0.0  0.0  0.0  0.000000  0.0   \n",
              "2         0.0      0.0  ...  0.0  0.0  0.0  0.0  0.0  0.0  0.0  0.000000  0.0   \n",
              "3         0.0      0.0  ...  0.0  0.0  0.0  0.0  0.0  0.0  0.0  0.000000  0.0   \n",
              "4         0.0      0.0  ...  0.0  0.0  0.0  0.0  0.0  0.0  0.0  0.000000  0.0   \n",
              "..        ...      ...  ...  ...  ...  ...  ...  ...  ...  ...       ...  ...   \n",
              "456       0.0      0.0  ...  0.0  0.0  0.0  0.0  0.0  0.0  0.0  0.000000  0.0   \n",
              "457       0.0      0.0  ...  0.0  0.0  0.0  0.0  0.0  0.0  0.0  0.000000  0.0   \n",
              "458       0.0      0.0  ...  0.0  0.0  0.0  0.0  0.0  0.0  0.0  0.000000  0.0   \n",
              "459       0.0      0.0  ...  0.0  0.0  0.0  0.0  0.0  0.0  0.0  0.000000  0.0   \n",
              "460       0.0      0.0  ...  0.0  0.0  0.0  0.0  0.0  0.0  0.0  0.000000  0.0   \n",
              "\n",
              "          ứng  \n",
              "0    0.074272  \n",
              "1    0.000000  \n",
              "2    0.000000  \n",
              "3    0.000000  \n",
              "4    0.000000  \n",
              "..        ...  \n",
              "456  0.000000  \n",
              "457  0.017885  \n",
              "458  0.013181  \n",
              "459  0.015510  \n",
              "460  0.019797  \n",
              "\n",
              "[461 rows x 5756 columns]"
            ],
            "text/html": [
              "\n",
              "  <div id=\"df-8729e56a-4a3b-47cd-b472-d618f6cc8f38\">\n",
              "    <div class=\"colab-df-container\">\n",
              "      <div>\n",
              "<style scoped>\n",
              "    .dataframe tbody tr th:only-of-type {\n",
              "        vertical-align: middle;\n",
              "    }\n",
              "\n",
              "    .dataframe tbody tr th {\n",
              "        vertical-align: top;\n",
              "    }\n",
              "\n",
              "    .dataframe thead th {\n",
              "        text-align: right;\n",
              "    }\n",
              "</style>\n",
              "<table border=\"1\" class=\"dataframe\">\n",
              "  <thead>\n",
              "    <tr style=\"text-align: right;\">\n",
              "      <th></th>\n",
              "      <th>aarhus</th>\n",
              "      <th>abbott</th>\n",
              "      <th>abe</th>\n",
              "      <th>abercrombie</th>\n",
              "      <th>abor</th>\n",
              "      <th>academic</th>\n",
              "      <th>acb</th>\n",
              "      <th>accademy</th>\n",
              "      <th>acemoglu</th>\n",
              "      <th>acetate</th>\n",
              "      <th>...</th>\n",
              "      <th>ộp</th>\n",
              "      <th>ớn</th>\n",
              "      <th>ớt</th>\n",
              "      <th>ục</th>\n",
              "      <th>ụp</th>\n",
              "      <th>ủa</th>\n",
              "      <th>ủi</th>\n",
              "      <th>ủng</th>\n",
              "      <th>ức</th>\n",
              "      <th>ứng</th>\n",
              "    </tr>\n",
              "  </thead>\n",
              "  <tbody>\n",
              "    <tr>\n",
              "      <th>0</th>\n",
              "      <td>0.0</td>\n",
              "      <td>0.0</td>\n",
              "      <td>0.0</td>\n",
              "      <td>0.0</td>\n",
              "      <td>0.0</td>\n",
              "      <td>0.0</td>\n",
              "      <td>0.0</td>\n",
              "      <td>0.0</td>\n",
              "      <td>0.0</td>\n",
              "      <td>0.0</td>\n",
              "      <td>...</td>\n",
              "      <td>0.0</td>\n",
              "      <td>0.0</td>\n",
              "      <td>0.0</td>\n",
              "      <td>0.0</td>\n",
              "      <td>0.0</td>\n",
              "      <td>0.0</td>\n",
              "      <td>0.0</td>\n",
              "      <td>0.022817</td>\n",
              "      <td>0.0</td>\n",
              "      <td>0.074272</td>\n",
              "    </tr>\n",
              "    <tr>\n",
              "      <th>1</th>\n",
              "      <td>0.0</td>\n",
              "      <td>0.0</td>\n",
              "      <td>0.0</td>\n",
              "      <td>0.0</td>\n",
              "      <td>0.0</td>\n",
              "      <td>0.0</td>\n",
              "      <td>0.0</td>\n",
              "      <td>0.0</td>\n",
              "      <td>0.0</td>\n",
              "      <td>0.0</td>\n",
              "      <td>...</td>\n",
              "      <td>0.0</td>\n",
              "      <td>0.0</td>\n",
              "      <td>0.0</td>\n",
              "      <td>0.0</td>\n",
              "      <td>0.0</td>\n",
              "      <td>0.0</td>\n",
              "      <td>0.0</td>\n",
              "      <td>0.000000</td>\n",
              "      <td>0.0</td>\n",
              "      <td>0.000000</td>\n",
              "    </tr>\n",
              "    <tr>\n",
              "      <th>2</th>\n",
              "      <td>0.0</td>\n",
              "      <td>0.0</td>\n",
              "      <td>0.0</td>\n",
              "      <td>0.0</td>\n",
              "      <td>0.0</td>\n",
              "      <td>0.0</td>\n",
              "      <td>0.0</td>\n",
              "      <td>0.0</td>\n",
              "      <td>0.0</td>\n",
              "      <td>0.0</td>\n",
              "      <td>...</td>\n",
              "      <td>0.0</td>\n",
              "      <td>0.0</td>\n",
              "      <td>0.0</td>\n",
              "      <td>0.0</td>\n",
              "      <td>0.0</td>\n",
              "      <td>0.0</td>\n",
              "      <td>0.0</td>\n",
              "      <td>0.000000</td>\n",
              "      <td>0.0</td>\n",
              "      <td>0.000000</td>\n",
              "    </tr>\n",
              "    <tr>\n",
              "      <th>3</th>\n",
              "      <td>0.0</td>\n",
              "      <td>0.0</td>\n",
              "      <td>0.0</td>\n",
              "      <td>0.0</td>\n",
              "      <td>0.0</td>\n",
              "      <td>0.0</td>\n",
              "      <td>0.0</td>\n",
              "      <td>0.0</td>\n",
              "      <td>0.0</td>\n",
              "      <td>0.0</td>\n",
              "      <td>...</td>\n",
              "      <td>0.0</td>\n",
              "      <td>0.0</td>\n",
              "      <td>0.0</td>\n",
              "      <td>0.0</td>\n",
              "      <td>0.0</td>\n",
              "      <td>0.0</td>\n",
              "      <td>0.0</td>\n",
              "      <td>0.000000</td>\n",
              "      <td>0.0</td>\n",
              "      <td>0.000000</td>\n",
              "    </tr>\n",
              "    <tr>\n",
              "      <th>4</th>\n",
              "      <td>0.0</td>\n",
              "      <td>0.0</td>\n",
              "      <td>0.0</td>\n",
              "      <td>0.0</td>\n",
              "      <td>0.0</td>\n",
              "      <td>0.0</td>\n",
              "      <td>0.0</td>\n",
              "      <td>0.0</td>\n",
              "      <td>0.0</td>\n",
              "      <td>0.0</td>\n",
              "      <td>...</td>\n",
              "      <td>0.0</td>\n",
              "      <td>0.0</td>\n",
              "      <td>0.0</td>\n",
              "      <td>0.0</td>\n",
              "      <td>0.0</td>\n",
              "      <td>0.0</td>\n",
              "      <td>0.0</td>\n",
              "      <td>0.000000</td>\n",
              "      <td>0.0</td>\n",
              "      <td>0.000000</td>\n",
              "    </tr>\n",
              "    <tr>\n",
              "      <th>...</th>\n",
              "      <td>...</td>\n",
              "      <td>...</td>\n",
              "      <td>...</td>\n",
              "      <td>...</td>\n",
              "      <td>...</td>\n",
              "      <td>...</td>\n",
              "      <td>...</td>\n",
              "      <td>...</td>\n",
              "      <td>...</td>\n",
              "      <td>...</td>\n",
              "      <td>...</td>\n",
              "      <td>...</td>\n",
              "      <td>...</td>\n",
              "      <td>...</td>\n",
              "      <td>...</td>\n",
              "      <td>...</td>\n",
              "      <td>...</td>\n",
              "      <td>...</td>\n",
              "      <td>...</td>\n",
              "      <td>...</td>\n",
              "      <td>...</td>\n",
              "    </tr>\n",
              "    <tr>\n",
              "      <th>456</th>\n",
              "      <td>0.0</td>\n",
              "      <td>0.0</td>\n",
              "      <td>0.0</td>\n",
              "      <td>0.0</td>\n",
              "      <td>0.0</td>\n",
              "      <td>0.0</td>\n",
              "      <td>0.0</td>\n",
              "      <td>0.0</td>\n",
              "      <td>0.0</td>\n",
              "      <td>0.0</td>\n",
              "      <td>...</td>\n",
              "      <td>0.0</td>\n",
              "      <td>0.0</td>\n",
              "      <td>0.0</td>\n",
              "      <td>0.0</td>\n",
              "      <td>0.0</td>\n",
              "      <td>0.0</td>\n",
              "      <td>0.0</td>\n",
              "      <td>0.000000</td>\n",
              "      <td>0.0</td>\n",
              "      <td>0.000000</td>\n",
              "    </tr>\n",
              "    <tr>\n",
              "      <th>457</th>\n",
              "      <td>0.0</td>\n",
              "      <td>0.0</td>\n",
              "      <td>0.0</td>\n",
              "      <td>0.0</td>\n",
              "      <td>0.0</td>\n",
              "      <td>0.0</td>\n",
              "      <td>0.0</td>\n",
              "      <td>0.0</td>\n",
              "      <td>0.0</td>\n",
              "      <td>0.0</td>\n",
              "      <td>...</td>\n",
              "      <td>0.0</td>\n",
              "      <td>0.0</td>\n",
              "      <td>0.0</td>\n",
              "      <td>0.0</td>\n",
              "      <td>0.0</td>\n",
              "      <td>0.0</td>\n",
              "      <td>0.0</td>\n",
              "      <td>0.000000</td>\n",
              "      <td>0.0</td>\n",
              "      <td>0.017885</td>\n",
              "    </tr>\n",
              "    <tr>\n",
              "      <th>458</th>\n",
              "      <td>0.0</td>\n",
              "      <td>0.0</td>\n",
              "      <td>0.0</td>\n",
              "      <td>0.0</td>\n",
              "      <td>0.0</td>\n",
              "      <td>0.0</td>\n",
              "      <td>0.0</td>\n",
              "      <td>0.0</td>\n",
              "      <td>0.0</td>\n",
              "      <td>0.0</td>\n",
              "      <td>...</td>\n",
              "      <td>0.0</td>\n",
              "      <td>0.0</td>\n",
              "      <td>0.0</td>\n",
              "      <td>0.0</td>\n",
              "      <td>0.0</td>\n",
              "      <td>0.0</td>\n",
              "      <td>0.0</td>\n",
              "      <td>0.000000</td>\n",
              "      <td>0.0</td>\n",
              "      <td>0.013181</td>\n",
              "    </tr>\n",
              "    <tr>\n",
              "      <th>459</th>\n",
              "      <td>0.0</td>\n",
              "      <td>0.0</td>\n",
              "      <td>0.0</td>\n",
              "      <td>0.0</td>\n",
              "      <td>0.0</td>\n",
              "      <td>0.0</td>\n",
              "      <td>0.0</td>\n",
              "      <td>0.0</td>\n",
              "      <td>0.0</td>\n",
              "      <td>0.0</td>\n",
              "      <td>...</td>\n",
              "      <td>0.0</td>\n",
              "      <td>0.0</td>\n",
              "      <td>0.0</td>\n",
              "      <td>0.0</td>\n",
              "      <td>0.0</td>\n",
              "      <td>0.0</td>\n",
              "      <td>0.0</td>\n",
              "      <td>0.000000</td>\n",
              "      <td>0.0</td>\n",
              "      <td>0.015510</td>\n",
              "    </tr>\n",
              "    <tr>\n",
              "      <th>460</th>\n",
              "      <td>0.0</td>\n",
              "      <td>0.0</td>\n",
              "      <td>0.0</td>\n",
              "      <td>0.0</td>\n",
              "      <td>0.0</td>\n",
              "      <td>0.0</td>\n",
              "      <td>0.0</td>\n",
              "      <td>0.0</td>\n",
              "      <td>0.0</td>\n",
              "      <td>0.0</td>\n",
              "      <td>...</td>\n",
              "      <td>0.0</td>\n",
              "      <td>0.0</td>\n",
              "      <td>0.0</td>\n",
              "      <td>0.0</td>\n",
              "      <td>0.0</td>\n",
              "      <td>0.0</td>\n",
              "      <td>0.0</td>\n",
              "      <td>0.000000</td>\n",
              "      <td>0.0</td>\n",
              "      <td>0.019797</td>\n",
              "    </tr>\n",
              "  </tbody>\n",
              "</table>\n",
              "<p>461 rows × 5756 columns</p>\n",
              "</div>\n",
              "      <button class=\"colab-df-convert\" onclick=\"convertToInteractive('df-8729e56a-4a3b-47cd-b472-d618f6cc8f38')\"\n",
              "              title=\"Convert this dataframe to an interactive table.\"\n",
              "              style=\"display:none;\">\n",
              "        \n",
              "  <svg xmlns=\"http://www.w3.org/2000/svg\" height=\"24px\"viewBox=\"0 0 24 24\"\n",
              "       width=\"24px\">\n",
              "    <path d=\"M0 0h24v24H0V0z\" fill=\"none\"/>\n",
              "    <path d=\"M18.56 5.44l.94 2.06.94-2.06 2.06-.94-2.06-.94-.94-2.06-.94 2.06-2.06.94zm-11 1L8.5 8.5l.94-2.06 2.06-.94-2.06-.94L8.5 2.5l-.94 2.06-2.06.94zm10 10l.94 2.06.94-2.06 2.06-.94-2.06-.94-.94-2.06-.94 2.06-2.06.94z\"/><path d=\"M17.41 7.96l-1.37-1.37c-.4-.4-.92-.59-1.43-.59-.52 0-1.04.2-1.43.59L10.3 9.45l-7.72 7.72c-.78.78-.78 2.05 0 2.83L4 21.41c.39.39.9.59 1.41.59.51 0 1.02-.2 1.41-.59l7.78-7.78 2.81-2.81c.8-.78.8-2.07 0-2.86zM5.41 20L4 18.59l7.72-7.72 1.47 1.35L5.41 20z\"/>\n",
              "  </svg>\n",
              "      </button>\n",
              "      \n",
              "  <style>\n",
              "    .colab-df-container {\n",
              "      display:flex;\n",
              "      flex-wrap:wrap;\n",
              "      gap: 12px;\n",
              "    }\n",
              "\n",
              "    .colab-df-convert {\n",
              "      background-color: #E8F0FE;\n",
              "      border: none;\n",
              "      border-radius: 50%;\n",
              "      cursor: pointer;\n",
              "      display: none;\n",
              "      fill: #1967D2;\n",
              "      height: 32px;\n",
              "      padding: 0 0 0 0;\n",
              "      width: 32px;\n",
              "    }\n",
              "\n",
              "    .colab-df-convert:hover {\n",
              "      background-color: #E2EBFA;\n",
              "      box-shadow: 0px 1px 2px rgba(60, 64, 67, 0.3), 0px 1px 3px 1px rgba(60, 64, 67, 0.15);\n",
              "      fill: #174EA6;\n",
              "    }\n",
              "\n",
              "    [theme=dark] .colab-df-convert {\n",
              "      background-color: #3B4455;\n",
              "      fill: #D2E3FC;\n",
              "    }\n",
              "\n",
              "    [theme=dark] .colab-df-convert:hover {\n",
              "      background-color: #434B5C;\n",
              "      box-shadow: 0px 1px 3px 1px rgba(0, 0, 0, 0.15);\n",
              "      filter: drop-shadow(0px 1px 2px rgba(0, 0, 0, 0.3));\n",
              "      fill: #FFFFFF;\n",
              "    }\n",
              "  </style>\n",
              "\n",
              "      <script>\n",
              "        const buttonEl =\n",
              "          document.querySelector('#df-8729e56a-4a3b-47cd-b472-d618f6cc8f38 button.colab-df-convert');\n",
              "        buttonEl.style.display =\n",
              "          google.colab.kernel.accessAllowed ? 'block' : 'none';\n",
              "\n",
              "        async function convertToInteractive(key) {\n",
              "          const element = document.querySelector('#df-8729e56a-4a3b-47cd-b472-d618f6cc8f38');\n",
              "          const dataTable =\n",
              "            await google.colab.kernel.invokeFunction('convertToInteractive',\n",
              "                                                     [key], {});\n",
              "          if (!dataTable) return;\n",
              "\n",
              "          const docLinkHtml = 'Like what you see? Visit the ' +\n",
              "            '<a target=\"_blank\" href=https://colab.research.google.com/notebooks/data_table.ipynb>data table notebook</a>'\n",
              "            + ' to learn more about interactive tables.';\n",
              "          element.innerHTML = '';\n",
              "          dataTable['output_type'] = 'display_data';\n",
              "          await google.colab.output.renderOutput(dataTable, element);\n",
              "          const docLink = document.createElement('div');\n",
              "          docLink.innerHTML = docLinkHtml;\n",
              "          element.appendChild(docLink);\n",
              "        }\n",
              "      </script>\n",
              "    </div>\n",
              "  </div>\n",
              "  "
            ]
          },
          "metadata": {},
          "execution_count": 12
        }
      ],
      "source": [
        "from sklearn.feature_extraction.text import TfidfVectorizer\n",
        "vectorizer = TfidfVectorizer()\n",
        "X_tfidf = vectorizer.fit_transform(train['clean_text']).toarray()\n",
        "train_tfidf = pd.DataFrame(X_tfidf, columns=vectorizer.get_feature_names())\n",
        "train_tfidf"
      ]
    },
    {
      "cell_type": "code",
      "source": [
        "train_combined = pd.concat([train, train_tfidf], axis=1)"
      ],
      "metadata": {
        "id": "qy518qdbU2wn"
      },
      "execution_count": 13,
      "outputs": []
    },
    {
      "cell_type": "code",
      "source": [
        "train_combined.head(2)"
      ],
      "metadata": {
        "colab": {
          "base_uri": "https://localhost:8080/",
          "height": 448
        },
        "id": "j5bkkUCoVSz2",
        "outputId": "9c9b1846-4cbc-41a8-ad1a-c058aabfda83"
      },
      "execution_count": 14,
      "outputs": [
        {
          "output_type": "execute_result",
          "data": {
            "text/plain": [
              "   label                                               text  \\\n",
              "0      4  bữa trưa của tôi thường diễn ra trên vỉa hè hà...   \n",
              "1     11  lê quốc thắng viết phố xa năm 1989 vì tình cờ ...   \n",
              "\n",
              "                                          clean_text  aarhus  abbott  abe  \\\n",
              "0  bữa trưa của tôi thường diễn ra trên vỉa hè hà...     0.0     0.0  0.0   \n",
              "1  lê quốc thắng viết phố xa năm vì tình cờ gặp b...     0.0     0.0  0.0   \n",
              "\n",
              "   abercrombie  abor  academic  acb  ...   ộp   ớn   ớt   ục   ụp   ủa   ủi  \\\n",
              "0          0.0   0.0       0.0  0.0  ...  0.0  0.0  0.0  0.0  0.0  0.0  0.0   \n",
              "1          0.0   0.0       0.0  0.0  ...  0.0  0.0  0.0  0.0  0.0  0.0  0.0   \n",
              "\n",
              "        ủng   ức       ứng  \n",
              "0  0.022817  0.0  0.074272  \n",
              "1  0.000000  0.0  0.000000  \n",
              "\n",
              "[2 rows x 5759 columns]"
            ],
            "text/html": [
              "\n",
              "  <div id=\"df-34599b1f-6c10-44e8-8bc4-628f5d6a9e90\">\n",
              "    <div class=\"colab-df-container\">\n",
              "      <div>\n",
              "<style scoped>\n",
              "    .dataframe tbody tr th:only-of-type {\n",
              "        vertical-align: middle;\n",
              "    }\n",
              "\n",
              "    .dataframe tbody tr th {\n",
              "        vertical-align: top;\n",
              "    }\n",
              "\n",
              "    .dataframe thead th {\n",
              "        text-align: right;\n",
              "    }\n",
              "</style>\n",
              "<table border=\"1\" class=\"dataframe\">\n",
              "  <thead>\n",
              "    <tr style=\"text-align: right;\">\n",
              "      <th></th>\n",
              "      <th>label</th>\n",
              "      <th>text</th>\n",
              "      <th>clean_text</th>\n",
              "      <th>aarhus</th>\n",
              "      <th>abbott</th>\n",
              "      <th>abe</th>\n",
              "      <th>abercrombie</th>\n",
              "      <th>abor</th>\n",
              "      <th>academic</th>\n",
              "      <th>acb</th>\n",
              "      <th>...</th>\n",
              "      <th>ộp</th>\n",
              "      <th>ớn</th>\n",
              "      <th>ớt</th>\n",
              "      <th>ục</th>\n",
              "      <th>ụp</th>\n",
              "      <th>ủa</th>\n",
              "      <th>ủi</th>\n",
              "      <th>ủng</th>\n",
              "      <th>ức</th>\n",
              "      <th>ứng</th>\n",
              "    </tr>\n",
              "  </thead>\n",
              "  <tbody>\n",
              "    <tr>\n",
              "      <th>0</th>\n",
              "      <td>4</td>\n",
              "      <td>bữa trưa của tôi thường diễn ra trên vỉa hè hà...</td>\n",
              "      <td>bữa trưa của tôi thường diễn ra trên vỉa hè hà...</td>\n",
              "      <td>0.0</td>\n",
              "      <td>0.0</td>\n",
              "      <td>0.0</td>\n",
              "      <td>0.0</td>\n",
              "      <td>0.0</td>\n",
              "      <td>0.0</td>\n",
              "      <td>0.0</td>\n",
              "      <td>...</td>\n",
              "      <td>0.0</td>\n",
              "      <td>0.0</td>\n",
              "      <td>0.0</td>\n",
              "      <td>0.0</td>\n",
              "      <td>0.0</td>\n",
              "      <td>0.0</td>\n",
              "      <td>0.0</td>\n",
              "      <td>0.022817</td>\n",
              "      <td>0.0</td>\n",
              "      <td>0.074272</td>\n",
              "    </tr>\n",
              "    <tr>\n",
              "      <th>1</th>\n",
              "      <td>11</td>\n",
              "      <td>lê quốc thắng viết phố xa năm 1989 vì tình cờ ...</td>\n",
              "      <td>lê quốc thắng viết phố xa năm vì tình cờ gặp b...</td>\n",
              "      <td>0.0</td>\n",
              "      <td>0.0</td>\n",
              "      <td>0.0</td>\n",
              "      <td>0.0</td>\n",
              "      <td>0.0</td>\n",
              "      <td>0.0</td>\n",
              "      <td>0.0</td>\n",
              "      <td>...</td>\n",
              "      <td>0.0</td>\n",
              "      <td>0.0</td>\n",
              "      <td>0.0</td>\n",
              "      <td>0.0</td>\n",
              "      <td>0.0</td>\n",
              "      <td>0.0</td>\n",
              "      <td>0.0</td>\n",
              "      <td>0.000000</td>\n",
              "      <td>0.0</td>\n",
              "      <td>0.000000</td>\n",
              "    </tr>\n",
              "  </tbody>\n",
              "</table>\n",
              "<p>2 rows × 5759 columns</p>\n",
              "</div>\n",
              "      <button class=\"colab-df-convert\" onclick=\"convertToInteractive('df-34599b1f-6c10-44e8-8bc4-628f5d6a9e90')\"\n",
              "              title=\"Convert this dataframe to an interactive table.\"\n",
              "              style=\"display:none;\">\n",
              "        \n",
              "  <svg xmlns=\"http://www.w3.org/2000/svg\" height=\"24px\"viewBox=\"0 0 24 24\"\n",
              "       width=\"24px\">\n",
              "    <path d=\"M0 0h24v24H0V0z\" fill=\"none\"/>\n",
              "    <path d=\"M18.56 5.44l.94 2.06.94-2.06 2.06-.94-2.06-.94-.94-2.06-.94 2.06-2.06.94zm-11 1L8.5 8.5l.94-2.06 2.06-.94-2.06-.94L8.5 2.5l-.94 2.06-2.06.94zm10 10l.94 2.06.94-2.06 2.06-.94-2.06-.94-.94-2.06-.94 2.06-2.06.94z\"/><path d=\"M17.41 7.96l-1.37-1.37c-.4-.4-.92-.59-1.43-.59-.52 0-1.04.2-1.43.59L10.3 9.45l-7.72 7.72c-.78.78-.78 2.05 0 2.83L4 21.41c.39.39.9.59 1.41.59.51 0 1.02-.2 1.41-.59l7.78-7.78 2.81-2.81c.8-.78.8-2.07 0-2.86zM5.41 20L4 18.59l7.72-7.72 1.47 1.35L5.41 20z\"/>\n",
              "  </svg>\n",
              "      </button>\n",
              "      \n",
              "  <style>\n",
              "    .colab-df-container {\n",
              "      display:flex;\n",
              "      flex-wrap:wrap;\n",
              "      gap: 12px;\n",
              "    }\n",
              "\n",
              "    .colab-df-convert {\n",
              "      background-color: #E8F0FE;\n",
              "      border: none;\n",
              "      border-radius: 50%;\n",
              "      cursor: pointer;\n",
              "      display: none;\n",
              "      fill: #1967D2;\n",
              "      height: 32px;\n",
              "      padding: 0 0 0 0;\n",
              "      width: 32px;\n",
              "    }\n",
              "\n",
              "    .colab-df-convert:hover {\n",
              "      background-color: #E2EBFA;\n",
              "      box-shadow: 0px 1px 2px rgba(60, 64, 67, 0.3), 0px 1px 3px 1px rgba(60, 64, 67, 0.15);\n",
              "      fill: #174EA6;\n",
              "    }\n",
              "\n",
              "    [theme=dark] .colab-df-convert {\n",
              "      background-color: #3B4455;\n",
              "      fill: #D2E3FC;\n",
              "    }\n",
              "\n",
              "    [theme=dark] .colab-df-convert:hover {\n",
              "      background-color: #434B5C;\n",
              "      box-shadow: 0px 1px 3px 1px rgba(0, 0, 0, 0.15);\n",
              "      filter: drop-shadow(0px 1px 2px rgba(0, 0, 0, 0.3));\n",
              "      fill: #FFFFFF;\n",
              "    }\n",
              "  </style>\n",
              "\n",
              "      <script>\n",
              "        const buttonEl =\n",
              "          document.querySelector('#df-34599b1f-6c10-44e8-8bc4-628f5d6a9e90 button.colab-df-convert');\n",
              "        buttonEl.style.display =\n",
              "          google.colab.kernel.accessAllowed ? 'block' : 'none';\n",
              "\n",
              "        async function convertToInteractive(key) {\n",
              "          const element = document.querySelector('#df-34599b1f-6c10-44e8-8bc4-628f5d6a9e90');\n",
              "          const dataTable =\n",
              "            await google.colab.kernel.invokeFunction('convertToInteractive',\n",
              "                                                     [key], {});\n",
              "          if (!dataTable) return;\n",
              "\n",
              "          const docLinkHtml = 'Like what you see? Visit the ' +\n",
              "            '<a target=\"_blank\" href=https://colab.research.google.com/notebooks/data_table.ipynb>data table notebook</a>'\n",
              "            + ' to learn more about interactive tables.';\n",
              "          element.innerHTML = '';\n",
              "          dataTable['output_type'] = 'display_data';\n",
              "          await google.colab.output.renderOutput(dataTable, element);\n",
              "          const docLink = document.createElement('div');\n",
              "          docLink.innerHTML = docLinkHtml;\n",
              "          element.appendChild(docLink);\n",
              "        }\n",
              "      </script>\n",
              "    </div>\n",
              "  </div>\n",
              "  "
            ]
          },
          "metadata": {},
          "execution_count": 14
        }
      ]
    },
    {
      "cell_type": "markdown",
      "source": [
        "# New train_test_split function"
      ],
      "metadata": {
        "id": "kzTkD8--Vnh3"
      }
    },
    {
      "cell_type": "code",
      "source": [
        "df_labels = train_combined['label'].value_counts().index.tolist()\n",
        "df_counts = train_combined['label'].value_counts().values.tolist()\n",
        "\n",
        "train_temp = pd.DataFrame()\n",
        "val_temp = pd.DataFrame()\n",
        "#test_temp = pd.DataFrame()\n",
        "\n",
        "for label, count in zip(df_labels, df_counts):\n",
        "    train_count = round(count * 0.8)\n",
        "    #val_count = round((count - train_count)*0.7)\n",
        "    train_temp = pd.concat([train_temp, train_combined[train_combined['label']==label][:train_count]])\n",
        "    val_temp = pd.concat([val_temp, train_combined[train_combined['label']==label][train_count:]])\n",
        "    #test_temp = pd.concat([test_temp, train_combined[train_combined['label']==label][train_count + val_count:]])"
      ],
      "metadata": {
        "id": "3abjnGM4VnGC"
      },
      "execution_count": 15,
      "outputs": []
    },
    {
      "cell_type": "code",
      "source": [
        "train_temp.reset_index(drop=True, inplace=True)\n",
        "val_temp.reset_index(drop=True, inplace=True)\n",
        "#test_temp.reset_index(drop=True, inplace=True)"
      ],
      "metadata": {
        "id": "CqNnLQ9aWTQZ"
      },
      "execution_count": 16,
      "outputs": []
    },
    {
      "cell_type": "code",
      "source": [
        "train_temp.shape, val_temp.shape#, test_temp.shape"
      ],
      "metadata": {
        "colab": {
          "base_uri": "https://localhost:8080/"
        },
        "id": "185eytnqY7VS",
        "outputId": "f741079c-0781-4a49-f848-69857b079108"
      },
      "execution_count": 17,
      "outputs": [
        {
          "output_type": "execute_result",
          "data": {
            "text/plain": [
              "((368, 5759), (93, 5759))"
            ]
          },
          "metadata": {},
          "execution_count": 17
        }
      ]
    },
    {
      "cell_type": "code",
      "source": [
        "train_temp.head(2)"
      ],
      "metadata": {
        "colab": {
          "base_uri": "https://localhost:8080/",
          "height": 518
        },
        "id": "MJIVnWIpdXGe",
        "outputId": "a8ab69d3-b108-4531-a32f-4489c1ad8642"
      },
      "execution_count": 18,
      "outputs": [
        {
          "output_type": "execute_result",
          "data": {
            "text/plain": [
              "   label                                               text  \\\n",
              "0      1   đi xem ở đây là theo đúng nghĩa đen vì tôi kh...   \n",
              "1      1  tôi có một thói quen sau nhiều năm viết bình l...   \n",
              "\n",
              "                                          clean_text  aarhus  abbott  abe  \\\n",
              "0   đi xem ở đây là theo đúng nghĩa đen vì tôi kh...     0.0     0.0  0.0   \n",
              "1  tôi có một thói quen sau nhiều năm viết bình l...     0.0     0.0  0.0   \n",
              "\n",
              "   abercrombie  abor  academic  acb  ...   ộp   ớn   ớt   ục   ụp   ủa   ủi  \\\n",
              "0          0.0   0.0       0.0  0.0  ...  0.0  0.0  0.0  0.0  0.0  0.0  0.0   \n",
              "1          0.0   0.0       0.0  0.0  ...  0.0  0.0  0.0  0.0  0.0  0.0  0.0   \n",
              "\n",
              "   ủng   ức  ứng  \n",
              "0  0.0  0.0  0.0  \n",
              "1  0.0  0.0  0.0  \n",
              "\n",
              "[2 rows x 5759 columns]"
            ],
            "text/html": [
              "\n",
              "  <div id=\"df-f19e4a91-8d51-4f73-aeed-2269e3548f66\">\n",
              "    <div class=\"colab-df-container\">\n",
              "      <div>\n",
              "<style scoped>\n",
              "    .dataframe tbody tr th:only-of-type {\n",
              "        vertical-align: middle;\n",
              "    }\n",
              "\n",
              "    .dataframe tbody tr th {\n",
              "        vertical-align: top;\n",
              "    }\n",
              "\n",
              "    .dataframe thead th {\n",
              "        text-align: right;\n",
              "    }\n",
              "</style>\n",
              "<table border=\"1\" class=\"dataframe\">\n",
              "  <thead>\n",
              "    <tr style=\"text-align: right;\">\n",
              "      <th></th>\n",
              "      <th>label</th>\n",
              "      <th>text</th>\n",
              "      <th>clean_text</th>\n",
              "      <th>aarhus</th>\n",
              "      <th>abbott</th>\n",
              "      <th>abe</th>\n",
              "      <th>abercrombie</th>\n",
              "      <th>abor</th>\n",
              "      <th>academic</th>\n",
              "      <th>acb</th>\n",
              "      <th>...</th>\n",
              "      <th>ộp</th>\n",
              "      <th>ớn</th>\n",
              "      <th>ớt</th>\n",
              "      <th>ục</th>\n",
              "      <th>ụp</th>\n",
              "      <th>ủa</th>\n",
              "      <th>ủi</th>\n",
              "      <th>ủng</th>\n",
              "      <th>ức</th>\n",
              "      <th>ứng</th>\n",
              "    </tr>\n",
              "  </thead>\n",
              "  <tbody>\n",
              "    <tr>\n",
              "      <th>0</th>\n",
              "      <td>1</td>\n",
              "      <td>đi xem ở đây là theo đúng nghĩa đen vì tôi kh...</td>\n",
              "      <td>đi xem ở đây là theo đúng nghĩa đen vì tôi kh...</td>\n",
              "      <td>0.0</td>\n",
              "      <td>0.0</td>\n",
              "      <td>0.0</td>\n",
              "      <td>0.0</td>\n",
              "      <td>0.0</td>\n",
              "      <td>0.0</td>\n",
              "      <td>0.0</td>\n",
              "      <td>...</td>\n",
              "      <td>0.0</td>\n",
              "      <td>0.0</td>\n",
              "      <td>0.0</td>\n",
              "      <td>0.0</td>\n",
              "      <td>0.0</td>\n",
              "      <td>0.0</td>\n",
              "      <td>0.0</td>\n",
              "      <td>0.0</td>\n",
              "      <td>0.0</td>\n",
              "      <td>0.0</td>\n",
              "    </tr>\n",
              "    <tr>\n",
              "      <th>1</th>\n",
              "      <td>1</td>\n",
              "      <td>tôi có một thói quen sau nhiều năm viết bình l...</td>\n",
              "      <td>tôi có một thói quen sau nhiều năm viết bình l...</td>\n",
              "      <td>0.0</td>\n",
              "      <td>0.0</td>\n",
              "      <td>0.0</td>\n",
              "      <td>0.0</td>\n",
              "      <td>0.0</td>\n",
              "      <td>0.0</td>\n",
              "      <td>0.0</td>\n",
              "      <td>...</td>\n",
              "      <td>0.0</td>\n",
              "      <td>0.0</td>\n",
              "      <td>0.0</td>\n",
              "      <td>0.0</td>\n",
              "      <td>0.0</td>\n",
              "      <td>0.0</td>\n",
              "      <td>0.0</td>\n",
              "      <td>0.0</td>\n",
              "      <td>0.0</td>\n",
              "      <td>0.0</td>\n",
              "    </tr>\n",
              "  </tbody>\n",
              "</table>\n",
              "<p>2 rows × 5759 columns</p>\n",
              "</div>\n",
              "      <button class=\"colab-df-convert\" onclick=\"convertToInteractive('df-f19e4a91-8d51-4f73-aeed-2269e3548f66')\"\n",
              "              title=\"Convert this dataframe to an interactive table.\"\n",
              "              style=\"display:none;\">\n",
              "        \n",
              "  <svg xmlns=\"http://www.w3.org/2000/svg\" height=\"24px\"viewBox=\"0 0 24 24\"\n",
              "       width=\"24px\">\n",
              "    <path d=\"M0 0h24v24H0V0z\" fill=\"none\"/>\n",
              "    <path d=\"M18.56 5.44l.94 2.06.94-2.06 2.06-.94-2.06-.94-.94-2.06-.94 2.06-2.06.94zm-11 1L8.5 8.5l.94-2.06 2.06-.94-2.06-.94L8.5 2.5l-.94 2.06-2.06.94zm10 10l.94 2.06.94-2.06 2.06-.94-2.06-.94-.94-2.06-.94 2.06-2.06.94z\"/><path d=\"M17.41 7.96l-1.37-1.37c-.4-.4-.92-.59-1.43-.59-.52 0-1.04.2-1.43.59L10.3 9.45l-7.72 7.72c-.78.78-.78 2.05 0 2.83L4 21.41c.39.39.9.59 1.41.59.51 0 1.02-.2 1.41-.59l7.78-7.78 2.81-2.81c.8-.78.8-2.07 0-2.86zM5.41 20L4 18.59l7.72-7.72 1.47 1.35L5.41 20z\"/>\n",
              "  </svg>\n",
              "      </button>\n",
              "      \n",
              "  <style>\n",
              "    .colab-df-container {\n",
              "      display:flex;\n",
              "      flex-wrap:wrap;\n",
              "      gap: 12px;\n",
              "    }\n",
              "\n",
              "    .colab-df-convert {\n",
              "      background-color: #E8F0FE;\n",
              "      border: none;\n",
              "      border-radius: 50%;\n",
              "      cursor: pointer;\n",
              "      display: none;\n",
              "      fill: #1967D2;\n",
              "      height: 32px;\n",
              "      padding: 0 0 0 0;\n",
              "      width: 32px;\n",
              "    }\n",
              "\n",
              "    .colab-df-convert:hover {\n",
              "      background-color: #E2EBFA;\n",
              "      box-shadow: 0px 1px 2px rgba(60, 64, 67, 0.3), 0px 1px 3px 1px rgba(60, 64, 67, 0.15);\n",
              "      fill: #174EA6;\n",
              "    }\n",
              "\n",
              "    [theme=dark] .colab-df-convert {\n",
              "      background-color: #3B4455;\n",
              "      fill: #D2E3FC;\n",
              "    }\n",
              "\n",
              "    [theme=dark] .colab-df-convert:hover {\n",
              "      background-color: #434B5C;\n",
              "      box-shadow: 0px 1px 3px 1px rgba(0, 0, 0, 0.15);\n",
              "      filter: drop-shadow(0px 1px 2px rgba(0, 0, 0, 0.3));\n",
              "      fill: #FFFFFF;\n",
              "    }\n",
              "  </style>\n",
              "\n",
              "      <script>\n",
              "        const buttonEl =\n",
              "          document.querySelector('#df-f19e4a91-8d51-4f73-aeed-2269e3548f66 button.colab-df-convert');\n",
              "        buttonEl.style.display =\n",
              "          google.colab.kernel.accessAllowed ? 'block' : 'none';\n",
              "\n",
              "        async function convertToInteractive(key) {\n",
              "          const element = document.querySelector('#df-f19e4a91-8d51-4f73-aeed-2269e3548f66');\n",
              "          const dataTable =\n",
              "            await google.colab.kernel.invokeFunction('convertToInteractive',\n",
              "                                                     [key], {});\n",
              "          if (!dataTable) return;\n",
              "\n",
              "          const docLinkHtml = 'Like what you see? Visit the ' +\n",
              "            '<a target=\"_blank\" href=https://colab.research.google.com/notebooks/data_table.ipynb>data table notebook</a>'\n",
              "            + ' to learn more about interactive tables.';\n",
              "          element.innerHTML = '';\n",
              "          dataTable['output_type'] = 'display_data';\n",
              "          await google.colab.output.renderOutput(dataTable, element);\n",
              "          const docLink = document.createElement('div');\n",
              "          docLink.innerHTML = docLinkHtml;\n",
              "          element.appendChild(docLink);\n",
              "        }\n",
              "      </script>\n",
              "    </div>\n",
              "  </div>\n",
              "  "
            ]
          },
          "metadata": {},
          "execution_count": 18
        }
      ]
    },
    {
      "cell_type": "markdown",
      "source": [
        "# Seperate text and tfidf"
      ],
      "metadata": {
        "id": "TljcdmNcdKIS"
      }
    },
    {
      "cell_type": "code",
      "source": [
        "train = train_temp[['label', 'text']]\n",
        "val = val_temp[['label', 'text']]\n",
        "#test = test_temp[['label', 'text']]"
      ],
      "metadata": {
        "id": "JqDlBtvXdJcm"
      },
      "execution_count": 19,
      "outputs": []
    },
    {
      "cell_type": "code",
      "execution_count": 20,
      "metadata": {
        "colab": {
          "base_uri": "https://localhost:8080/"
        },
        "id": "ziIsgHqrz0n6",
        "outputId": "6a8fbd5d-c34c-4b5f-9da2-e8713773e61c"
      },
      "outputs": [
        {
          "output_type": "execute_result",
          "data": {
            "text/plain": [
              "((368, 2), (93, 2))"
            ]
          },
          "metadata": {},
          "execution_count": 20
        }
      ],
      "source": [
        "train.shape, val.shape"
      ]
    },
    {
      "cell_type": "code",
      "source": [
        "train.to_csv('train.csv', index=False)\n",
        "val.to_csv('val.csv', index=False)"
      ],
      "metadata": {
        "id": "TvnrpUTp2dYc"
      },
      "execution_count": 21,
      "outputs": []
    },
    {
      "cell_type": "code",
      "source": [
        "train_tfidf = train_temp.drop(columns=['label', 'text', 'clean_text'])\n",
        "val_tfidf = val_temp.drop(columns=['label', 'text', 'clean_text'])\n",
        "#test_tfidf = test_temp.drop(columns=['label', 'text', 'clean_text'])"
      ],
      "metadata": {
        "id": "08HAWux2d9vf"
      },
      "execution_count": 22,
      "outputs": []
    },
    {
      "cell_type": "code",
      "source": [
        "train_tfidf.shape, val_tfidf.shape#, test_tfidf.shape"
      ],
      "metadata": {
        "colab": {
          "base_uri": "https://localhost:8080/"
        },
        "id": "R1ob3P5KeRIc",
        "outputId": "0346f5ea-b450-4ca9-e2b3-cf1c55b0ba50"
      },
      "execution_count": 23,
      "outputs": [
        {
          "output_type": "execute_result",
          "data": {
            "text/plain": [
              "((368, 5756), (93, 5756))"
            ]
          },
          "metadata": {},
          "execution_count": 23
        }
      ]
    },
    {
      "cell_type": "markdown",
      "source": [
        "# Install BERT"
      ],
      "metadata": {
        "id": "lwlmQqH1d606"
      }
    },
    {
      "cell_type": "code",
      "execution_count": 24,
      "metadata": {
        "colab": {
          "base_uri": "https://localhost:8080/"
        },
        "id": "RdO71oGaC41r",
        "outputId": "5974e4e8-5f50-4f67-b3b3-139bd86da882"
      },
      "outputs": [
        {
          "output_type": "stream",
          "name": "stdout",
          "text": [
            "Looking in indexes: https://pypi.org/simple, https://us-python.pkg.dev/colab-wheels/public/simple/\n",
            "Requirement already satisfied: bert-tensorflow==1.0.1 in /usr/local/lib/python3.7/dist-packages (1.0.1)\n",
            "Requirement already satisfied: six in /usr/local/lib/python3.7/dist-packages (from bert-tensorflow==1.0.1) (1.15.0)\n"
          ]
        }
      ],
      "source": [
        "!pip install bert-tensorflow==1.0.1"
      ]
    },
    {
      "cell_type": "code",
      "execution_count": 25,
      "metadata": {
        "id": "JernXjY_-nDO"
      },
      "outputs": [],
      "source": [
        "# import tensorflow and tf hub to load bert model\n",
        "import tensorflow as tf\n",
        "import tensorflow_hub as hub"
      ]
    },
    {
      "cell_type": "code",
      "execution_count": 26,
      "metadata": {
        "colab": {
          "base_uri": "https://localhost:8080/"
        },
        "id": "zTcMyKKl6DdA",
        "outputId": "72a3817d-e22b-4884-8697-9816468595d1"
      },
      "outputs": [
        {
          "output_type": "stream",
          "name": "stdout",
          "text": [
            "WARNING:tensorflow:From /usr/local/lib/python3.7/dist-packages/bert/optimization.py:87: The name tf.train.Optimizer is deprecated. Please use tf.compat.v1.train.Optimizer instead.\n",
            "\n"
          ]
        }
      ],
      "source": [
        "#Importing BERT modules\n",
        "import bert\n",
        "from bert import run_classifier\n",
        "from bert import optimization\n",
        "from bert import tokenization"
      ]
    },
    {
      "cell_type": "markdown",
      "metadata": {
        "id": "ej8QOozZbEva"
      },
      "source": [
        "# Setting The Output Directory for BERT"
      ]
    },
    {
      "cell_type": "code",
      "execution_count": 27,
      "metadata": {
        "colab": {
          "base_uri": "https://localhost:8080/"
        },
        "id": "NNPhIMrr6ra9",
        "outputId": "5699cddd-ed09-4d26-e455-1a90b4859669"
      },
      "outputs": [
        {
          "output_type": "stream",
          "name": "stdout",
          "text": [
            "***** Model output directory: model *****\n"
          ]
        }
      ],
      "source": [
        "# Set the output directory for saving model file\n",
        "OUTPUT_DIR = 'model'\n",
        "\n",
        "#@markdown Whether or not to clear/delete the directory and create a new one\n",
        "DO_DELETE = True #@param {type:\"boolean\"}\n",
        "\n",
        "if DO_DELETE:\n",
        "  try:\n",
        "    tf.gfile.DeleteRecursively(OUTPUT_DIR)\n",
        "  except:\n",
        "    pass\n",
        "\n",
        "tf.gfile.MakeDirs(OUTPUT_DIR)\n",
        "print('***** Model output directory: {} *****'.format(OUTPUT_DIR))"
      ]
    },
    {
      "cell_type": "code",
      "execution_count": 28,
      "metadata": {
        "colab": {
          "base_uri": "https://localhost:8080/"
        },
        "id": "0YGONt0p60Ay",
        "outputId": "bdd1fed0-2b87-4450-901e-954c70cb9a02"
      },
      "outputs": [
        {
          "output_type": "stream",
          "name": "stdout",
          "text": [
            "Training Set Shape : (368, 2)\n",
            "Validation Set Shape : (93, 2)\n"
          ]
        }
      ],
      "source": [
        "print(\"Training Set Shape :\", train.shape)\n",
        "print(\"Validation Set Shape :\", val.shape)\n",
        "# print(\"Test Set Shape :\", test.shape)"
      ]
    },
    {
      "cell_type": "code",
      "execution_count": 29,
      "metadata": {
        "colab": {
          "base_uri": "https://localhost:8080/"
        },
        "id": "s6NYKx4P7N66",
        "outputId": "d7ac63e2-28dc-4cab-ebd7-8839f97c80cc"
      },
      "outputs": [
        {
          "output_type": "execute_result",
          "data": {
            "text/plain": [
              "[0, 1, 2, 3, 4, 5, 6, 7, 8, 9, 10, 11, 12]"
            ]
          },
          "metadata": {},
          "execution_count": 29
        }
      ],
      "source": [
        "DATA_COLUMN = 'text'\n",
        "LABEL_COLUMN = 'label'\n",
        "# The list containing all the classes (train['SECTION'].unique())\n",
        "label_list = [x for x in np.unique(train.label)]\n",
        "label_list"
      ]
    },
    {
      "cell_type": "markdown",
      "metadata": {
        "id": "oOSEd24bbiUq"
      },
      "source": [
        "# Splitting the Data into smaller chunks"
      ]
    },
    {
      "cell_type": "code",
      "execution_count": 30,
      "metadata": {
        "id": "ausf5AlOkPCH"
      },
      "outputs": [],
      "source": [
        "def get_split(text1):\n",
        "  l_total = []\n",
        "  l_parcial = []\n",
        "  if len(text1.split())//150 >0:\n",
        "    n = len(text1.split())//150\n",
        "  else: \n",
        "    n = 1\n",
        "  for w in range(n):\n",
        "    if w == 0:\n",
        "      l_parcial = text1.split()[:200]\n",
        "      l_total.append(\" \".join(l_parcial))\n",
        "    else:\n",
        "      l_parcial = text1.split()[w*150:w*150 + 200]\n",
        "      l_total.append(\" \".join(l_parcial))\n",
        "  return l_total"
      ]
    },
    {
      "cell_type": "code",
      "execution_count": 31,
      "metadata": {
        "colab": {
          "base_uri": "https://localhost:8080/",
          "height": 377
        },
        "id": "E-u6mDkbLpTY",
        "outputId": "246fa35a-bdb8-4128-b571-a22149d87908"
      },
      "outputs": [
        {
          "output_type": "stream",
          "name": "stderr",
          "text": [
            "/usr/local/lib/python3.7/dist-packages/ipykernel_launcher.py:1: SettingWithCopyWarning: \n",
            "A value is trying to be set on a copy of a slice from a DataFrame.\n",
            "Try using .loc[row_indexer,col_indexer] = value instead\n",
            "\n",
            "See the caveats in the documentation: https://pandas.pydata.org/pandas-docs/stable/user_guide/indexing.html#returning-a-view-versus-a-copy\n",
            "  \"\"\"Entry point for launching an IPython kernel.\n"
          ]
        },
        {
          "output_type": "execute_result",
          "data": {
            "text/plain": [
              "   label                                               text  \\\n",
              "0      1   đi xem ở đây là theo đúng nghĩa đen vì tôi kh...   \n",
              "1      1  tôi có một thói quen sau nhiều năm viết bình l...   \n",
              "2      1  chữ dám là một trong những từ khoá quan trọng ...   \n",
              "3      1  theo bộ tư pháp mỹ thì công ty này đã chi hàng...   \n",
              "4      1  nhìn từ bên ngoài tôi duy trì một lối sống thị...   \n",
              "\n",
              "                                          text_split  \n",
              "0  [đi xem ở đây là theo đúng nghĩa đen vì tôi kh...  \n",
              "1  [tôi có một thói quen sau nhiều năm viết bình ...  \n",
              "2  [chữ dám là một trong những từ khoá quan trọng...  \n",
              "3  [theo bộ tư pháp mỹ thì công ty này đã chi hàn...  \n",
              "4  [nhìn từ bên ngoài tôi duy trì một lối sống th...  "
            ],
            "text/html": [
              "\n",
              "  <div id=\"df-4ebb1aa2-e35e-43b6-9d0b-e5f01afd9334\">\n",
              "    <div class=\"colab-df-container\">\n",
              "      <div>\n",
              "<style scoped>\n",
              "    .dataframe tbody tr th:only-of-type {\n",
              "        vertical-align: middle;\n",
              "    }\n",
              "\n",
              "    .dataframe tbody tr th {\n",
              "        vertical-align: top;\n",
              "    }\n",
              "\n",
              "    .dataframe thead th {\n",
              "        text-align: right;\n",
              "    }\n",
              "</style>\n",
              "<table border=\"1\" class=\"dataframe\">\n",
              "  <thead>\n",
              "    <tr style=\"text-align: right;\">\n",
              "      <th></th>\n",
              "      <th>label</th>\n",
              "      <th>text</th>\n",
              "      <th>text_split</th>\n",
              "    </tr>\n",
              "  </thead>\n",
              "  <tbody>\n",
              "    <tr>\n",
              "      <th>0</th>\n",
              "      <td>1</td>\n",
              "      <td>đi xem ở đây là theo đúng nghĩa đen vì tôi kh...</td>\n",
              "      <td>[đi xem ở đây là theo đúng nghĩa đen vì tôi kh...</td>\n",
              "    </tr>\n",
              "    <tr>\n",
              "      <th>1</th>\n",
              "      <td>1</td>\n",
              "      <td>tôi có một thói quen sau nhiều năm viết bình l...</td>\n",
              "      <td>[tôi có một thói quen sau nhiều năm viết bình ...</td>\n",
              "    </tr>\n",
              "    <tr>\n",
              "      <th>2</th>\n",
              "      <td>1</td>\n",
              "      <td>chữ dám là một trong những từ khoá quan trọng ...</td>\n",
              "      <td>[chữ dám là một trong những từ khoá quan trọng...</td>\n",
              "    </tr>\n",
              "    <tr>\n",
              "      <th>3</th>\n",
              "      <td>1</td>\n",
              "      <td>theo bộ tư pháp mỹ thì công ty này đã chi hàng...</td>\n",
              "      <td>[theo bộ tư pháp mỹ thì công ty này đã chi hàn...</td>\n",
              "    </tr>\n",
              "    <tr>\n",
              "      <th>4</th>\n",
              "      <td>1</td>\n",
              "      <td>nhìn từ bên ngoài tôi duy trì một lối sống thị...</td>\n",
              "      <td>[nhìn từ bên ngoài tôi duy trì một lối sống th...</td>\n",
              "    </tr>\n",
              "  </tbody>\n",
              "</table>\n",
              "</div>\n",
              "      <button class=\"colab-df-convert\" onclick=\"convertToInteractive('df-4ebb1aa2-e35e-43b6-9d0b-e5f01afd9334')\"\n",
              "              title=\"Convert this dataframe to an interactive table.\"\n",
              "              style=\"display:none;\">\n",
              "        \n",
              "  <svg xmlns=\"http://www.w3.org/2000/svg\" height=\"24px\"viewBox=\"0 0 24 24\"\n",
              "       width=\"24px\">\n",
              "    <path d=\"M0 0h24v24H0V0z\" fill=\"none\"/>\n",
              "    <path d=\"M18.56 5.44l.94 2.06.94-2.06 2.06-.94-2.06-.94-.94-2.06-.94 2.06-2.06.94zm-11 1L8.5 8.5l.94-2.06 2.06-.94-2.06-.94L8.5 2.5l-.94 2.06-2.06.94zm10 10l.94 2.06.94-2.06 2.06-.94-2.06-.94-.94-2.06-.94 2.06-2.06.94z\"/><path d=\"M17.41 7.96l-1.37-1.37c-.4-.4-.92-.59-1.43-.59-.52 0-1.04.2-1.43.59L10.3 9.45l-7.72 7.72c-.78.78-.78 2.05 0 2.83L4 21.41c.39.39.9.59 1.41.59.51 0 1.02-.2 1.41-.59l7.78-7.78 2.81-2.81c.8-.78.8-2.07 0-2.86zM5.41 20L4 18.59l7.72-7.72 1.47 1.35L5.41 20z\"/>\n",
              "  </svg>\n",
              "      </button>\n",
              "      \n",
              "  <style>\n",
              "    .colab-df-container {\n",
              "      display:flex;\n",
              "      flex-wrap:wrap;\n",
              "      gap: 12px;\n",
              "    }\n",
              "\n",
              "    .colab-df-convert {\n",
              "      background-color: #E8F0FE;\n",
              "      border: none;\n",
              "      border-radius: 50%;\n",
              "      cursor: pointer;\n",
              "      display: none;\n",
              "      fill: #1967D2;\n",
              "      height: 32px;\n",
              "      padding: 0 0 0 0;\n",
              "      width: 32px;\n",
              "    }\n",
              "\n",
              "    .colab-df-convert:hover {\n",
              "      background-color: #E2EBFA;\n",
              "      box-shadow: 0px 1px 2px rgba(60, 64, 67, 0.3), 0px 1px 3px 1px rgba(60, 64, 67, 0.15);\n",
              "      fill: #174EA6;\n",
              "    }\n",
              "\n",
              "    [theme=dark] .colab-df-convert {\n",
              "      background-color: #3B4455;\n",
              "      fill: #D2E3FC;\n",
              "    }\n",
              "\n",
              "    [theme=dark] .colab-df-convert:hover {\n",
              "      background-color: #434B5C;\n",
              "      box-shadow: 0px 1px 3px 1px rgba(0, 0, 0, 0.15);\n",
              "      filter: drop-shadow(0px 1px 2px rgba(0, 0, 0, 0.3));\n",
              "      fill: #FFFFFF;\n",
              "    }\n",
              "  </style>\n",
              "\n",
              "      <script>\n",
              "        const buttonEl =\n",
              "          document.querySelector('#df-4ebb1aa2-e35e-43b6-9d0b-e5f01afd9334 button.colab-df-convert');\n",
              "        buttonEl.style.display =\n",
              "          google.colab.kernel.accessAllowed ? 'block' : 'none';\n",
              "\n",
              "        async function convertToInteractive(key) {\n",
              "          const element = document.querySelector('#df-4ebb1aa2-e35e-43b6-9d0b-e5f01afd9334');\n",
              "          const dataTable =\n",
              "            await google.colab.kernel.invokeFunction('convertToInteractive',\n",
              "                                                     [key], {});\n",
              "          if (!dataTable) return;\n",
              "\n",
              "          const docLinkHtml = 'Like what you see? Visit the ' +\n",
              "            '<a target=\"_blank\" href=https://colab.research.google.com/notebooks/data_table.ipynb>data table notebook</a>'\n",
              "            + ' to learn more about interactive tables.';\n",
              "          element.innerHTML = '';\n",
              "          dataTable['output_type'] = 'display_data';\n",
              "          await google.colab.output.renderOutput(dataTable, element);\n",
              "          const docLink = document.createElement('div');\n",
              "          docLink.innerHTML = docLinkHtml;\n",
              "          element.appendChild(docLink);\n",
              "        }\n",
              "      </script>\n",
              "    </div>\n",
              "  </div>\n",
              "  "
            ]
          },
          "metadata": {},
          "execution_count": 31
        }
      ],
      "source": [
        "train['text_split'] = train[DATA_COLUMN].apply(get_split)\n",
        "train.head()"
      ]
    },
    {
      "cell_type": "code",
      "execution_count": 32,
      "metadata": {
        "colab": {
          "base_uri": "https://localhost:8080/",
          "height": 239
        },
        "id": "-zrlehCFUplB",
        "outputId": "993d054b-74a2-4067-e50e-9b75e1a0170e"
      },
      "outputs": [
        {
          "output_type": "stream",
          "name": "stderr",
          "text": [
            "/usr/local/lib/python3.7/dist-packages/ipykernel_launcher.py:1: SettingWithCopyWarning: \n",
            "A value is trying to be set on a copy of a slice from a DataFrame.\n",
            "Try using .loc[row_indexer,col_indexer] = value instead\n",
            "\n",
            "See the caveats in the documentation: https://pandas.pydata.org/pandas-docs/stable/user_guide/indexing.html#returning-a-view-versus-a-copy\n",
            "  \"\"\"Entry point for launching an IPython kernel.\n"
          ]
        },
        {
          "output_type": "execute_result",
          "data": {
            "text/plain": [
              "   label                                               text  \\\n",
              "0      1  cuối tuần trước bỗng nhiên tôi tự hỏi rằng giờ...   \n",
              "1      1  không dễ trả lời vì chúng ta biết quá ít về tá...   \n",
              "\n",
              "                                          text_split  \n",
              "0  [cuối tuần trước bỗng nhiên tôi tự hỏi rằng gi...  \n",
              "1  [không dễ trả lời vì chúng ta biết quá ít về t...  "
            ],
            "text/html": [
              "\n",
              "  <div id=\"df-c08d9b25-d8b8-4f89-9ece-81d62c18241e\">\n",
              "    <div class=\"colab-df-container\">\n",
              "      <div>\n",
              "<style scoped>\n",
              "    .dataframe tbody tr th:only-of-type {\n",
              "        vertical-align: middle;\n",
              "    }\n",
              "\n",
              "    .dataframe tbody tr th {\n",
              "        vertical-align: top;\n",
              "    }\n",
              "\n",
              "    .dataframe thead th {\n",
              "        text-align: right;\n",
              "    }\n",
              "</style>\n",
              "<table border=\"1\" class=\"dataframe\">\n",
              "  <thead>\n",
              "    <tr style=\"text-align: right;\">\n",
              "      <th></th>\n",
              "      <th>label</th>\n",
              "      <th>text</th>\n",
              "      <th>text_split</th>\n",
              "    </tr>\n",
              "  </thead>\n",
              "  <tbody>\n",
              "    <tr>\n",
              "      <th>0</th>\n",
              "      <td>1</td>\n",
              "      <td>cuối tuần trước bỗng nhiên tôi tự hỏi rằng giờ...</td>\n",
              "      <td>[cuối tuần trước bỗng nhiên tôi tự hỏi rằng gi...</td>\n",
              "    </tr>\n",
              "    <tr>\n",
              "      <th>1</th>\n",
              "      <td>1</td>\n",
              "      <td>không dễ trả lời vì chúng ta biết quá ít về tá...</td>\n",
              "      <td>[không dễ trả lời vì chúng ta biết quá ít về t...</td>\n",
              "    </tr>\n",
              "  </tbody>\n",
              "</table>\n",
              "</div>\n",
              "      <button class=\"colab-df-convert\" onclick=\"convertToInteractive('df-c08d9b25-d8b8-4f89-9ece-81d62c18241e')\"\n",
              "              title=\"Convert this dataframe to an interactive table.\"\n",
              "              style=\"display:none;\">\n",
              "        \n",
              "  <svg xmlns=\"http://www.w3.org/2000/svg\" height=\"24px\"viewBox=\"0 0 24 24\"\n",
              "       width=\"24px\">\n",
              "    <path d=\"M0 0h24v24H0V0z\" fill=\"none\"/>\n",
              "    <path d=\"M18.56 5.44l.94 2.06.94-2.06 2.06-.94-2.06-.94-.94-2.06-.94 2.06-2.06.94zm-11 1L8.5 8.5l.94-2.06 2.06-.94-2.06-.94L8.5 2.5l-.94 2.06-2.06.94zm10 10l.94 2.06.94-2.06 2.06-.94-2.06-.94-.94-2.06-.94 2.06-2.06.94z\"/><path d=\"M17.41 7.96l-1.37-1.37c-.4-.4-.92-.59-1.43-.59-.52 0-1.04.2-1.43.59L10.3 9.45l-7.72 7.72c-.78.78-.78 2.05 0 2.83L4 21.41c.39.39.9.59 1.41.59.51 0 1.02-.2 1.41-.59l7.78-7.78 2.81-2.81c.8-.78.8-2.07 0-2.86zM5.41 20L4 18.59l7.72-7.72 1.47 1.35L5.41 20z\"/>\n",
              "  </svg>\n",
              "      </button>\n",
              "      \n",
              "  <style>\n",
              "    .colab-df-container {\n",
              "      display:flex;\n",
              "      flex-wrap:wrap;\n",
              "      gap: 12px;\n",
              "    }\n",
              "\n",
              "    .colab-df-convert {\n",
              "      background-color: #E8F0FE;\n",
              "      border: none;\n",
              "      border-radius: 50%;\n",
              "      cursor: pointer;\n",
              "      display: none;\n",
              "      fill: #1967D2;\n",
              "      height: 32px;\n",
              "      padding: 0 0 0 0;\n",
              "      width: 32px;\n",
              "    }\n",
              "\n",
              "    .colab-df-convert:hover {\n",
              "      background-color: #E2EBFA;\n",
              "      box-shadow: 0px 1px 2px rgba(60, 64, 67, 0.3), 0px 1px 3px 1px rgba(60, 64, 67, 0.15);\n",
              "      fill: #174EA6;\n",
              "    }\n",
              "\n",
              "    [theme=dark] .colab-df-convert {\n",
              "      background-color: #3B4455;\n",
              "      fill: #D2E3FC;\n",
              "    }\n",
              "\n",
              "    [theme=dark] .colab-df-convert:hover {\n",
              "      background-color: #434B5C;\n",
              "      box-shadow: 0px 1px 3px 1px rgba(0, 0, 0, 0.15);\n",
              "      filter: drop-shadow(0px 1px 2px rgba(0, 0, 0, 0.3));\n",
              "      fill: #FFFFFF;\n",
              "    }\n",
              "  </style>\n",
              "\n",
              "      <script>\n",
              "        const buttonEl =\n",
              "          document.querySelector('#df-c08d9b25-d8b8-4f89-9ece-81d62c18241e button.colab-df-convert');\n",
              "        buttonEl.style.display =\n",
              "          google.colab.kernel.accessAllowed ? 'block' : 'none';\n",
              "\n",
              "        async function convertToInteractive(key) {\n",
              "          const element = document.querySelector('#df-c08d9b25-d8b8-4f89-9ece-81d62c18241e');\n",
              "          const dataTable =\n",
              "            await google.colab.kernel.invokeFunction('convertToInteractive',\n",
              "                                                     [key], {});\n",
              "          if (!dataTable) return;\n",
              "\n",
              "          const docLinkHtml = 'Like what you see? Visit the ' +\n",
              "            '<a target=\"_blank\" href=https://colab.research.google.com/notebooks/data_table.ipynb>data table notebook</a>'\n",
              "            + ' to learn more about interactive tables.';\n",
              "          element.innerHTML = '';\n",
              "          dataTable['output_type'] = 'display_data';\n",
              "          await google.colab.output.renderOutput(dataTable, element);\n",
              "          const docLink = document.createElement('div');\n",
              "          docLink.innerHTML = docLinkHtml;\n",
              "          element.appendChild(docLink);\n",
              "        }\n",
              "      </script>\n",
              "    </div>\n",
              "  </div>\n",
              "  "
            ]
          },
          "metadata": {},
          "execution_count": 32
        }
      ],
      "source": [
        "val['text_split'] = val[DATA_COLUMN].apply(get_split)\n",
        "val.head(2)"
      ]
    },
    {
      "cell_type": "code",
      "source": [
        "#test['text_split'] = test[DATA_COLUMN].apply(get_split)\n",
        "#test.head(2)"
      ],
      "metadata": {
        "id": "qwzubunvhWzH"
      },
      "execution_count": 33,
      "outputs": []
    },
    {
      "cell_type": "code",
      "execution_count": 34,
      "metadata": {
        "colab": {
          "base_uri": "https://localhost:8080/"
        },
        "id": "5_zMerj1VGaM",
        "outputId": "c4c11307-7066-41a4-a0ad-839288bd3758"
      },
      "outputs": [
        {
          "output_type": "execute_result",
          "data": {
            "text/plain": [
              "(2626, 2626, 2626)"
            ]
          },
          "metadata": {},
          "execution_count": 34
        }
      ],
      "source": [
        "train_l = []\n",
        "label_l = []\n",
        "index_l =[]\n",
        "for idx,row in train.iterrows():\n",
        "  for l in row['text_split']:\n",
        "    train_l.append(l)\n",
        "    label_l.append(row['label'])\n",
        "    index_l.append(idx)\n",
        "len(train_l), len(label_l), len(index_l)"
      ]
    },
    {
      "cell_type": "code",
      "execution_count": 35,
      "metadata": {
        "colab": {
          "base_uri": "https://localhost:8080/"
        },
        "id": "rBrXEaxHVNG4",
        "outputId": "5de71171-74e6-4117-8571-f124d00c3c10"
      },
      "outputs": [
        {
          "output_type": "execute_result",
          "data": {
            "text/plain": [
              "(666, 666, 666)"
            ]
          },
          "metadata": {},
          "execution_count": 35
        }
      ],
      "source": [
        "val_l = []\n",
        "val_label_l = []\n",
        "val_index_l = []\n",
        "for idx,row in val.iterrows():\n",
        "  for l in row['text_split']:\n",
        "    val_l.append(l)\n",
        "    val_label_l.append(row['label'])\n",
        "    val_index_l.append(idx)\n",
        "len(val_l), len(val_label_l), len(val_index_l)"
      ]
    },
    {
      "cell_type": "code",
      "source": [
        "'''\n",
        "test_l = []\n",
        "test_label_l = []\n",
        "test_index_l = []\n",
        "for idx,row in test.iterrows():\n",
        "  for l in row['text_split']:\n",
        "    test_l.append(l)\n",
        "    test_label_l.append(row['label'])\n",
        "    test_index_l.append(idx)\n",
        "len(test_l), len(test_label_l), len(test_index_l)\n",
        "'''"
      ],
      "metadata": {
        "colab": {
          "base_uri": "https://localhost:8080/",
          "height": 71
        },
        "id": "TwyyjYPff_ZA",
        "outputId": "33d5bfca-db05-4528-c82a-3bf004b35829"
      },
      "execution_count": 36,
      "outputs": [
        {
          "output_type": "execute_result",
          "data": {
            "text/plain": [
              "\"\\ntest_l = []\\ntest_label_l = []\\ntest_index_l = []\\nfor idx,row in test.iterrows():\\n  for l in row['text_split']:\\n    test_l.append(l)\\n    test_label_l.append(row['label'])\\n    test_index_l.append(idx)\\nlen(test_l), len(test_label_l), len(test_index_l)\\n\""
            ],
            "application/vnd.google.colaboratory.intrinsic+json": {
              "type": "string"
            }
          },
          "metadata": {},
          "execution_count": 36
        }
      ]
    },
    {
      "cell_type": "markdown",
      "metadata": {
        "id": "Hu5Sx8Rm0bAj"
      },
      "source": [
        "The final dataset for training:"
      ]
    },
    {
      "cell_type": "code",
      "execution_count": 37,
      "metadata": {
        "colab": {
          "base_uri": "https://localhost:8080/"
        },
        "id": "mojRk8kWVVB4",
        "outputId": "1069a1f7-e5a6-4b38-9623-f2f62edc72da"
      },
      "outputs": [
        {
          "output_type": "execute_result",
          "data": {
            "text/plain": [
              "(2626, 2)"
            ]
          },
          "metadata": {},
          "execution_count": 37
        }
      ],
      "source": [
        "train_df = pd.DataFrame({DATA_COLUMN:train_l, LABEL_COLUMN:label_l})\n",
        "train_df = train_df.sample(frac=1).reset_index(drop=True)\n",
        "train_df.shape"
      ]
    },
    {
      "cell_type": "code",
      "execution_count": 38,
      "metadata": {
        "colab": {
          "base_uri": "https://localhost:8080/"
        },
        "id": "k_I-ZbSKVmrZ",
        "outputId": "8429322f-a4ec-4817-9888-dbc8ed2e931f"
      },
      "outputs": [
        {
          "output_type": "execute_result",
          "data": {
            "text/plain": [
              "(666, 2)"
            ]
          },
          "metadata": {},
          "execution_count": 38
        }
      ],
      "source": [
        "val_df = pd.DataFrame({DATA_COLUMN:val_l, LABEL_COLUMN:val_label_l})\n",
        "val_df = val_df.sample(frac=1).reset_index(drop=True)\n",
        "val_df.shape"
      ]
    },
    {
      "cell_type": "code",
      "source": [
        "train_df.to_csv('train_df.csv', index=False)\n",
        "val_df.to_csv('val_df.csv', index=False)"
      ],
      "metadata": {
        "id": "Vralgu0c3GMH"
      },
      "execution_count": 39,
      "outputs": []
    },
    {
      "cell_type": "code",
      "source": [
        "'''\n",
        "test_df = pd.DataFrame({DATA_COLUMN:test_l, LABEL_COLUMN:test_label_l})\n",
        "test_df = test_df.sample(frac=1).reset_index(drop=True)\n",
        "test_df.shape\n",
        "'''"
      ],
      "metadata": {
        "colab": {
          "base_uri": "https://localhost:8080/",
          "height": 53
        },
        "id": "CZ7O-mZ6gRa5",
        "outputId": "e9cc2bea-2ec6-429d-8094-74724dcf4f1d"
      },
      "execution_count": 40,
      "outputs": [
        {
          "output_type": "execute_result",
          "data": {
            "text/plain": [
              "'\\ntest_df = pd.DataFrame({DATA_COLUMN:test_l, LABEL_COLUMN:test_label_l})\\ntest_df = test_df.sample(frac=1).reset_index(drop=True)\\ntest_df.shape\\n'"
            ],
            "application/vnd.google.colaboratory.intrinsic+json": {
              "type": "string"
            }
          },
          "metadata": {},
          "execution_count": 40
        }
      ]
    },
    {
      "cell_type": "code",
      "execution_count": 41,
      "metadata": {
        "id": "Uf3tlFA7heHv"
      },
      "outputs": [],
      "source": [
        "meta_train_base = train.copy()\n",
        "meta_val_base = val.copy()"
      ]
    },
    {
      "cell_type": "markdown",
      "metadata": {
        "id": "og08g7DScPtK"
      },
      "source": [
        "# BERT: Data Preprocessing "
      ]
    },
    {
      "cell_type": "markdown",
      "metadata": {
        "id": "2PWVomvm7TV5"
      },
      "source": [
        "Process the data for BERT"
      ]
    },
    {
      "cell_type": "code",
      "execution_count": 42,
      "metadata": {
        "id": "e-_zLSnh7evE"
      },
      "outputs": [],
      "source": [
        "train_InputExamples = train_df.apply(lambda x: bert.run_classifier.InputExample(guid=None,\n",
        "                                                                   text_a = x[DATA_COLUMN], \n",
        "                                                                   text_b = None, \n",
        "                                                                   label = x[LABEL_COLUMN]), axis = 1)\n",
        "\n",
        "val_InputExamples = val_df.apply(lambda x: bert.run_classifier.InputExample(guid=None, \n",
        "                                                                   text_a = x[DATA_COLUMN], \n",
        "                                                                   text_b = None, \n",
        "                                                                   label = x[LABEL_COLUMN]), axis = 1)"
      ]
    },
    {
      "cell_type": "code",
      "execution_count": 43,
      "metadata": {
        "colab": {
          "base_uri": "https://localhost:8080/"
        },
        "id": "UOq7ETNe7zGJ",
        "outputId": "1a2c0e9f-c713-4c54-adac-0d42e55b50a0"
      },
      "outputs": [
        {
          "output_type": "execute_result",
          "data": {
            "text/plain": [
              "0       <bert.run_classifier.InputExample object at 0x...\n",
              "1       <bert.run_classifier.InputExample object at 0x...\n",
              "2       <bert.run_classifier.InputExample object at 0x...\n",
              "3       <bert.run_classifier.InputExample object at 0x...\n",
              "4       <bert.run_classifier.InputExample object at 0x...\n",
              "                              ...                        \n",
              "2621    <bert.run_classifier.InputExample object at 0x...\n",
              "2622    <bert.run_classifier.InputExample object at 0x...\n",
              "2623    <bert.run_classifier.InputExample object at 0x...\n",
              "2624    <bert.run_classifier.InputExample object at 0x...\n",
              "2625    <bert.run_classifier.InputExample object at 0x...\n",
              "Length: 2626, dtype: object"
            ]
          },
          "metadata": {},
          "execution_count": 43
        }
      ],
      "source": [
        "train_InputExamples"
      ]
    },
    {
      "cell_type": "code",
      "execution_count": 44,
      "metadata": {
        "colab": {
          "base_uri": "https://localhost:8080/"
        },
        "id": "d0E8U0OQ8VW6",
        "outputId": "a269e277-0fde-4be0-e40a-6770737f4321"
      },
      "outputs": [
        {
          "output_type": "stream",
          "name": "stdout",
          "text": [
            "Row 0 - guid of training set :  None\n",
            "\n",
            "__________\n",
            "Row 0 - text_a of training set :  tin chắc rằng nếu chúng ta tiếp tục bám sát những nguyên tắc của mình kiểm soát tốt luồng di cư từ bên ngoài vào nội địa con virus quái ác sẽ khó xâm phạm và làm đảo lộn cuộc sống tạm yên bình này lo lắng và hy vọng lớn nhất của tôi là niềm tin chống dịch vào hệ thống y tế vừa nhen nhóm sẽ không bị kéo đổ do những con sâu làm rầu nồi canh như những vụ bắt bớ vì sai phạm không liên quan đến hoạt động chuyên môn của các vị giám đốc vài bệnh viện lãnh đạo cdc hay những dòng người nhập cảnh tiểu ngạch đang kéo về trước tết sẽ trong tầm kiểm soát quay lại việc thử nghiệm vaccine made in vietnam mà tôi được dự lễ khởi động hôm qua hy vọng thử nghiệm lâm sàng sẽ thành công chúng ta vẫn đang đi đúng chiến lược đã vạch ra đóng cửa với các nước có kiểm soát cách ly cho đến khi vaccine phát huy hiệu quả ở năm covid thứ hai này chúng ta vẫn sẽ có những ca lây nhiễm lọt ra cộng đồng\n",
            "\n",
            "__________\n",
            "Row 0 - text_b of training set :  None\n",
            "\n",
            "__________\n",
            "Row 0 - label of training set :  12\n"
          ]
        }
      ],
      "source": [
        "print(\"Row 0 - guid of training set : \", train_InputExamples.iloc[0].guid)\n",
        "print(\"\\n__________\\nRow 0 - text_a of training set : \", train_InputExamples.iloc[0].text_a)\n",
        "print(\"\\n__________\\nRow 0 - text_b of training set : \", train_InputExamples.iloc[0].text_b)\n",
        "print(\"\\n__________\\nRow 0 - label of training set : \", train_InputExamples.iloc[0].label)"
      ]
    },
    {
      "cell_type": "markdown",
      "metadata": {
        "id": "SoIt5AHadACM"
      },
      "source": [
        "# BERT: Loading the pre-trained model"
      ]
    },
    {
      "cell_type": "code",
      "execution_count": 45,
      "metadata": {
        "colab": {
          "base_uri": "https://localhost:8080/"
        },
        "id": "W4PZ8ogj8ae2",
        "outputId": "f0353bd6-5c84-4993-ebcc-90eef4f75cea"
      },
      "outputs": [
        {
          "output_type": "stream",
          "name": "stdout",
          "text": [
            "INFO:tensorflow:Saver not created because there are no variables in the graph to restore\n"
          ]
        },
        {
          "output_type": "stream",
          "name": "stderr",
          "text": [
            "INFO:tensorflow:Saver not created because there are no variables in the graph to restore\n"
          ]
        },
        {
          "output_type": "stream",
          "name": "stdout",
          "text": [
            "WARNING:tensorflow:From /usr/local/lib/python3.7/dist-packages/bert/tokenization.py:125: The name tf.gfile.GFile is deprecated. Please use tf.io.gfile.GFile instead.\n",
            "\n"
          ]
        },
        {
          "output_type": "stream",
          "name": "stderr",
          "text": [
            "WARNING:tensorflow:From /usr/local/lib/python3.7/dist-packages/bert/tokenization.py:125: The name tf.gfile.GFile is deprecated. Please use tf.io.gfile.GFile instead.\n",
            "\n"
          ]
        }
      ],
      "source": [
        "# This is a path to an uncased (all lowercase) version of BERT\n",
        "# BERT_MODEL_HUB = \"https://tfhub.dev/google/bert_uncased_L-12_H-768_A-12/1\"\n",
        "BERT_MODEL_HUB = \"https://tfhub.dev/google/bert_multi_cased_L-12_H-768_A-12/1\"\n",
        "\n",
        "def create_tokenizer_from_hub_module():\n",
        "  \"\"\"Get the vocab file and casing info from the Hub module.\"\"\"\n",
        "  with tf.Graph().as_default():\n",
        "    bert_module = hub.Module(BERT_MODEL_HUB)\n",
        "    tokenization_info = bert_module(signature=\"tokenization_info\", as_dict=True)\n",
        "    with tf.Session() as sess:\n",
        "      vocab_file, do_lower_case = sess.run([tokenization_info[\"vocab_file\"],\n",
        "                                            tokenization_info[\"do_lower_case\"]])\n",
        "      \n",
        "  return bert.tokenization.FullTokenizer(\n",
        "      vocab_file=vocab_file, do_lower_case=do_lower_case)\n",
        "\n",
        "tokenizer = create_tokenizer_from_hub_module()"
      ]
    },
    {
      "cell_type": "code",
      "execution_count": 46,
      "metadata": {
        "colab": {
          "base_uri": "https://localhost:8080/"
        },
        "id": "qS_ybJmv8lye",
        "outputId": "83872b2f-9b0d-4a3c-af6f-a1d10a433f5e"
      },
      "outputs": [
        {
          "output_type": "execute_result",
          "data": {
            "text/plain": [
              "119547"
            ]
          },
          "metadata": {},
          "execution_count": 46
        }
      ],
      "source": [
        "len(tokenizer.vocab.keys())"
      ]
    },
    {
      "cell_type": "code",
      "execution_count": 47,
      "metadata": {
        "colab": {
          "base_uri": "https://localhost:8080/"
        },
        "id": "O6OqoZjv8r27",
        "outputId": "9e85975b-0418-46a2-de3b-c2af53b38c0e"
      },
      "outputs": [
        {
          "output_type": "stream",
          "name": "stdout",
          "text": [
            "['tin', 'ch', '##ắc', 'rằng', 'nếu', 'chúng', 'ta', 'tiếp', 'tục', 'bá', '##m', 'sát', 'những', 'nguyên', 'tắc', 'của', 'mình', 'kiểm', 'soát', 'tốt', 'lu', '##ồng', 'di', 'cư', 'từ', 'bên', 'ngoài', 'vào', 'nội', 'địa', 'con', 'virus', 'quá', '##i', 'á', '##c', 'sẽ', 'khó', 'xâm', 'phạm', 'và', 'làm', 'đảo', 'lộ', '##n', 'cuộc', 'sống', 'tạm', 'y', '##ên', 'bình', 'này', 'lo', 'l', '##ắng', 'và', 'hy', 'vọng', 'lớn', 'nhất', 'của', 'tôi', 'là', 'ni', '##ềm', 'tin', 'chống', 'dịch', 'vào', 'hệ', 'thống', 'y', 'tế', 'vừa', 'n', '##hen', 'nhóm', 'sẽ', 'không', 'bị', 'kéo', 'đổ', 'do', 'những', 'con', 'sâu', 'làm', 'r', '##ầu', 'n', '##ồi', 'can', '##h', 'như', 'những', 'vụ', 'bắt', 'b', '##ớ', 'vì', 'sai', 'phạm', 'không', 'liên', 'quan', 'đến', 'hoạt', 'động', 'chuyên', 'môn', 'của', 'các', 'vị', 'giám', 'đốc', 'vài', 'bệnh', 'viện', 'lãnh', 'đạo', 'cd', '##c', 'hay', 'những', 'dòng', 'người', 'nhập', 'cảnh', 'tiểu', 'ng', '##ạch', 'đang', 'kéo', 'về', 'trước', 'tế', '##t', 'sẽ', 'trong', 'tầm', 'kiểm', 'soát', 'quay', 'lại', 'việc', 'thử', 'nghiệm', 'va', '##cci', '##ne', 'made', 'in', 'vie', '##tna', '##m', 'mà', 'tôi', 'được', 'dự', 'lễ', 'khởi', 'động', 'hôm', 'qua', 'hy', 'vọng', 'thử', 'nghiệm', 'lâm', 's', '##àng', 'sẽ', 'thành', 'công', 'chúng', 'ta', 'vẫn', 'đang', 'đi', 'đúng', 'chiến', 'lược', 'đã', 'v', '##ạch', 'ra', 'đóng', 'cửa', 'với', 'các', 'nước', 'có', 'kiểm', 'soát', 'cách', 'ly', 'cho', 'đến', 'khi', 'va', '##cci', '##ne', 'phát', 'huy', 'hiệu', 'quả', 'ở', 'năm', 'co', '##vid', 'thứ', 'hai', 'này', 'chúng', 'ta', 'vẫn', 'sẽ', 'có', 'những', 'ca', 'l', '##ây', 'nhiễm', 'l', '##ọt', 'ra', 'cộng', 'đồng']\n"
          ]
        }
      ],
      "source": [
        "#Here is what the tokenised sample of the first training set observation looks like\n",
        "print(tokenizer.tokenize(train_InputExamples.iloc[0].text_a))"
      ]
    },
    {
      "cell_type": "code",
      "execution_count": 48,
      "metadata": {
        "id": "q87k_orF8vpz"
      },
      "outputs": [],
      "source": [
        "MAX_SEQ_LENGTH = 200"
      ]
    },
    {
      "cell_type": "code",
      "execution_count": 49,
      "metadata": {
        "colab": {
          "base_uri": "https://localhost:8080/"
        },
        "id": "G_LBy-yy-GSU",
        "outputId": "e64ec490-3189-47b3-a368-f90404d4ad7b"
      },
      "outputs": [
        {
          "output_type": "stream",
          "name": "stdout",
          "text": [
            "WARNING:tensorflow:From /usr/local/lib/python3.7/dist-packages/bert/run_classifier.py:774: The name tf.logging.info is deprecated. Please use tf.compat.v1.logging.info instead.\n",
            "\n"
          ]
        },
        {
          "output_type": "stream",
          "name": "stderr",
          "text": [
            "WARNING:tensorflow:From /usr/local/lib/python3.7/dist-packages/bert/run_classifier.py:774: The name tf.logging.info is deprecated. Please use tf.compat.v1.logging.info instead.\n",
            "\n"
          ]
        },
        {
          "output_type": "stream",
          "name": "stdout",
          "text": [
            "INFO:tensorflow:Writing example 0 of 2626\n"
          ]
        },
        {
          "output_type": "stream",
          "name": "stderr",
          "text": [
            "INFO:tensorflow:Writing example 0 of 2626\n"
          ]
        },
        {
          "output_type": "stream",
          "name": "stdout",
          "text": [
            "INFO:tensorflow:*** Example ***\n"
          ]
        },
        {
          "output_type": "stream",
          "name": "stderr",
          "text": [
            "INFO:tensorflow:*** Example ***\n"
          ]
        },
        {
          "output_type": "stream",
          "name": "stdout",
          "text": [
            "INFO:tensorflow:guid: None\n"
          ]
        },
        {
          "output_type": "stream",
          "name": "stderr",
          "text": [
            "INFO:tensorflow:guid: None\n"
          ]
        },
        {
          "output_type": "stream",
          "name": "stdout",
          "text": [
            "INFO:tensorflow:tokens: [CLS] tin ch ##ắc rằng nếu chúng ta tiếp tục bá ##m sát những nguyên tắc của mình kiểm soát tốt lu ##ồng di cư từ bên ngoài vào nội địa con virus quá ##i á ##c sẽ khó xâm phạm và làm đảo lộ ##n cuộc sống tạm y ##ên bình này lo l ##ắng và hy vọng lớn nhất của tôi là ni ##ềm tin chống dịch vào hệ thống y tế vừa n ##hen nhóm sẽ không bị kéo đổ do những con sâu làm r ##ầu n ##ồi can ##h như những vụ bắt b ##ớ vì sai phạm không liên quan đến hoạt động chuyên môn của các vị giám đốc vài bệnh viện lãnh đạo cd ##c hay những dòng người nhập cảnh tiểu ng ##ạch đang kéo về trước tế ##t sẽ trong tầm kiểm soát quay lại việc thử nghiệm va ##cci ##ne made in vie ##tna ##m mà tôi được dự lễ khởi động hôm qua hy vọng thử nghiệm lâm s ##àng sẽ thành công chúng ta vẫn đang đi đúng chiến lược đã v ##ạch ra đóng cửa với các nước có kiểm soát cách ly cho đến [SEP]\n"
          ]
        },
        {
          "output_type": "stream",
          "name": "stderr",
          "text": [
            "INFO:tensorflow:tokens: [CLS] tin ch ##ắc rằng nếu chúng ta tiếp tục bá ##m sát những nguyên tắc của mình kiểm soát tốt lu ##ồng di cư từ bên ngoài vào nội địa con virus quá ##i á ##c sẽ khó xâm phạm và làm đảo lộ ##n cuộc sống tạm y ##ên bình này lo l ##ắng và hy vọng lớn nhất của tôi là ni ##ềm tin chống dịch vào hệ thống y tế vừa n ##hen nhóm sẽ không bị kéo đổ do những con sâu làm r ##ầu n ##ồi can ##h như những vụ bắt b ##ớ vì sai phạm không liên quan đến hoạt động chuyên môn của các vị giám đốc vài bệnh viện lãnh đạo cd ##c hay những dòng người nhập cảnh tiểu ng ##ạch đang kéo về trước tế ##t sẽ trong tầm kiểm soát quay lại việc thử nghiệm va ##cci ##ne made in vie ##tna ##m mà tôi được dự lễ khởi động hôm qua hy vọng thử nghiệm lâm s ##àng sẽ thành công chúng ta vẫn đang đi đúng chiến lược đã v ##ạch ra đóng cửa với các nước có kiểm soát cách ly cho đến [SEP]\n"
          ]
        },
        {
          "output_type": "stream",
          "name": "stdout",
          "text": [
            "INFO:tensorflow:input_ids: 101 21629 18643 36228 16487 41800 18097 11057 16948 26454 74686 10147 25133 11934 22862 96723 10447 17830 43229 64520 33598 14657 37622 10120 34954 11840 24429 25331 11603 35498 18495 10173 20399 27261 10116 255 10350 16807 54155 75956 50816 10432 12984 22587 43993 10115 15625 17135 105463 193 20270 20438 10789 10406 180 55628 10432 15165 73429 15731 13346 10447 40813 10331 10414 67060 21629 28237 22654 11603 18310 16805 193 17105 60644 182 14786 24770 16807 11755 12505 47598 48424 10149 11934 10173 53752 12984 186 59328 182 36825 10944 10237 12552 11934 17790 18019 170 111585 17819 13410 50816 11755 20419 12522 12002 21364 13254 39589 52698 10447 10792 15598 45642 45529 43069 32686 27805 30608 20471 42076 10350 13605 11934 40563 11027 26785 33266 20269 10743 29372 21080 47598 12420 16325 17105 10123 16807 10504 75346 43229 64520 39174 13148 14331 63572 42788 10321 28217 10238 11019 10106 13772 34247 10147 15542 40813 10476 24467 40824 50376 13254 108113 14517 15165 73429 63572 42788 89383 187 51579 16807 11629 12319 18097 11057 22666 21080 16895 82540 14463 64922 11213 190 29372 11859 26885 43872 11182 10792 12932 10601 43229 64520 15605 66003 11257 12002 102\n"
          ]
        },
        {
          "output_type": "stream",
          "name": "stderr",
          "text": [
            "INFO:tensorflow:input_ids: 101 21629 18643 36228 16487 41800 18097 11057 16948 26454 74686 10147 25133 11934 22862 96723 10447 17830 43229 64520 33598 14657 37622 10120 34954 11840 24429 25331 11603 35498 18495 10173 20399 27261 10116 255 10350 16807 54155 75956 50816 10432 12984 22587 43993 10115 15625 17135 105463 193 20270 20438 10789 10406 180 55628 10432 15165 73429 15731 13346 10447 40813 10331 10414 67060 21629 28237 22654 11603 18310 16805 193 17105 60644 182 14786 24770 16807 11755 12505 47598 48424 10149 11934 10173 53752 12984 186 59328 182 36825 10944 10237 12552 11934 17790 18019 170 111585 17819 13410 50816 11755 20419 12522 12002 21364 13254 39589 52698 10447 10792 15598 45642 45529 43069 32686 27805 30608 20471 42076 10350 13605 11934 40563 11027 26785 33266 20269 10743 29372 21080 47598 12420 16325 17105 10123 16807 10504 75346 43229 64520 39174 13148 14331 63572 42788 10321 28217 10238 11019 10106 13772 34247 10147 15542 40813 10476 24467 40824 50376 13254 108113 14517 15165 73429 63572 42788 89383 187 51579 16807 11629 12319 18097 11057 22666 21080 16895 82540 14463 64922 11213 190 29372 11859 26885 43872 11182 10792 12932 10601 43229 64520 15605 66003 11257 12002 102\n"
          ]
        },
        {
          "output_type": "stream",
          "name": "stdout",
          "text": [
            "INFO:tensorflow:input_mask: 1 1 1 1 1 1 1 1 1 1 1 1 1 1 1 1 1 1 1 1 1 1 1 1 1 1 1 1 1 1 1 1 1 1 1 1 1 1 1 1 1 1 1 1 1 1 1 1 1 1 1 1 1 1 1 1 1 1 1 1 1 1 1 1 1 1 1 1 1 1 1 1 1 1 1 1 1 1 1 1 1 1 1 1 1 1 1 1 1 1 1 1 1 1 1 1 1 1 1 1 1 1 1 1 1 1 1 1 1 1 1 1 1 1 1 1 1 1 1 1 1 1 1 1 1 1 1 1 1 1 1 1 1 1 1 1 1 1 1 1 1 1 1 1 1 1 1 1 1 1 1 1 1 1 1 1 1 1 1 1 1 1 1 1 1 1 1 1 1 1 1 1 1 1 1 1 1 1 1 1 1 1 1 1 1 1 1 1 1 1 1 1 1 1 1 1 1 1 1 1\n"
          ]
        },
        {
          "output_type": "stream",
          "name": "stderr",
          "text": [
            "INFO:tensorflow:input_mask: 1 1 1 1 1 1 1 1 1 1 1 1 1 1 1 1 1 1 1 1 1 1 1 1 1 1 1 1 1 1 1 1 1 1 1 1 1 1 1 1 1 1 1 1 1 1 1 1 1 1 1 1 1 1 1 1 1 1 1 1 1 1 1 1 1 1 1 1 1 1 1 1 1 1 1 1 1 1 1 1 1 1 1 1 1 1 1 1 1 1 1 1 1 1 1 1 1 1 1 1 1 1 1 1 1 1 1 1 1 1 1 1 1 1 1 1 1 1 1 1 1 1 1 1 1 1 1 1 1 1 1 1 1 1 1 1 1 1 1 1 1 1 1 1 1 1 1 1 1 1 1 1 1 1 1 1 1 1 1 1 1 1 1 1 1 1 1 1 1 1 1 1 1 1 1 1 1 1 1 1 1 1 1 1 1 1 1 1 1 1 1 1 1 1 1 1 1 1 1 1\n"
          ]
        },
        {
          "output_type": "stream",
          "name": "stdout",
          "text": [
            "INFO:tensorflow:segment_ids: 0 0 0 0 0 0 0 0 0 0 0 0 0 0 0 0 0 0 0 0 0 0 0 0 0 0 0 0 0 0 0 0 0 0 0 0 0 0 0 0 0 0 0 0 0 0 0 0 0 0 0 0 0 0 0 0 0 0 0 0 0 0 0 0 0 0 0 0 0 0 0 0 0 0 0 0 0 0 0 0 0 0 0 0 0 0 0 0 0 0 0 0 0 0 0 0 0 0 0 0 0 0 0 0 0 0 0 0 0 0 0 0 0 0 0 0 0 0 0 0 0 0 0 0 0 0 0 0 0 0 0 0 0 0 0 0 0 0 0 0 0 0 0 0 0 0 0 0 0 0 0 0 0 0 0 0 0 0 0 0 0 0 0 0 0 0 0 0 0 0 0 0 0 0 0 0 0 0 0 0 0 0 0 0 0 0 0 0 0 0 0 0 0 0 0 0 0 0 0 0\n"
          ]
        },
        {
          "output_type": "stream",
          "name": "stderr",
          "text": [
            "INFO:tensorflow:segment_ids: 0 0 0 0 0 0 0 0 0 0 0 0 0 0 0 0 0 0 0 0 0 0 0 0 0 0 0 0 0 0 0 0 0 0 0 0 0 0 0 0 0 0 0 0 0 0 0 0 0 0 0 0 0 0 0 0 0 0 0 0 0 0 0 0 0 0 0 0 0 0 0 0 0 0 0 0 0 0 0 0 0 0 0 0 0 0 0 0 0 0 0 0 0 0 0 0 0 0 0 0 0 0 0 0 0 0 0 0 0 0 0 0 0 0 0 0 0 0 0 0 0 0 0 0 0 0 0 0 0 0 0 0 0 0 0 0 0 0 0 0 0 0 0 0 0 0 0 0 0 0 0 0 0 0 0 0 0 0 0 0 0 0 0 0 0 0 0 0 0 0 0 0 0 0 0 0 0 0 0 0 0 0 0 0 0 0 0 0 0 0 0 0 0 0 0 0 0 0 0 0\n"
          ]
        },
        {
          "output_type": "stream",
          "name": "stdout",
          "text": [
            "INFO:tensorflow:label: 12 (id = 12)\n"
          ]
        },
        {
          "output_type": "stream",
          "name": "stderr",
          "text": [
            "INFO:tensorflow:label: 12 (id = 12)\n"
          ]
        },
        {
          "output_type": "stream",
          "name": "stdout",
          "text": [
            "INFO:tensorflow:*** Example ***\n"
          ]
        },
        {
          "output_type": "stream",
          "name": "stderr",
          "text": [
            "INFO:tensorflow:*** Example ***\n"
          ]
        },
        {
          "output_type": "stream",
          "name": "stdout",
          "text": [
            "INFO:tensorflow:guid: None\n"
          ]
        },
        {
          "output_type": "stream",
          "name": "stderr",
          "text": [
            "INFO:tensorflow:guid: None\n"
          ]
        },
        {
          "output_type": "stream",
          "name": "stdout",
          "text": [
            "INFO:tensorflow:tokens: [CLS] thủ trưởng mới tôi ng ##ồi đ ##ợi một lúc người cá ##n bộ g ##ầy nhỏ trên mặt đe ##o c ##ặp đ ##ít cha ##i d ##ầy bước vào ch ##ị nhân viên nói qua về trường hợp này từ s ##ài g ##òn ra tất nhiên là tôi biết ch ##áu phải đi học rồi ông bảo cô để lại giấy khai sinh của ch ##áu và đơn đề nghị cấp s ##ổ mới có thể viết tay gửi công an quận hơn một tuần sau tôi quay lại nhận s ##ổ hộ khẩu vừa k ##ị ##p xin cho con vào trường cấp một mùa hè năm ấy mỗi lần phải dùng đến s ##ổ hộ khẩu tôi thường nghĩ đến hai vị cá ##n bộ một người dá ##ng d ##ấp quyền u ##y và l ##ạnh lẽ ##o và vị ki ##a tr ##ông kiểu kiểu giáo viên ở tỉnh d ##ường như một người chỉ xử lý việc cho dân nếu dân chứng minh được rằng cá ##n bộ của họ bằng cây b ##út mực đen đã viết sai tên còn một người nhìn ra đ ##ứa trẻ bị viết [SEP]\n"
          ]
        },
        {
          "output_type": "stream",
          "name": "stderr",
          "text": [
            "INFO:tensorflow:tokens: [CLS] thủ trưởng mới tôi ng ##ồi đ ##ợi một lúc người cá ##n bộ g ##ầy nhỏ trên mặt đe ##o c ##ặp đ ##ít cha ##i d ##ầy bước vào ch ##ị nhân viên nói qua về trường hợp này từ s ##ài g ##òn ra tất nhiên là tôi biết ch ##áu phải đi học rồi ông bảo cô để lại giấy khai sinh của ch ##áu và đơn đề nghị cấp s ##ổ mới có thể viết tay gửi công an quận hơn một tuần sau tôi quay lại nhận s ##ổ hộ khẩu vừa k ##ị ##p xin cho con vào trường cấp một mùa hè năm ấy mỗi lần phải dùng đến s ##ổ hộ khẩu tôi thường nghĩ đến hai vị cá ##n bộ một người dá ##ng d ##ấp quyền u ##y và l ##ạnh lẽ ##o và vị ki ##a tr ##ông kiểu kiểu giáo viên ở tỉnh d ##ường như một người chỉ xử lý việc cho dân nếu dân chứng minh được rằng cá ##n bộ của họ bằng cây b ##út mực đen đã viết sai tên còn một người nhìn ra đ ##ứa trẻ bị viết [SEP]\n"
          ]
        },
        {
          "output_type": "stream",
          "name": "stdout",
          "text": [
            "INFO:tensorflow:input_ids: 101 18755 22380 18652 40813 10743 36825 299 53725 10417 28298 11027 23664 10115 13848 175 64761 23034 12598 20047 79212 10133 171 75669 299 25462 18939 10116 172 64761 71093 11603 18643 30324 14694 15202 22072 14517 12420 16188 16117 10789 11840 187 41501 175 40500 11859 31734 17685 10331 40813 21820 18643 12163 15723 16895 11125 36827 12660 22916 20360 12460 13148 106721 37949 14422 10447 18643 12163 10432 22400 20192 40352 18928 187 51417 18652 10601 12334 24957 30562 79100 12319 10151 22783 14789 10417 37716 11731 40813 39174 13148 16638 187 51417 29418 43377 60644 179 30324 10410 77178 11257 10173 11603 16188 18928 10417 27637 103096 10558 52256 31504 18581 15723 22344 12002 187 51417 29418 43377 40813 16591 98583 12002 13080 15598 23664 10115 13848 10417 11027 27101 10376 172 53626 17992 189 10157 10432 180 55572 93346 10133 10432 15598 10879 10113 32221 32276 56790 56790 18668 15202 1682 14221 172 38259 12552 10417 11027 14294 59324 17522 14331 11257 12486 41800 12486 34445 30407 10476 16487 23664 10115 13848 10447 10876 15991 30054 170 26288 55101 55945 11213 24957 13410 15322 14674 10417 11027 54762 11859 299 57489 38723 12505 24957 102\n"
          ]
        },
        {
          "output_type": "stream",
          "name": "stderr",
          "text": [
            "INFO:tensorflow:input_ids: 101 18755 22380 18652 40813 10743 36825 299 53725 10417 28298 11027 23664 10115 13848 175 64761 23034 12598 20047 79212 10133 171 75669 299 25462 18939 10116 172 64761 71093 11603 18643 30324 14694 15202 22072 14517 12420 16188 16117 10789 11840 187 41501 175 40500 11859 31734 17685 10331 40813 21820 18643 12163 15723 16895 11125 36827 12660 22916 20360 12460 13148 106721 37949 14422 10447 18643 12163 10432 22400 20192 40352 18928 187 51417 18652 10601 12334 24957 30562 79100 12319 10151 22783 14789 10417 37716 11731 40813 39174 13148 16638 187 51417 29418 43377 60644 179 30324 10410 77178 11257 10173 11603 16188 18928 10417 27637 103096 10558 52256 31504 18581 15723 22344 12002 187 51417 29418 43377 40813 16591 98583 12002 13080 15598 23664 10115 13848 10417 11027 27101 10376 172 53626 17992 189 10157 10432 180 55572 93346 10133 10432 15598 10879 10113 32221 32276 56790 56790 18668 15202 1682 14221 172 38259 12552 10417 11027 14294 59324 17522 14331 11257 12486 41800 12486 34445 30407 10476 16487 23664 10115 13848 10447 10876 15991 30054 170 26288 55101 55945 11213 24957 13410 15322 14674 10417 11027 54762 11859 299 57489 38723 12505 24957 102\n"
          ]
        },
        {
          "output_type": "stream",
          "name": "stdout",
          "text": [
            "INFO:tensorflow:input_mask: 1 1 1 1 1 1 1 1 1 1 1 1 1 1 1 1 1 1 1 1 1 1 1 1 1 1 1 1 1 1 1 1 1 1 1 1 1 1 1 1 1 1 1 1 1 1 1 1 1 1 1 1 1 1 1 1 1 1 1 1 1 1 1 1 1 1 1 1 1 1 1 1 1 1 1 1 1 1 1 1 1 1 1 1 1 1 1 1 1 1 1 1 1 1 1 1 1 1 1 1 1 1 1 1 1 1 1 1 1 1 1 1 1 1 1 1 1 1 1 1 1 1 1 1 1 1 1 1 1 1 1 1 1 1 1 1 1 1 1 1 1 1 1 1 1 1 1 1 1 1 1 1 1 1 1 1 1 1 1 1 1 1 1 1 1 1 1 1 1 1 1 1 1 1 1 1 1 1 1 1 1 1 1 1 1 1 1 1 1 1 1 1 1 1 1 1 1 1 1 1\n"
          ]
        },
        {
          "output_type": "stream",
          "name": "stderr",
          "text": [
            "INFO:tensorflow:input_mask: 1 1 1 1 1 1 1 1 1 1 1 1 1 1 1 1 1 1 1 1 1 1 1 1 1 1 1 1 1 1 1 1 1 1 1 1 1 1 1 1 1 1 1 1 1 1 1 1 1 1 1 1 1 1 1 1 1 1 1 1 1 1 1 1 1 1 1 1 1 1 1 1 1 1 1 1 1 1 1 1 1 1 1 1 1 1 1 1 1 1 1 1 1 1 1 1 1 1 1 1 1 1 1 1 1 1 1 1 1 1 1 1 1 1 1 1 1 1 1 1 1 1 1 1 1 1 1 1 1 1 1 1 1 1 1 1 1 1 1 1 1 1 1 1 1 1 1 1 1 1 1 1 1 1 1 1 1 1 1 1 1 1 1 1 1 1 1 1 1 1 1 1 1 1 1 1 1 1 1 1 1 1 1 1 1 1 1 1 1 1 1 1 1 1 1 1 1 1 1 1\n"
          ]
        },
        {
          "output_type": "stream",
          "name": "stdout",
          "text": [
            "INFO:tensorflow:segment_ids: 0 0 0 0 0 0 0 0 0 0 0 0 0 0 0 0 0 0 0 0 0 0 0 0 0 0 0 0 0 0 0 0 0 0 0 0 0 0 0 0 0 0 0 0 0 0 0 0 0 0 0 0 0 0 0 0 0 0 0 0 0 0 0 0 0 0 0 0 0 0 0 0 0 0 0 0 0 0 0 0 0 0 0 0 0 0 0 0 0 0 0 0 0 0 0 0 0 0 0 0 0 0 0 0 0 0 0 0 0 0 0 0 0 0 0 0 0 0 0 0 0 0 0 0 0 0 0 0 0 0 0 0 0 0 0 0 0 0 0 0 0 0 0 0 0 0 0 0 0 0 0 0 0 0 0 0 0 0 0 0 0 0 0 0 0 0 0 0 0 0 0 0 0 0 0 0 0 0 0 0 0 0 0 0 0 0 0 0 0 0 0 0 0 0 0 0 0 0 0 0\n"
          ]
        },
        {
          "output_type": "stream",
          "name": "stderr",
          "text": [
            "INFO:tensorflow:segment_ids: 0 0 0 0 0 0 0 0 0 0 0 0 0 0 0 0 0 0 0 0 0 0 0 0 0 0 0 0 0 0 0 0 0 0 0 0 0 0 0 0 0 0 0 0 0 0 0 0 0 0 0 0 0 0 0 0 0 0 0 0 0 0 0 0 0 0 0 0 0 0 0 0 0 0 0 0 0 0 0 0 0 0 0 0 0 0 0 0 0 0 0 0 0 0 0 0 0 0 0 0 0 0 0 0 0 0 0 0 0 0 0 0 0 0 0 0 0 0 0 0 0 0 0 0 0 0 0 0 0 0 0 0 0 0 0 0 0 0 0 0 0 0 0 0 0 0 0 0 0 0 0 0 0 0 0 0 0 0 0 0 0 0 0 0 0 0 0 0 0 0 0 0 0 0 0 0 0 0 0 0 0 0 0 0 0 0 0 0 0 0 0 0 0 0 0 0 0 0 0 0\n"
          ]
        },
        {
          "output_type": "stream",
          "name": "stdout",
          "text": [
            "INFO:tensorflow:label: 8 (id = 8)\n"
          ]
        },
        {
          "output_type": "stream",
          "name": "stderr",
          "text": [
            "INFO:tensorflow:label: 8 (id = 8)\n"
          ]
        },
        {
          "output_type": "stream",
          "name": "stdout",
          "text": [
            "INFO:tensorflow:*** Example ***\n"
          ]
        },
        {
          "output_type": "stream",
          "name": "stderr",
          "text": [
            "INFO:tensorflow:*** Example ***\n"
          ]
        },
        {
          "output_type": "stream",
          "name": "stdout",
          "text": [
            "INFO:tensorflow:guid: None\n"
          ]
        },
        {
          "output_type": "stream",
          "name": "stderr",
          "text": [
            "INFO:tensorflow:guid: None\n"
          ]
        },
        {
          "output_type": "stream",
          "name": "stdout",
          "text": [
            "INFO:tensorflow:tokens: [CLS] quá tải có khi 4 5 ch ##áu phải nằm chung một gi ##ường số bệnh nhân nặng do sở ##i biến chứng ngày nào cũng có bệnh nhân đông đến mức tr ##àn ra cả hành lang các bác sĩ trực x ##ong vẫn phải ở lại làm việc mà không dá ##m nghỉ b ##ù m ##ấy tháng trời nhân viên y tế m ##ệt m ##ỏ ##i với bệnh nhân sở ##i ngày một đông điều đó k ##h ##ẳng định ngành y không h ##ề l ##ơ là với dịch bệnh nhưng câu hỏi đặt ra vậy đ ##âu là nguyên nhân làm cho bệnh sở ##i b ##ùng phát h ##ã ##y nhớ lại vụ ti ##êm chủng v ##ắc xin vi ##êm gan b cho 3 ch ##áu bé sơ sinh bị tử von ##g ở quảng trị khi đó truyền thông vào cuộc một số bài báo đã thổ ##i b ##ùng lên ng ##ọn lửa d ##ư luận hậu quả là nhiều người dân sợ h ##ãi ti ##êm v ##ắc xin coi v ##ắc xin như thuốc độc giết người bản thân tôi là một bác sĩ vậy mà [SEP]\n"
          ]
        },
        {
          "output_type": "stream",
          "name": "stderr",
          "text": [
            "INFO:tensorflow:tokens: [CLS] quá tải có khi 4 5 ch ##áu phải nằm chung một gi ##ường số bệnh nhân nặng do sở ##i biến chứng ngày nào cũng có bệnh nhân đông đến mức tr ##àn ra cả hành lang các bác sĩ trực x ##ong vẫn phải ở lại làm việc mà không dá ##m nghỉ b ##ù m ##ấy tháng trời nhân viên y tế m ##ệt m ##ỏ ##i với bệnh nhân sở ##i ngày một đông điều đó k ##h ##ẳng định ngành y không h ##ề l ##ơ là với dịch bệnh nhưng câu hỏi đặt ra vậy đ ##âu là nguyên nhân làm cho bệnh sở ##i b ##ùng phát h ##ã ##y nhớ lại vụ ti ##êm chủng v ##ắc xin vi ##êm gan b cho 3 ch ##áu bé sơ sinh bị tử von ##g ở quảng trị khi đó truyền thông vào cuộc một số bài báo đã thổ ##i b ##ùng lên ng ##ọn lửa d ##ư luận hậu quả là nhiều người dân sợ h ##ãi ti ##êm v ##ắc xin coi v ##ắc xin như thuốc độc giết người bản thân tôi là một bác sĩ vậy mà [SEP]\n"
          ]
        },
        {
          "output_type": "stream",
          "name": "stdout",
          "text": [
            "INFO:tensorflow:input_ids: 101 27261 56968 10601 12072 125 126 18643 12163 15723 21152 30404 10417 38356 38259 11634 32686 14694 47428 10149 28077 10116 23719 34445 12137 27258 13284 10601 32686 14694 23164 12002 46417 32221 22039 11859 16125 13910 12603 10792 98709 18228 34270 192 13891 22666 15723 1682 13148 12984 14331 15542 11755 27101 10147 103387 170 13580 181 48215 11642 68121 14694 15202 193 17105 181 30097 181 36091 10116 11182 32686 14694 28077 10116 12137 10417 23164 16391 12393 179 10237 73882 15027 49257 193 11755 176 43021 180 45085 10331 11182 22654 32686 15662 33046 66229 23568 11859 31811 299 28345 10331 22862 14694 12984 11257 32686 28077 10116 170 27787 13803 176 18001 10157 90290 13148 17790 14382 24495 58675 190 36228 77178 13956 24495 13412 170 11257 124 18643 12163 29045 81128 14422 12505 20939 10166 10240 1682 101707 18327 12072 12393 20967 18030 11603 15625 10417 11634 23935 24276 11213 50546 10116 170 27787 16732 10743 34979 50718 172 28776 43769 25717 25308 10331 13710 11027 12486 93663 176 47376 14382 24495 190 36228 77178 26434 190 36228 77178 12552 63950 32163 43011 11027 15194 22894 40813 10331 10417 98709 18228 31811 15542 102\n"
          ]
        },
        {
          "output_type": "stream",
          "name": "stderr",
          "text": [
            "INFO:tensorflow:input_ids: 101 27261 56968 10601 12072 125 126 18643 12163 15723 21152 30404 10417 38356 38259 11634 32686 14694 47428 10149 28077 10116 23719 34445 12137 27258 13284 10601 32686 14694 23164 12002 46417 32221 22039 11859 16125 13910 12603 10792 98709 18228 34270 192 13891 22666 15723 1682 13148 12984 14331 15542 11755 27101 10147 103387 170 13580 181 48215 11642 68121 14694 15202 193 17105 181 30097 181 36091 10116 11182 32686 14694 28077 10116 12137 10417 23164 16391 12393 179 10237 73882 15027 49257 193 11755 176 43021 180 45085 10331 11182 22654 32686 15662 33046 66229 23568 11859 31811 299 28345 10331 22862 14694 12984 11257 32686 28077 10116 170 27787 13803 176 18001 10157 90290 13148 17790 14382 24495 58675 190 36228 77178 13956 24495 13412 170 11257 124 18643 12163 29045 81128 14422 12505 20939 10166 10240 1682 101707 18327 12072 12393 20967 18030 11603 15625 10417 11634 23935 24276 11213 50546 10116 170 27787 16732 10743 34979 50718 172 28776 43769 25717 25308 10331 13710 11027 12486 93663 176 47376 14382 24495 190 36228 77178 26434 190 36228 77178 12552 63950 32163 43011 11027 15194 22894 40813 10331 10417 98709 18228 31811 15542 102\n"
          ]
        },
        {
          "output_type": "stream",
          "name": "stdout",
          "text": [
            "INFO:tensorflow:input_mask: 1 1 1 1 1 1 1 1 1 1 1 1 1 1 1 1 1 1 1 1 1 1 1 1 1 1 1 1 1 1 1 1 1 1 1 1 1 1 1 1 1 1 1 1 1 1 1 1 1 1 1 1 1 1 1 1 1 1 1 1 1 1 1 1 1 1 1 1 1 1 1 1 1 1 1 1 1 1 1 1 1 1 1 1 1 1 1 1 1 1 1 1 1 1 1 1 1 1 1 1 1 1 1 1 1 1 1 1 1 1 1 1 1 1 1 1 1 1 1 1 1 1 1 1 1 1 1 1 1 1 1 1 1 1 1 1 1 1 1 1 1 1 1 1 1 1 1 1 1 1 1 1 1 1 1 1 1 1 1 1 1 1 1 1 1 1 1 1 1 1 1 1 1 1 1 1 1 1 1 1 1 1 1 1 1 1 1 1 1 1 1 1 1 1 1 1 1 1 1 1\n"
          ]
        },
        {
          "output_type": "stream",
          "name": "stderr",
          "text": [
            "INFO:tensorflow:input_mask: 1 1 1 1 1 1 1 1 1 1 1 1 1 1 1 1 1 1 1 1 1 1 1 1 1 1 1 1 1 1 1 1 1 1 1 1 1 1 1 1 1 1 1 1 1 1 1 1 1 1 1 1 1 1 1 1 1 1 1 1 1 1 1 1 1 1 1 1 1 1 1 1 1 1 1 1 1 1 1 1 1 1 1 1 1 1 1 1 1 1 1 1 1 1 1 1 1 1 1 1 1 1 1 1 1 1 1 1 1 1 1 1 1 1 1 1 1 1 1 1 1 1 1 1 1 1 1 1 1 1 1 1 1 1 1 1 1 1 1 1 1 1 1 1 1 1 1 1 1 1 1 1 1 1 1 1 1 1 1 1 1 1 1 1 1 1 1 1 1 1 1 1 1 1 1 1 1 1 1 1 1 1 1 1 1 1 1 1 1 1 1 1 1 1 1 1 1 1 1 1\n"
          ]
        },
        {
          "output_type": "stream",
          "name": "stdout",
          "text": [
            "INFO:tensorflow:segment_ids: 0 0 0 0 0 0 0 0 0 0 0 0 0 0 0 0 0 0 0 0 0 0 0 0 0 0 0 0 0 0 0 0 0 0 0 0 0 0 0 0 0 0 0 0 0 0 0 0 0 0 0 0 0 0 0 0 0 0 0 0 0 0 0 0 0 0 0 0 0 0 0 0 0 0 0 0 0 0 0 0 0 0 0 0 0 0 0 0 0 0 0 0 0 0 0 0 0 0 0 0 0 0 0 0 0 0 0 0 0 0 0 0 0 0 0 0 0 0 0 0 0 0 0 0 0 0 0 0 0 0 0 0 0 0 0 0 0 0 0 0 0 0 0 0 0 0 0 0 0 0 0 0 0 0 0 0 0 0 0 0 0 0 0 0 0 0 0 0 0 0 0 0 0 0 0 0 0 0 0 0 0 0 0 0 0 0 0 0 0 0 0 0 0 0 0 0 0 0 0 0\n"
          ]
        },
        {
          "output_type": "stream",
          "name": "stderr",
          "text": [
            "INFO:tensorflow:segment_ids: 0 0 0 0 0 0 0 0 0 0 0 0 0 0 0 0 0 0 0 0 0 0 0 0 0 0 0 0 0 0 0 0 0 0 0 0 0 0 0 0 0 0 0 0 0 0 0 0 0 0 0 0 0 0 0 0 0 0 0 0 0 0 0 0 0 0 0 0 0 0 0 0 0 0 0 0 0 0 0 0 0 0 0 0 0 0 0 0 0 0 0 0 0 0 0 0 0 0 0 0 0 0 0 0 0 0 0 0 0 0 0 0 0 0 0 0 0 0 0 0 0 0 0 0 0 0 0 0 0 0 0 0 0 0 0 0 0 0 0 0 0 0 0 0 0 0 0 0 0 0 0 0 0 0 0 0 0 0 0 0 0 0 0 0 0 0 0 0 0 0 0 0 0 0 0 0 0 0 0 0 0 0 0 0 0 0 0 0 0 0 0 0 0 0 0 0 0 0 0 0\n"
          ]
        },
        {
          "output_type": "stream",
          "name": "stdout",
          "text": [
            "INFO:tensorflow:label: 3 (id = 3)\n"
          ]
        },
        {
          "output_type": "stream",
          "name": "stderr",
          "text": [
            "INFO:tensorflow:label: 3 (id = 3)\n"
          ]
        },
        {
          "output_type": "stream",
          "name": "stdout",
          "text": [
            "INFO:tensorflow:*** Example ***\n"
          ]
        },
        {
          "output_type": "stream",
          "name": "stderr",
          "text": [
            "INFO:tensorflow:*** Example ***\n"
          ]
        },
        {
          "output_type": "stream",
          "name": "stdout",
          "text": [
            "INFO:tensorflow:guid: None\n"
          ]
        },
        {
          "output_type": "stream",
          "name": "stderr",
          "text": [
            "INFO:tensorflow:guid: None\n"
          ]
        },
        {
          "output_type": "stream",
          "name": "stdout",
          "text": [
            "INFO:tensorflow:tokens: [CLS] nổ chỉ thích ăn một số món luôn để đồ vật một chỗ và sinh hoạt theo công thức của họ số lượng người tự kỷ trong 10 năm qua đã tăng hơn g ##ấp đôi trên toàn cầu tại m ##ỹ hiện 1 68 đ ##ứa trẻ sinh ra m ##ắc chứng này vi ##ệt nam được ước đoán có khoảng 500 000 người tự kỷ và hàng triệu người thân của họ đang ch ##ật vật đối mặt với hội chứng song tự kỷ không được định nghĩa và không có trong luật người khu ##yết t ##ật chưa có thống kê nào của bộ y tế về số người tự kỷ và thực trạng đó là lý do rất nhiều trường học từ ch ##ối không có bất cứ hỗ trợ nào về chính sách bảo hiểm y tế trợ cấp đào tạo nghề cho cộng đồng này ngày hôm nay 2 4 là ngày liên hiệp quốc thông qua nghị quyết ngày nhận thức về tự kỷ thế giới trở thành ngày th ##ắp đ ##èn xanh trên toàn cầu vì người tự kỷ hôm nay nếu bạn thấy ánh đ ##èn xanh l [SEP]\n"
          ]
        },
        {
          "output_type": "stream",
          "name": "stderr",
          "text": [
            "INFO:tensorflow:tokens: [CLS] nổ chỉ thích ăn một số món luôn để đồ vật một chỗ và sinh hoạt theo công thức của họ số lượng người tự kỷ trong 10 năm qua đã tăng hơn g ##ấp đôi trên toàn cầu tại m ##ỹ hiện 1 68 đ ##ứa trẻ sinh ra m ##ắc chứng này vi ##ệt nam được ước đoán có khoảng 500 000 người tự kỷ và hàng triệu người thân của họ đang ch ##ật vật đối mặt với hội chứng song tự kỷ không được định nghĩa và không có trong luật người khu ##yết t ##ật chưa có thống kê nào của bộ y tế về số người tự kỷ và thực trạng đó là lý do rất nhiều trường học từ ch ##ối không có bất cứ hỗ trợ nào về chính sách bảo hiểm y tế trợ cấp đào tạo nghề cho cộng đồng này ngày hôm nay 2 4 là ngày liên hiệp quốc thông qua nghị quyết ngày nhận thức về tự kỷ thế giới trở thành ngày th ##ắp đ ##èn xanh trên toàn cầu vì người tự kỷ hôm nay nếu bạn thấy ánh đ ##èn xanh l [SEP]\n"
          ]
        },
        {
          "output_type": "stream",
          "name": "stdout",
          "text": [
            "INFO:tensorflow:input_ids: 101 68231 14294 32272 23061 10417 11634 22793 53575 12460 37691 11935 10417 71535 10432 14422 21364 13951 12319 19154 10447 10876 11634 15876 11027 15550 26570 10504 10150 10558 14517 11213 21740 14789 175 53626 46395 12598 20005 19168 12086 181 66556 13526 122 12370 299 57489 38723 14422 11859 181 36228 34445 10789 13956 30097 14441 10476 44697 108077 10601 18706 10757 10259 11027 15550 26570 10432 18031 31450 11027 22894 10447 10876 21080 18643 26120 11935 17600 20047 11182 16425 34445 12011 15550 26570 11755 10476 15027 20792 10432 11755 10601 10504 36011 11027 16028 94417 188 26120 26033 10601 16805 78977 27258 10447 13848 193 17105 12420 11634 11027 15550 26570 10432 11992 55315 12393 10331 17522 10149 18946 13710 16188 11125 11840 18643 22207 11755 10601 27402 43735 51336 30627 27258 12420 12707 24544 22916 74275 193 17105 30627 18928 59780 17783 96199 11257 30876 15049 10789 12137 108113 21537 123 125 10331 12137 20419 66866 14369 18030 14517 40352 27016 12137 16638 19154 12420 15550 26570 14421 15814 16001 11629 12137 77586 46916 299 20276 67541 12598 20005 19168 17819 11027 15550 26570 108113 21537 41800 43094 19787 75946 299 20276 67541 180 102\n"
          ]
        },
        {
          "output_type": "stream",
          "name": "stderr",
          "text": [
            "INFO:tensorflow:input_ids: 101 68231 14294 32272 23061 10417 11634 22793 53575 12460 37691 11935 10417 71535 10432 14422 21364 13951 12319 19154 10447 10876 11634 15876 11027 15550 26570 10504 10150 10558 14517 11213 21740 14789 175 53626 46395 12598 20005 19168 12086 181 66556 13526 122 12370 299 57489 38723 14422 11859 181 36228 34445 10789 13956 30097 14441 10476 44697 108077 10601 18706 10757 10259 11027 15550 26570 10432 18031 31450 11027 22894 10447 10876 21080 18643 26120 11935 17600 20047 11182 16425 34445 12011 15550 26570 11755 10476 15027 20792 10432 11755 10601 10504 36011 11027 16028 94417 188 26120 26033 10601 16805 78977 27258 10447 13848 193 17105 12420 11634 11027 15550 26570 10432 11992 55315 12393 10331 17522 10149 18946 13710 16188 11125 11840 18643 22207 11755 10601 27402 43735 51336 30627 27258 12420 12707 24544 22916 74275 193 17105 30627 18928 59780 17783 96199 11257 30876 15049 10789 12137 108113 21537 123 125 10331 12137 20419 66866 14369 18030 14517 40352 27016 12137 16638 19154 12420 15550 26570 14421 15814 16001 11629 12137 77586 46916 299 20276 67541 12598 20005 19168 17819 11027 15550 26570 108113 21537 41800 43094 19787 75946 299 20276 67541 180 102\n"
          ]
        },
        {
          "output_type": "stream",
          "name": "stdout",
          "text": [
            "INFO:tensorflow:input_mask: 1 1 1 1 1 1 1 1 1 1 1 1 1 1 1 1 1 1 1 1 1 1 1 1 1 1 1 1 1 1 1 1 1 1 1 1 1 1 1 1 1 1 1 1 1 1 1 1 1 1 1 1 1 1 1 1 1 1 1 1 1 1 1 1 1 1 1 1 1 1 1 1 1 1 1 1 1 1 1 1 1 1 1 1 1 1 1 1 1 1 1 1 1 1 1 1 1 1 1 1 1 1 1 1 1 1 1 1 1 1 1 1 1 1 1 1 1 1 1 1 1 1 1 1 1 1 1 1 1 1 1 1 1 1 1 1 1 1 1 1 1 1 1 1 1 1 1 1 1 1 1 1 1 1 1 1 1 1 1 1 1 1 1 1 1 1 1 1 1 1 1 1 1 1 1 1 1 1 1 1 1 1 1 1 1 1 1 1 1 1 1 1 1 1 1 1 1 1 1 1\n"
          ]
        },
        {
          "output_type": "stream",
          "name": "stderr",
          "text": [
            "INFO:tensorflow:input_mask: 1 1 1 1 1 1 1 1 1 1 1 1 1 1 1 1 1 1 1 1 1 1 1 1 1 1 1 1 1 1 1 1 1 1 1 1 1 1 1 1 1 1 1 1 1 1 1 1 1 1 1 1 1 1 1 1 1 1 1 1 1 1 1 1 1 1 1 1 1 1 1 1 1 1 1 1 1 1 1 1 1 1 1 1 1 1 1 1 1 1 1 1 1 1 1 1 1 1 1 1 1 1 1 1 1 1 1 1 1 1 1 1 1 1 1 1 1 1 1 1 1 1 1 1 1 1 1 1 1 1 1 1 1 1 1 1 1 1 1 1 1 1 1 1 1 1 1 1 1 1 1 1 1 1 1 1 1 1 1 1 1 1 1 1 1 1 1 1 1 1 1 1 1 1 1 1 1 1 1 1 1 1 1 1 1 1 1 1 1 1 1 1 1 1 1 1 1 1 1 1\n"
          ]
        },
        {
          "output_type": "stream",
          "name": "stdout",
          "text": [
            "INFO:tensorflow:segment_ids: 0 0 0 0 0 0 0 0 0 0 0 0 0 0 0 0 0 0 0 0 0 0 0 0 0 0 0 0 0 0 0 0 0 0 0 0 0 0 0 0 0 0 0 0 0 0 0 0 0 0 0 0 0 0 0 0 0 0 0 0 0 0 0 0 0 0 0 0 0 0 0 0 0 0 0 0 0 0 0 0 0 0 0 0 0 0 0 0 0 0 0 0 0 0 0 0 0 0 0 0 0 0 0 0 0 0 0 0 0 0 0 0 0 0 0 0 0 0 0 0 0 0 0 0 0 0 0 0 0 0 0 0 0 0 0 0 0 0 0 0 0 0 0 0 0 0 0 0 0 0 0 0 0 0 0 0 0 0 0 0 0 0 0 0 0 0 0 0 0 0 0 0 0 0 0 0 0 0 0 0 0 0 0 0 0 0 0 0 0 0 0 0 0 0 0 0 0 0 0 0\n"
          ]
        },
        {
          "output_type": "stream",
          "name": "stderr",
          "text": [
            "INFO:tensorflow:segment_ids: 0 0 0 0 0 0 0 0 0 0 0 0 0 0 0 0 0 0 0 0 0 0 0 0 0 0 0 0 0 0 0 0 0 0 0 0 0 0 0 0 0 0 0 0 0 0 0 0 0 0 0 0 0 0 0 0 0 0 0 0 0 0 0 0 0 0 0 0 0 0 0 0 0 0 0 0 0 0 0 0 0 0 0 0 0 0 0 0 0 0 0 0 0 0 0 0 0 0 0 0 0 0 0 0 0 0 0 0 0 0 0 0 0 0 0 0 0 0 0 0 0 0 0 0 0 0 0 0 0 0 0 0 0 0 0 0 0 0 0 0 0 0 0 0 0 0 0 0 0 0 0 0 0 0 0 0 0 0 0 0 0 0 0 0 0 0 0 0 0 0 0 0 0 0 0 0 0 0 0 0 0 0 0 0 0 0 0 0 0 0 0 0 0 0 0 0 0 0 0 0\n"
          ]
        },
        {
          "output_type": "stream",
          "name": "stdout",
          "text": [
            "INFO:tensorflow:label: 8 (id = 8)\n"
          ]
        },
        {
          "output_type": "stream",
          "name": "stderr",
          "text": [
            "INFO:tensorflow:label: 8 (id = 8)\n"
          ]
        },
        {
          "output_type": "stream",
          "name": "stdout",
          "text": [
            "INFO:tensorflow:*** Example ***\n"
          ]
        },
        {
          "output_type": "stream",
          "name": "stderr",
          "text": [
            "INFO:tensorflow:*** Example ***\n"
          ]
        },
        {
          "output_type": "stream",
          "name": "stdout",
          "text": [
            "INFO:tensorflow:guid: None\n"
          ]
        },
        {
          "output_type": "stream",
          "name": "stderr",
          "text": [
            "INFO:tensorflow:guid: None\n"
          ]
        },
        {
          "output_type": "stream",
          "name": "stdout",
          "text": [
            "INFO:tensorflow:tokens: [CLS] dưới những áp lực từ môi trường sống hay xã hội ý nguy ##ện che gi ##ấu có mặt khắp mọi nơi ngoài công sở chúng ta có thể t ##ặc l ##ư ##ỡ ##i đóng góp một khoản từ thiện khi mọi người xung quanh đều làm hay g ##ật đầu đồng ý với tất cả các câu hỏi từ tổng đài ch ##ăm só ##c khách hàng của một cửa hiệu mới mua đồ vì ng ##ại mất thời gian va ##cla ##v have ##l một nhà văn và là nguyên tổng thống cz ##ech từng b ##ăn k ##ho ##ăn như vậy khi nhìn thấy một bức cổ động trong nhà một người bán hoa quả hoá ra anh ta không tre ##o bức cổ động vì thực tâm ủng hộ điều gì mà làm vậy chỉ để tránh bị làm phi ##ền th ##ôi nào tôi ủng hộ điều anh nghĩ đ ##ấy h ##ã ##y đi hỏi người khác đi logic của hành động đó là như vậy ở mức độ vĩ mô hơn điều này cũng giải thích vì sao có những con số đáng ngờ khi khảo sát lấy ý kiến [SEP]\n"
          ]
        },
        {
          "output_type": "stream",
          "name": "stderr",
          "text": [
            "INFO:tensorflow:tokens: [CLS] dưới những áp lực từ môi trường sống hay xã hội ý nguy ##ện che gi ##ấu có mặt khắp mọi nơi ngoài công sở chúng ta có thể t ##ặc l ##ư ##ỡ ##i đóng góp một khoản từ thiện khi mọi người xung quanh đều làm hay g ##ật đầu đồng ý với tất cả các câu hỏi từ tổng đài ch ##ăm só ##c khách hàng của một cửa hiệu mới mua đồ vì ng ##ại mất thời gian va ##cla ##v have ##l một nhà văn và là nguyên tổng thống cz ##ech từng b ##ăn k ##ho ##ăn như vậy khi nhìn thấy một bức cổ động trong nhà một người bán hoa quả hoá ra anh ta không tre ##o bức cổ động vì thực tâm ủng hộ điều gì mà làm vậy chỉ để tránh bị làm phi ##ền th ##ôi nào tôi ủng hộ điều anh nghĩ đ ##ấy h ##ã ##y đi hỏi người khác đi logic của hành động đó là như vậy ở mức độ vĩ mô hơn điều này cũng giải thích vì sao có những con số đáng ngờ khi khảo sát lấy ý kiến [SEP]\n"
          ]
        },
        {
          "output_type": "stream",
          "name": "stdout",
          "text": [
            "INFO:tensorflow:input_ids: 101 22000 11934 40029 17220 11840 37697 16188 17135 13605 13388 16425 283 75578 32778 10262 38356 35823 10601 20047 77649 39439 21670 25331 12319 28077 18097 11057 10601 12334 188 97650 180 28776 39415 10116 26885 64648 10417 106591 11840 78165 12072 39439 11027 59405 46883 22389 12984 13605 175 26120 11201 15049 283 11182 31734 16125 10792 33046 66229 11840 23258 57182 18643 45438 18429 10350 38470 18031 10447 10417 43872 21287 18652 56944 37691 17819 10743 37513 28022 13199 20264 10321 60582 10477 10529 10161 10417 13265 19923 10432 10331 22862 23258 16805 53873 16200 26258 170 66801 179 10758 66801 12552 31811 12072 54762 19787 10417 60127 27975 13254 10504 13265 10417 11027 26679 13006 25308 82216 11859 19087 11057 11755 11617 10133 60127 27975 13254 17819 11992 21588 72084 29418 16391 49309 15542 12984 31811 14294 12460 92890 12505 12984 36500 28234 77586 26596 27258 40813 72084 29418 16391 19087 98583 299 48215 176 18001 10157 16895 66229 11027 14393 16895 64988 10447 13910 13254 12393 10331 12552 31811 1682 46417 14776 90166 12859 14789 16391 10789 13284 16658 32272 17819 36993 10601 11934 10173 11634 47850 100752 12072 82261 25133 29937 283 32051 102\n"
          ]
        },
        {
          "output_type": "stream",
          "name": "stderr",
          "text": [
            "INFO:tensorflow:input_ids: 101 22000 11934 40029 17220 11840 37697 16188 17135 13605 13388 16425 283 75578 32778 10262 38356 35823 10601 20047 77649 39439 21670 25331 12319 28077 18097 11057 10601 12334 188 97650 180 28776 39415 10116 26885 64648 10417 106591 11840 78165 12072 39439 11027 59405 46883 22389 12984 13605 175 26120 11201 15049 283 11182 31734 16125 10792 33046 66229 11840 23258 57182 18643 45438 18429 10350 38470 18031 10447 10417 43872 21287 18652 56944 37691 17819 10743 37513 28022 13199 20264 10321 60582 10477 10529 10161 10417 13265 19923 10432 10331 22862 23258 16805 53873 16200 26258 170 66801 179 10758 66801 12552 31811 12072 54762 19787 10417 60127 27975 13254 10504 13265 10417 11027 26679 13006 25308 82216 11859 19087 11057 11755 11617 10133 60127 27975 13254 17819 11992 21588 72084 29418 16391 49309 15542 12984 31811 14294 12460 92890 12505 12984 36500 28234 77586 26596 27258 40813 72084 29418 16391 19087 98583 299 48215 176 18001 10157 16895 66229 11027 14393 16895 64988 10447 13910 13254 12393 10331 12552 31811 1682 46417 14776 90166 12859 14789 16391 10789 13284 16658 32272 17819 36993 10601 11934 10173 11634 47850 100752 12072 82261 25133 29937 283 32051 102\n"
          ]
        },
        {
          "output_type": "stream",
          "name": "stdout",
          "text": [
            "INFO:tensorflow:input_mask: 1 1 1 1 1 1 1 1 1 1 1 1 1 1 1 1 1 1 1 1 1 1 1 1 1 1 1 1 1 1 1 1 1 1 1 1 1 1 1 1 1 1 1 1 1 1 1 1 1 1 1 1 1 1 1 1 1 1 1 1 1 1 1 1 1 1 1 1 1 1 1 1 1 1 1 1 1 1 1 1 1 1 1 1 1 1 1 1 1 1 1 1 1 1 1 1 1 1 1 1 1 1 1 1 1 1 1 1 1 1 1 1 1 1 1 1 1 1 1 1 1 1 1 1 1 1 1 1 1 1 1 1 1 1 1 1 1 1 1 1 1 1 1 1 1 1 1 1 1 1 1 1 1 1 1 1 1 1 1 1 1 1 1 1 1 1 1 1 1 1 1 1 1 1 1 1 1 1 1 1 1 1 1 1 1 1 1 1 1 1 1 1 1 1 1 1 1 1 1 1\n"
          ]
        },
        {
          "output_type": "stream",
          "name": "stderr",
          "text": [
            "INFO:tensorflow:input_mask: 1 1 1 1 1 1 1 1 1 1 1 1 1 1 1 1 1 1 1 1 1 1 1 1 1 1 1 1 1 1 1 1 1 1 1 1 1 1 1 1 1 1 1 1 1 1 1 1 1 1 1 1 1 1 1 1 1 1 1 1 1 1 1 1 1 1 1 1 1 1 1 1 1 1 1 1 1 1 1 1 1 1 1 1 1 1 1 1 1 1 1 1 1 1 1 1 1 1 1 1 1 1 1 1 1 1 1 1 1 1 1 1 1 1 1 1 1 1 1 1 1 1 1 1 1 1 1 1 1 1 1 1 1 1 1 1 1 1 1 1 1 1 1 1 1 1 1 1 1 1 1 1 1 1 1 1 1 1 1 1 1 1 1 1 1 1 1 1 1 1 1 1 1 1 1 1 1 1 1 1 1 1 1 1 1 1 1 1 1 1 1 1 1 1 1 1 1 1 1 1\n"
          ]
        },
        {
          "output_type": "stream",
          "name": "stdout",
          "text": [
            "INFO:tensorflow:segment_ids: 0 0 0 0 0 0 0 0 0 0 0 0 0 0 0 0 0 0 0 0 0 0 0 0 0 0 0 0 0 0 0 0 0 0 0 0 0 0 0 0 0 0 0 0 0 0 0 0 0 0 0 0 0 0 0 0 0 0 0 0 0 0 0 0 0 0 0 0 0 0 0 0 0 0 0 0 0 0 0 0 0 0 0 0 0 0 0 0 0 0 0 0 0 0 0 0 0 0 0 0 0 0 0 0 0 0 0 0 0 0 0 0 0 0 0 0 0 0 0 0 0 0 0 0 0 0 0 0 0 0 0 0 0 0 0 0 0 0 0 0 0 0 0 0 0 0 0 0 0 0 0 0 0 0 0 0 0 0 0 0 0 0 0 0 0 0 0 0 0 0 0 0 0 0 0 0 0 0 0 0 0 0 0 0 0 0 0 0 0 0 0 0 0 0 0 0 0 0 0 0\n"
          ]
        },
        {
          "output_type": "stream",
          "name": "stderr",
          "text": [
            "INFO:tensorflow:segment_ids: 0 0 0 0 0 0 0 0 0 0 0 0 0 0 0 0 0 0 0 0 0 0 0 0 0 0 0 0 0 0 0 0 0 0 0 0 0 0 0 0 0 0 0 0 0 0 0 0 0 0 0 0 0 0 0 0 0 0 0 0 0 0 0 0 0 0 0 0 0 0 0 0 0 0 0 0 0 0 0 0 0 0 0 0 0 0 0 0 0 0 0 0 0 0 0 0 0 0 0 0 0 0 0 0 0 0 0 0 0 0 0 0 0 0 0 0 0 0 0 0 0 0 0 0 0 0 0 0 0 0 0 0 0 0 0 0 0 0 0 0 0 0 0 0 0 0 0 0 0 0 0 0 0 0 0 0 0 0 0 0 0 0 0 0 0 0 0 0 0 0 0 0 0 0 0 0 0 0 0 0 0 0 0 0 0 0 0 0 0 0 0 0 0 0 0 0 0 0 0 0\n"
          ]
        },
        {
          "output_type": "stream",
          "name": "stdout",
          "text": [
            "INFO:tensorflow:label: 4 (id = 4)\n"
          ]
        },
        {
          "output_type": "stream",
          "name": "stderr",
          "text": [
            "INFO:tensorflow:label: 4 (id = 4)\n"
          ]
        },
        {
          "output_type": "stream",
          "name": "stdout",
          "text": [
            "INFO:tensorflow:Writing example 0 of 666\n"
          ]
        },
        {
          "output_type": "stream",
          "name": "stderr",
          "text": [
            "INFO:tensorflow:Writing example 0 of 666\n"
          ]
        },
        {
          "output_type": "stream",
          "name": "stdout",
          "text": [
            "INFO:tensorflow:*** Example ***\n"
          ]
        },
        {
          "output_type": "stream",
          "name": "stderr",
          "text": [
            "INFO:tensorflow:*** Example ***\n"
          ]
        },
        {
          "output_type": "stream",
          "name": "stdout",
          "text": [
            "INFO:tensorflow:guid: None\n"
          ]
        },
        {
          "output_type": "stream",
          "name": "stderr",
          "text": [
            "INFO:tensorflow:guid: None\n"
          ]
        },
        {
          "output_type": "stream",
          "name": "stdout",
          "text": [
            "INFO:tensorflow:tokens: [CLS] hình a các trung tâm luyện thi c ##ram schools loại giáo dục này được gọi là c ##ram education b các câu lạc bộ năng khi ##ếu âm nhạc hội ho ##ạ thể thao kỹ thuật công nghệ lực lượng giáo viên giáo dục chính quy và ở các trung tâm luyện thi câu lạc bộ năng khi ##ếu độc lập với nhau không được làm việc lẫn lộ ##n các trung tâm luyện thi các câu lạc bộ năng khi ##ếu nằm ngoài hệ thống giáo dục nhưng phải đăng ký và đóng thu ##ế thu nhập ở nhật bản nếu giáo viên nào bị phát hiện dạy thêm ngoài hoạt động chính quy giáo viên đó sẽ bị sa th ##ải hiệu trưởng trường đó phải từ chức tôi rất muốn thu nhập của tất cả giáo viên trong cả nước được cải thiện theo lộ trình cải cách tri ##ệt để giáo dục vi ##ệt nam có sự cân đối hài ho ##à với các lĩnh vực khác mặc dù vậy nếu buộc phải lựa chọn giữa một bên là quyền được dạy thêm của m ##ấy ch ##ục ng ##hì ##n hoặc m [SEP]\n"
          ]
        },
        {
          "output_type": "stream",
          "name": "stderr",
          "text": [
            "INFO:tensorflow:tokens: [CLS] hình a các trung tâm luyện thi c ##ram schools loại giáo dục này được gọi là c ##ram education b các câu lạc bộ năng khi ##ếu âm nhạc hội ho ##ạ thể thao kỹ thuật công nghệ lực lượng giáo viên giáo dục chính quy và ở các trung tâm luyện thi câu lạc bộ năng khi ##ếu độc lập với nhau không được làm việc lẫn lộ ##n các trung tâm luyện thi các câu lạc bộ năng khi ##ếu nằm ngoài hệ thống giáo dục nhưng phải đăng ký và đóng thu ##ế thu nhập ở nhật bản nếu giáo viên nào bị phát hiện dạy thêm ngoài hoạt động chính quy giáo viên đó sẽ bị sa th ##ải hiệu trưởng trường đó phải từ chức tôi rất muốn thu nhập của tất cả giáo viên trong cả nước được cải thiện theo lộ trình cải cách tri ##ệt để giáo dục vi ##ệt nam có sự cân đối hài ho ##à với các lĩnh vực khác mặc dù vậy nếu buộc phải lựa chọn giữa một bên là quyền được dạy thêm của m ##ấy ch ##ục ng ##hì ##n hoặc m [SEP]\n"
          ]
        },
        {
          "output_type": "stream",
          "name": "stdout",
          "text": [
            "INFO:tensorflow:input_ids: 101 15054 169 10792 16396 21588 52320 24106 171 13845 16009 17031 18668 44470 10789 10476 17430 10331 171 13845 14943 170 10792 33046 34255 13848 20046 12072 57004 21842 19921 16425 13173 48880 12334 89499 44720 22108 12319 28267 17220 15876 18668 15202 18668 44470 12707 34671 10432 1682 10792 16396 21588 52320 24106 33046 34255 13848 20046 12072 57004 32163 15707 11182 20875 11755 10476 12984 14331 91281 43993 10115 10792 16396 21588 52320 24106 10792 33046 34255 13848 20046 12072 57004 21152 25331 18310 16805 18668 44470 15662 15723 72942 30906 10432 26885 23886 26668 23886 26785 1682 100575 15194 41800 18668 15202 27258 12505 13803 13526 83893 31871 25331 21364 13254 12707 34671 18668 15202 12393 16807 12505 10148 77586 32123 21287 22380 16188 12393 15723 11840 16244 40813 18946 38858 23886 26785 10447 31734 16125 18668 15202 10504 16125 12932 10476 45105 78165 13951 43993 16592 45105 15605 15633 30097 12460 18668 44470 13956 30097 14441 10601 12636 109387 17600 107256 13173 10816 11182 10792 51630 18505 14393 48037 27945 31811 41800 52041 15723 102769 33090 20734 10417 24429 10331 17992 10476 83893 31871 10447 181 48215 18643 37469 10743 91336 10115 16996 181 102\n"
          ]
        },
        {
          "output_type": "stream",
          "name": "stderr",
          "text": [
            "INFO:tensorflow:input_ids: 101 15054 169 10792 16396 21588 52320 24106 171 13845 16009 17031 18668 44470 10789 10476 17430 10331 171 13845 14943 170 10792 33046 34255 13848 20046 12072 57004 21842 19921 16425 13173 48880 12334 89499 44720 22108 12319 28267 17220 15876 18668 15202 18668 44470 12707 34671 10432 1682 10792 16396 21588 52320 24106 33046 34255 13848 20046 12072 57004 32163 15707 11182 20875 11755 10476 12984 14331 91281 43993 10115 10792 16396 21588 52320 24106 10792 33046 34255 13848 20046 12072 57004 21152 25331 18310 16805 18668 44470 15662 15723 72942 30906 10432 26885 23886 26668 23886 26785 1682 100575 15194 41800 18668 15202 27258 12505 13803 13526 83893 31871 25331 21364 13254 12707 34671 18668 15202 12393 16807 12505 10148 77586 32123 21287 22380 16188 12393 15723 11840 16244 40813 18946 38858 23886 26785 10447 31734 16125 18668 15202 10504 16125 12932 10476 45105 78165 13951 43993 16592 45105 15605 15633 30097 12460 18668 44470 13956 30097 14441 10601 12636 109387 17600 107256 13173 10816 11182 10792 51630 18505 14393 48037 27945 31811 41800 52041 15723 102769 33090 20734 10417 24429 10331 17992 10476 83893 31871 10447 181 48215 18643 37469 10743 91336 10115 16996 181 102\n"
          ]
        },
        {
          "output_type": "stream",
          "name": "stdout",
          "text": [
            "INFO:tensorflow:input_mask: 1 1 1 1 1 1 1 1 1 1 1 1 1 1 1 1 1 1 1 1 1 1 1 1 1 1 1 1 1 1 1 1 1 1 1 1 1 1 1 1 1 1 1 1 1 1 1 1 1 1 1 1 1 1 1 1 1 1 1 1 1 1 1 1 1 1 1 1 1 1 1 1 1 1 1 1 1 1 1 1 1 1 1 1 1 1 1 1 1 1 1 1 1 1 1 1 1 1 1 1 1 1 1 1 1 1 1 1 1 1 1 1 1 1 1 1 1 1 1 1 1 1 1 1 1 1 1 1 1 1 1 1 1 1 1 1 1 1 1 1 1 1 1 1 1 1 1 1 1 1 1 1 1 1 1 1 1 1 1 1 1 1 1 1 1 1 1 1 1 1 1 1 1 1 1 1 1 1 1 1 1 1 1 1 1 1 1 1 1 1 1 1 1 1 1 1 1 1 1 1\n"
          ]
        },
        {
          "output_type": "stream",
          "name": "stderr",
          "text": [
            "INFO:tensorflow:input_mask: 1 1 1 1 1 1 1 1 1 1 1 1 1 1 1 1 1 1 1 1 1 1 1 1 1 1 1 1 1 1 1 1 1 1 1 1 1 1 1 1 1 1 1 1 1 1 1 1 1 1 1 1 1 1 1 1 1 1 1 1 1 1 1 1 1 1 1 1 1 1 1 1 1 1 1 1 1 1 1 1 1 1 1 1 1 1 1 1 1 1 1 1 1 1 1 1 1 1 1 1 1 1 1 1 1 1 1 1 1 1 1 1 1 1 1 1 1 1 1 1 1 1 1 1 1 1 1 1 1 1 1 1 1 1 1 1 1 1 1 1 1 1 1 1 1 1 1 1 1 1 1 1 1 1 1 1 1 1 1 1 1 1 1 1 1 1 1 1 1 1 1 1 1 1 1 1 1 1 1 1 1 1 1 1 1 1 1 1 1 1 1 1 1 1 1 1 1 1 1 1\n"
          ]
        },
        {
          "output_type": "stream",
          "name": "stdout",
          "text": [
            "INFO:tensorflow:segment_ids: 0 0 0 0 0 0 0 0 0 0 0 0 0 0 0 0 0 0 0 0 0 0 0 0 0 0 0 0 0 0 0 0 0 0 0 0 0 0 0 0 0 0 0 0 0 0 0 0 0 0 0 0 0 0 0 0 0 0 0 0 0 0 0 0 0 0 0 0 0 0 0 0 0 0 0 0 0 0 0 0 0 0 0 0 0 0 0 0 0 0 0 0 0 0 0 0 0 0 0 0 0 0 0 0 0 0 0 0 0 0 0 0 0 0 0 0 0 0 0 0 0 0 0 0 0 0 0 0 0 0 0 0 0 0 0 0 0 0 0 0 0 0 0 0 0 0 0 0 0 0 0 0 0 0 0 0 0 0 0 0 0 0 0 0 0 0 0 0 0 0 0 0 0 0 0 0 0 0 0 0 0 0 0 0 0 0 0 0 0 0 0 0 0 0 0 0 0 0 0 0\n"
          ]
        },
        {
          "output_type": "stream",
          "name": "stderr",
          "text": [
            "INFO:tensorflow:segment_ids: 0 0 0 0 0 0 0 0 0 0 0 0 0 0 0 0 0 0 0 0 0 0 0 0 0 0 0 0 0 0 0 0 0 0 0 0 0 0 0 0 0 0 0 0 0 0 0 0 0 0 0 0 0 0 0 0 0 0 0 0 0 0 0 0 0 0 0 0 0 0 0 0 0 0 0 0 0 0 0 0 0 0 0 0 0 0 0 0 0 0 0 0 0 0 0 0 0 0 0 0 0 0 0 0 0 0 0 0 0 0 0 0 0 0 0 0 0 0 0 0 0 0 0 0 0 0 0 0 0 0 0 0 0 0 0 0 0 0 0 0 0 0 0 0 0 0 0 0 0 0 0 0 0 0 0 0 0 0 0 0 0 0 0 0 0 0 0 0 0 0 0 0 0 0 0 0 0 0 0 0 0 0 0 0 0 0 0 0 0 0 0 0 0 0 0 0 0 0 0 0\n"
          ]
        },
        {
          "output_type": "stream",
          "name": "stdout",
          "text": [
            "INFO:tensorflow:label: 0 (id = 0)\n"
          ]
        },
        {
          "output_type": "stream",
          "name": "stderr",
          "text": [
            "INFO:tensorflow:label: 0 (id = 0)\n"
          ]
        },
        {
          "output_type": "stream",
          "name": "stdout",
          "text": [
            "INFO:tensorflow:*** Example ***\n"
          ]
        },
        {
          "output_type": "stream",
          "name": "stderr",
          "text": [
            "INFO:tensorflow:*** Example ***\n"
          ]
        },
        {
          "output_type": "stream",
          "name": "stdout",
          "text": [
            "INFO:tensorflow:guid: None\n"
          ]
        },
        {
          "output_type": "stream",
          "name": "stderr",
          "text": [
            "INFO:tensorflow:guid: None\n"
          ]
        },
        {
          "output_type": "stream",
          "name": "stdout",
          "text": [
            "INFO:tensorflow:tokens: [CLS] sẽ không có hiệu lực nếu loại trừ trách nhiệm của tổ chức cá nhân kinh doanh hàng hoá dịch vụ đối với người tiêu dùng theo quy định của pháp luật và bắt buộc người tiêu dùng phải tu ##ân thủ các nghĩa vụ ngay cả khi tổ chức cá nhân kinh doanh hàng hoá dịch vụ không hoàn thành nghĩa vụ của mình như vậy luật của chúng ta tương đối ch ##ặt ch ##ẽ và tiến bộ không m ##ấy thua k ##ém với các nước phát triển luật tiêu dùng của aust ##rali ##a nơi tôi từng sống cũng không chấp nhận phía cung cấp hàng hoá đưa ra điều khoản c ##ấm hoàn trả thế nhưng vấn đề một lần nữa lại nằm ở việc thực thi đó là trách nhiệm của nhà chức trách tôi tin không phải cơ sở bán máy trợ thí ##nh ki ##a mới in dòng chữ không được pháp luật bảo hộ ấy lên đơn đặt hàng và với 4 chi nhánh ở h ##à nội với s ##ài g ##òn anh bạn tôi có lẽ không phải là nạn nhân duy nhất nhưng sự vô lý [SEP]\n"
          ]
        },
        {
          "output_type": "stream",
          "name": "stderr",
          "text": [
            "INFO:tensorflow:tokens: [CLS] sẽ không có hiệu lực nếu loại trừ trách nhiệm của tổ chức cá nhân kinh doanh hàng hoá dịch vụ đối với người tiêu dùng theo quy định của pháp luật và bắt buộc người tiêu dùng phải tu ##ân thủ các nghĩa vụ ngay cả khi tổ chức cá nhân kinh doanh hàng hoá dịch vụ không hoàn thành nghĩa vụ của mình như vậy luật của chúng ta tương đối ch ##ặt ch ##ẽ và tiến bộ không m ##ấy thua k ##ém với các nước phát triển luật tiêu dùng của aust ##rali ##a nơi tôi từng sống cũng không chấp nhận phía cung cấp hàng hoá đưa ra điều khoản c ##ấm hoàn trả thế nhưng vấn đề một lần nữa lại nằm ở việc thực thi đó là trách nhiệm của nhà chức trách tôi tin không phải cơ sở bán máy trợ thí ##nh ki ##a mới in dòng chữ không được pháp luật bảo hộ ấy lên đơn đặt hàng và với 4 chi nhánh ở h ##à nội với s ##ài g ##òn anh bạn tôi có lẽ không phải là nạn nhân duy nhất nhưng sự vô lý [SEP]\n"
          ]
        },
        {
          "output_type": "stream",
          "name": "stdout",
          "text": [
            "INFO:tensorflow:input_ids: 101 16807 11755 10601 21287 17220 41800 17031 70352 59660 22673 10447 21217 16244 23664 14694 21130 43389 18031 82216 22654 17790 17600 11182 11027 23333 22344 13951 34671 15027 10447 19013 36011 10432 18019 52041 11027 23333 22344 15723 13055 15218 18755 10792 20792 17790 44850 16125 12072 21217 16244 23664 14694 21130 43389 18031 82216 22654 17790 11755 27765 11629 20792 17790 10447 17830 12552 31811 36011 10447 18097 11057 24959 17600 18643 77381 18643 45563 10432 22104 13848 11755 181 48215 97172 179 17927 11182 10792 12932 13803 21098 36011 23333 22344 10447 61728 30572 10113 21670 40813 26258 17135 13284 11755 50645 16638 15564 28930 18928 18031 82216 25576 11859 16391 106591 171 30343 27765 54382 14421 15662 35560 20192 10417 18581 42259 13148 21152 1682 14331 11992 24106 12393 10331 59660 22673 10447 13265 16244 59660 40813 21629 11755 15723 16579 28077 26679 18838 30627 69220 16317 10879 10113 18652 10106 40563 38417 11755 10476 19013 36011 22916 29418 52256 16732 22400 23568 18031 10432 11182 125 14325 105665 1682 176 10816 35498 11182 187 41501 175 40500 19087 43094 40813 10601 93346 11755 15723 10331 72125 14694 38779 13346 15662 12636 28443 17522 102\n"
          ]
        },
        {
          "output_type": "stream",
          "name": "stderr",
          "text": [
            "INFO:tensorflow:input_ids: 101 16807 11755 10601 21287 17220 41800 17031 70352 59660 22673 10447 21217 16244 23664 14694 21130 43389 18031 82216 22654 17790 17600 11182 11027 23333 22344 13951 34671 15027 10447 19013 36011 10432 18019 52041 11027 23333 22344 15723 13055 15218 18755 10792 20792 17790 44850 16125 12072 21217 16244 23664 14694 21130 43389 18031 82216 22654 17790 11755 27765 11629 20792 17790 10447 17830 12552 31811 36011 10447 18097 11057 24959 17600 18643 77381 18643 45563 10432 22104 13848 11755 181 48215 97172 179 17927 11182 10792 12932 13803 21098 36011 23333 22344 10447 61728 30572 10113 21670 40813 26258 17135 13284 11755 50645 16638 15564 28930 18928 18031 82216 25576 11859 16391 106591 171 30343 27765 54382 14421 15662 35560 20192 10417 18581 42259 13148 21152 1682 14331 11992 24106 12393 10331 59660 22673 10447 13265 16244 59660 40813 21629 11755 15723 16579 28077 26679 18838 30627 69220 16317 10879 10113 18652 10106 40563 38417 11755 10476 19013 36011 22916 29418 52256 16732 22400 23568 18031 10432 11182 125 14325 105665 1682 176 10816 35498 11182 187 41501 175 40500 19087 43094 40813 10601 93346 11755 15723 10331 72125 14694 38779 13346 15662 12636 28443 17522 102\n"
          ]
        },
        {
          "output_type": "stream",
          "name": "stdout",
          "text": [
            "INFO:tensorflow:input_mask: 1 1 1 1 1 1 1 1 1 1 1 1 1 1 1 1 1 1 1 1 1 1 1 1 1 1 1 1 1 1 1 1 1 1 1 1 1 1 1 1 1 1 1 1 1 1 1 1 1 1 1 1 1 1 1 1 1 1 1 1 1 1 1 1 1 1 1 1 1 1 1 1 1 1 1 1 1 1 1 1 1 1 1 1 1 1 1 1 1 1 1 1 1 1 1 1 1 1 1 1 1 1 1 1 1 1 1 1 1 1 1 1 1 1 1 1 1 1 1 1 1 1 1 1 1 1 1 1 1 1 1 1 1 1 1 1 1 1 1 1 1 1 1 1 1 1 1 1 1 1 1 1 1 1 1 1 1 1 1 1 1 1 1 1 1 1 1 1 1 1 1 1 1 1 1 1 1 1 1 1 1 1 1 1 1 1 1 1 1 1 1 1 1 1 1 1 1 1 1 1\n"
          ]
        },
        {
          "output_type": "stream",
          "name": "stderr",
          "text": [
            "INFO:tensorflow:input_mask: 1 1 1 1 1 1 1 1 1 1 1 1 1 1 1 1 1 1 1 1 1 1 1 1 1 1 1 1 1 1 1 1 1 1 1 1 1 1 1 1 1 1 1 1 1 1 1 1 1 1 1 1 1 1 1 1 1 1 1 1 1 1 1 1 1 1 1 1 1 1 1 1 1 1 1 1 1 1 1 1 1 1 1 1 1 1 1 1 1 1 1 1 1 1 1 1 1 1 1 1 1 1 1 1 1 1 1 1 1 1 1 1 1 1 1 1 1 1 1 1 1 1 1 1 1 1 1 1 1 1 1 1 1 1 1 1 1 1 1 1 1 1 1 1 1 1 1 1 1 1 1 1 1 1 1 1 1 1 1 1 1 1 1 1 1 1 1 1 1 1 1 1 1 1 1 1 1 1 1 1 1 1 1 1 1 1 1 1 1 1 1 1 1 1 1 1 1 1 1 1\n"
          ]
        },
        {
          "output_type": "stream",
          "name": "stdout",
          "text": [
            "INFO:tensorflow:segment_ids: 0 0 0 0 0 0 0 0 0 0 0 0 0 0 0 0 0 0 0 0 0 0 0 0 0 0 0 0 0 0 0 0 0 0 0 0 0 0 0 0 0 0 0 0 0 0 0 0 0 0 0 0 0 0 0 0 0 0 0 0 0 0 0 0 0 0 0 0 0 0 0 0 0 0 0 0 0 0 0 0 0 0 0 0 0 0 0 0 0 0 0 0 0 0 0 0 0 0 0 0 0 0 0 0 0 0 0 0 0 0 0 0 0 0 0 0 0 0 0 0 0 0 0 0 0 0 0 0 0 0 0 0 0 0 0 0 0 0 0 0 0 0 0 0 0 0 0 0 0 0 0 0 0 0 0 0 0 0 0 0 0 0 0 0 0 0 0 0 0 0 0 0 0 0 0 0 0 0 0 0 0 0 0 0 0 0 0 0 0 0 0 0 0 0 0 0 0 0 0 0\n"
          ]
        },
        {
          "output_type": "stream",
          "name": "stderr",
          "text": [
            "INFO:tensorflow:segment_ids: 0 0 0 0 0 0 0 0 0 0 0 0 0 0 0 0 0 0 0 0 0 0 0 0 0 0 0 0 0 0 0 0 0 0 0 0 0 0 0 0 0 0 0 0 0 0 0 0 0 0 0 0 0 0 0 0 0 0 0 0 0 0 0 0 0 0 0 0 0 0 0 0 0 0 0 0 0 0 0 0 0 0 0 0 0 0 0 0 0 0 0 0 0 0 0 0 0 0 0 0 0 0 0 0 0 0 0 0 0 0 0 0 0 0 0 0 0 0 0 0 0 0 0 0 0 0 0 0 0 0 0 0 0 0 0 0 0 0 0 0 0 0 0 0 0 0 0 0 0 0 0 0 0 0 0 0 0 0 0 0 0 0 0 0 0 0 0 0 0 0 0 0 0 0 0 0 0 0 0 0 0 0 0 0 0 0 0 0 0 0 0 0 0 0 0 0 0 0 0 0\n"
          ]
        },
        {
          "output_type": "stream",
          "name": "stdout",
          "text": [
            "INFO:tensorflow:label: 5 (id = 5)\n"
          ]
        },
        {
          "output_type": "stream",
          "name": "stderr",
          "text": [
            "INFO:tensorflow:label: 5 (id = 5)\n"
          ]
        },
        {
          "output_type": "stream",
          "name": "stdout",
          "text": [
            "INFO:tensorflow:*** Example ***\n"
          ]
        },
        {
          "output_type": "stream",
          "name": "stderr",
          "text": [
            "INFO:tensorflow:*** Example ***\n"
          ]
        },
        {
          "output_type": "stream",
          "name": "stdout",
          "text": [
            "INFO:tensorflow:guid: None\n"
          ]
        },
        {
          "output_type": "stream",
          "name": "stderr",
          "text": [
            "INFO:tensorflow:guid: None\n"
          ]
        },
        {
          "output_type": "stream",
          "name": "stdout",
          "text": [
            "INFO:tensorflow:tokens: [CLS] thấy nạn nhân thậm chí cô gái vẫn còn cử động tay chân và nam thanh niên vẫn ng ##óc đầu dậy cầu cứu và cố loạn ##g cho ##ạng bước ra giữa đường nhưng người tham gia giao thông vẫn vượt qua vụ tai nạn và đi thẳng đoạn clip làm tôi nhớ lại một vụ tai nạn khác xảy ra sáng ngày 29 tháng 2 năm 2016 một xe car ##m ##ry đ ##âm trú ##ng 3 người trên phố á ##i mộ h ##à nội thời điểm đó có hàng tr ##ăm người đi bộ khoảng 8 chiếc ô t ##ô và 500 chiếc xe máy tất cả chạy vòng qua đó là những người đầu tiên chứng kiến sự việc nhưng họ không h ##ề c ##úi xuống nhìn các nạn nhân chẳng ai mất 1 hoặc 2 cái li ##ếc mắt th ##o ##áng qua nơi em bé 6 tuổi đang th ##oi th ##ó ##p trên đường gần 20 phút quý bá ##u tr ##ôi qua mà không ai đưa ra quyết định phải làm điều gì phát hiện em bé vẫn còn th ##ở một cô giáo đã b ##ế em [SEP]\n"
          ]
        },
        {
          "output_type": "stream",
          "name": "stderr",
          "text": [
            "INFO:tensorflow:tokens: [CLS] thấy nạn nhân thậm chí cô gái vẫn còn cử động tay chân và nam thanh niên vẫn ng ##óc đầu dậy cầu cứu và cố loạn ##g cho ##ạng bước ra giữa đường nhưng người tham gia giao thông vẫn vượt qua vụ tai nạn và đi thẳng đoạn clip làm tôi nhớ lại một vụ tai nạn khác xảy ra sáng ngày 29 tháng 2 năm 2016 một xe car ##m ##ry đ ##âm trú ##ng 3 người trên phố á ##i mộ h ##à nội thời điểm đó có hàng tr ##ăm người đi bộ khoảng 8 chiếc ô t ##ô và 500 chiếc xe máy tất cả chạy vòng qua đó là những người đầu tiên chứng kiến sự việc nhưng họ không h ##ề c ##úi xuống nhìn các nạn nhân chẳng ai mất 1 hoặc 2 cái li ##ếc mắt th ##o ##áng qua nơi em bé 6 tuổi đang th ##oi th ##ó ##p trên đường gần 20 phút quý bá ##u tr ##ôi qua mà không ai đưa ra quyết định phải làm điều gì phát hiện em bé vẫn còn th ##ở một cô giáo đã b ##ế em [SEP]\n"
          ]
        },
        {
          "output_type": "stream",
          "name": "stdout",
          "text": [
            "INFO:tensorflow:input_ids: 101 19787 72125 14694 109690 33966 20360 40200 22666 14674 29381 13254 30562 28066 10432 14441 38762 36441 22666 10743 60937 11201 104821 19168 23270 10432 37452 73360 10240 11257 64565 71093 11859 20734 17773 15662 11027 20089 13223 25216 18030 22666 55574 14517 17790 12815 72125 10432 16895 82766 31709 48545 12984 40813 90290 13148 10417 17790 12815 72125 14393 56806 11859 21712 12137 10386 11642 123 10558 10255 10417 28174 13000 10147 10908 299 34595 97422 10376 124 11027 12598 16851 255 10116 75755 176 10816 35498 13199 15509 12393 10601 18031 32221 45438 11027 16895 13848 18706 129 24264 274 188 16218 10432 10757 24264 28174 18838 31734 16125 38135 32868 14517 12393 10331 11934 11027 11201 11811 34445 32051 12636 14331 15662 10876 11755 176 43021 171 56249 39246 54762 10792 72125 14694 82202 11346 28022 122 16996 123 28296 11614 106639 38618 77586 10133 71152 14517 21670 10266 29045 127 24199 21080 77586 14638 77586 10443 10410 12598 17773 23594 10197 69180 73809 74686 10138 32221 26596 14517 15542 11755 11346 25576 11859 27016 15027 15723 12984 16391 49309 13803 13526 10266 29045 22666 14674 77586 38485 10417 20360 18668 11213 170 26668 10266 102\n"
          ]
        },
        {
          "output_type": "stream",
          "name": "stderr",
          "text": [
            "INFO:tensorflow:input_ids: 101 19787 72125 14694 109690 33966 20360 40200 22666 14674 29381 13254 30562 28066 10432 14441 38762 36441 22666 10743 60937 11201 104821 19168 23270 10432 37452 73360 10240 11257 64565 71093 11859 20734 17773 15662 11027 20089 13223 25216 18030 22666 55574 14517 17790 12815 72125 10432 16895 82766 31709 48545 12984 40813 90290 13148 10417 17790 12815 72125 14393 56806 11859 21712 12137 10386 11642 123 10558 10255 10417 28174 13000 10147 10908 299 34595 97422 10376 124 11027 12598 16851 255 10116 75755 176 10816 35498 13199 15509 12393 10601 18031 32221 45438 11027 16895 13848 18706 129 24264 274 188 16218 10432 10757 24264 28174 18838 31734 16125 38135 32868 14517 12393 10331 11934 11027 11201 11811 34445 32051 12636 14331 15662 10876 11755 176 43021 171 56249 39246 54762 10792 72125 14694 82202 11346 28022 122 16996 123 28296 11614 106639 38618 77586 10133 71152 14517 21670 10266 29045 127 24199 21080 77586 14638 77586 10443 10410 12598 17773 23594 10197 69180 73809 74686 10138 32221 26596 14517 15542 11755 11346 25576 11859 27016 15027 15723 12984 16391 49309 13803 13526 10266 29045 22666 14674 77586 38485 10417 20360 18668 11213 170 26668 10266 102\n"
          ]
        },
        {
          "output_type": "stream",
          "name": "stdout",
          "text": [
            "INFO:tensorflow:input_mask: 1 1 1 1 1 1 1 1 1 1 1 1 1 1 1 1 1 1 1 1 1 1 1 1 1 1 1 1 1 1 1 1 1 1 1 1 1 1 1 1 1 1 1 1 1 1 1 1 1 1 1 1 1 1 1 1 1 1 1 1 1 1 1 1 1 1 1 1 1 1 1 1 1 1 1 1 1 1 1 1 1 1 1 1 1 1 1 1 1 1 1 1 1 1 1 1 1 1 1 1 1 1 1 1 1 1 1 1 1 1 1 1 1 1 1 1 1 1 1 1 1 1 1 1 1 1 1 1 1 1 1 1 1 1 1 1 1 1 1 1 1 1 1 1 1 1 1 1 1 1 1 1 1 1 1 1 1 1 1 1 1 1 1 1 1 1 1 1 1 1 1 1 1 1 1 1 1 1 1 1 1 1 1 1 1 1 1 1 1 1 1 1 1 1 1 1 1 1 1 1\n"
          ]
        },
        {
          "output_type": "stream",
          "name": "stderr",
          "text": [
            "INFO:tensorflow:input_mask: 1 1 1 1 1 1 1 1 1 1 1 1 1 1 1 1 1 1 1 1 1 1 1 1 1 1 1 1 1 1 1 1 1 1 1 1 1 1 1 1 1 1 1 1 1 1 1 1 1 1 1 1 1 1 1 1 1 1 1 1 1 1 1 1 1 1 1 1 1 1 1 1 1 1 1 1 1 1 1 1 1 1 1 1 1 1 1 1 1 1 1 1 1 1 1 1 1 1 1 1 1 1 1 1 1 1 1 1 1 1 1 1 1 1 1 1 1 1 1 1 1 1 1 1 1 1 1 1 1 1 1 1 1 1 1 1 1 1 1 1 1 1 1 1 1 1 1 1 1 1 1 1 1 1 1 1 1 1 1 1 1 1 1 1 1 1 1 1 1 1 1 1 1 1 1 1 1 1 1 1 1 1 1 1 1 1 1 1 1 1 1 1 1 1 1 1 1 1 1 1\n"
          ]
        },
        {
          "output_type": "stream",
          "name": "stdout",
          "text": [
            "INFO:tensorflow:segment_ids: 0 0 0 0 0 0 0 0 0 0 0 0 0 0 0 0 0 0 0 0 0 0 0 0 0 0 0 0 0 0 0 0 0 0 0 0 0 0 0 0 0 0 0 0 0 0 0 0 0 0 0 0 0 0 0 0 0 0 0 0 0 0 0 0 0 0 0 0 0 0 0 0 0 0 0 0 0 0 0 0 0 0 0 0 0 0 0 0 0 0 0 0 0 0 0 0 0 0 0 0 0 0 0 0 0 0 0 0 0 0 0 0 0 0 0 0 0 0 0 0 0 0 0 0 0 0 0 0 0 0 0 0 0 0 0 0 0 0 0 0 0 0 0 0 0 0 0 0 0 0 0 0 0 0 0 0 0 0 0 0 0 0 0 0 0 0 0 0 0 0 0 0 0 0 0 0 0 0 0 0 0 0 0 0 0 0 0 0 0 0 0 0 0 0 0 0 0 0 0 0\n"
          ]
        },
        {
          "output_type": "stream",
          "name": "stderr",
          "text": [
            "INFO:tensorflow:segment_ids: 0 0 0 0 0 0 0 0 0 0 0 0 0 0 0 0 0 0 0 0 0 0 0 0 0 0 0 0 0 0 0 0 0 0 0 0 0 0 0 0 0 0 0 0 0 0 0 0 0 0 0 0 0 0 0 0 0 0 0 0 0 0 0 0 0 0 0 0 0 0 0 0 0 0 0 0 0 0 0 0 0 0 0 0 0 0 0 0 0 0 0 0 0 0 0 0 0 0 0 0 0 0 0 0 0 0 0 0 0 0 0 0 0 0 0 0 0 0 0 0 0 0 0 0 0 0 0 0 0 0 0 0 0 0 0 0 0 0 0 0 0 0 0 0 0 0 0 0 0 0 0 0 0 0 0 0 0 0 0 0 0 0 0 0 0 0 0 0 0 0 0 0 0 0 0 0 0 0 0 0 0 0 0 0 0 0 0 0 0 0 0 0 0 0 0 0 0 0 0 0\n"
          ]
        },
        {
          "output_type": "stream",
          "name": "stdout",
          "text": [
            "INFO:tensorflow:label: 3 (id = 3)\n"
          ]
        },
        {
          "output_type": "stream",
          "name": "stderr",
          "text": [
            "INFO:tensorflow:label: 3 (id = 3)\n"
          ]
        },
        {
          "output_type": "stream",
          "name": "stdout",
          "text": [
            "INFO:tensorflow:*** Example ***\n"
          ]
        },
        {
          "output_type": "stream",
          "name": "stderr",
          "text": [
            "INFO:tensorflow:*** Example ***\n"
          ]
        },
        {
          "output_type": "stream",
          "name": "stdout",
          "text": [
            "INFO:tensorflow:guid: None\n"
          ]
        },
        {
          "output_type": "stream",
          "name": "stderr",
          "text": [
            "INFO:tensorflow:guid: None\n"
          ]
        },
        {
          "output_type": "stream",
          "name": "stdout",
          "text": [
            "INFO:tensorflow:tokens: [CLS] chảy máu não tái phát nhiều lần an cung là một sản phẩm của nhà thuốc đồng nhân đường ở trung quốc rất ít hoặc có thể nói không có nghiên cứu nào đăng tải công khai bằng tiếng anh về vị thuốc này tìm thông tin trên mạng tôi được biết thuốc gồm các vị chính như s ##ừng t ##ê giác s ##ỏ ##i mật bò xạ hương tuy nhiên hiện nay thành phần s ##ừng t ##ê giác đã được thay bằng s ##ừng tr ##âu s ##ỏ ##i mật bò tự nhiên hầu như không có nên người chế biến thuốc thay bằng s ##ỏ ##i nhân tạo xạ hương cũng có nhiều loại gồm tự nhiên hoặc tổng hợp an cung cũng có các thành phần như hùng hoàng chu sa đều là các d ##ược liệu có ít nhiều độc tính và khi dùng phải có sự kiểm soát ch ##ặt ch ##ẽ về li ##ều cách dùng người dùng do đó rất cần sự tư vấn của th ##ầy thuốc nếu nhìn về thành phần ta có thể thấy an cung phần nào có thể làm giảm hiện tượng đông máu [SEP]\n"
          ]
        },
        {
          "output_type": "stream",
          "name": "stderr",
          "text": [
            "INFO:tensorflow:tokens: [CLS] chảy máu não tái phát nhiều lần an cung là một sản phẩm của nhà thuốc đồng nhân đường ở trung quốc rất ít hoặc có thể nói không có nghiên cứu nào đăng tải công khai bằng tiếng anh về vị thuốc này tìm thông tin trên mạng tôi được biết thuốc gồm các vị chính như s ##ừng t ##ê giác s ##ỏ ##i mật bò xạ hương tuy nhiên hiện nay thành phần s ##ừng t ##ê giác đã được thay bằng s ##ừng tr ##âu s ##ỏ ##i mật bò tự nhiên hầu như không có nên người chế biến thuốc thay bằng s ##ỏ ##i nhân tạo xạ hương cũng có nhiều loại gồm tự nhiên hoặc tổng hợp an cung cũng có các thành phần như hùng hoàng chu sa đều là các d ##ược liệu có ít nhiều độc tính và khi dùng phải có sự kiểm soát ch ##ặt ch ##ẽ về li ##ều cách dùng người dùng do đó rất cần sự tư vấn của th ##ầy thuốc nếu nhìn về thành phần ta có thể thấy an cung phần nào có thể làm giảm hiện tượng đông máu [SEP]\n"
          ]
        },
        {
          "output_type": "stream",
          "name": "stdout",
          "text": [
            "INFO:tensorflow:input_ids: 101 76790 80744 11420 58419 13803 13710 18581 10151 28930 10331 10417 16913 24274 10447 13265 63950 15049 14694 17773 1682 16396 14369 18946 35009 16996 10601 12334 22072 11755 10601 32692 23270 27258 72942 56968 12319 37949 15991 14537 19087 12420 15598 63950 10789 23375 18030 21629 12598 34855 40813 10476 21820 63950 16394 10792 15598 12707 12552 187 35791 188 15915 72810 187 36091 10116 32263 75588 91011 68876 67035 17685 13526 21537 11629 15958 187 35791 188 15915 72810 11213 10476 22545 15991 187 35791 32221 28345 187 36091 10116 32263 75588 15550 17685 39991 12552 11755 10601 19114 11027 21634 23719 63950 22545 15991 187 36091 10116 14694 17783 91011 68876 13284 10601 13710 17031 16394 15550 17685 16996 23258 16117 10151 28930 13284 10601 10792 11629 15958 12552 95019 25730 109628 10148 22389 10331 10792 172 59487 26314 10601 35009 13710 32163 17739 10432 12072 22344 15723 10601 12636 43229 64520 18643 77381 18643 45563 12420 11614 52187 15605 22344 11027 22344 10149 12393 18946 31868 12636 24257 35560 10447 77586 64761 63950 41800 54762 12420 11629 15958 11057 10601 12334 19787 10151 28930 15958 27258 10601 12334 12984 39140 13526 30378 23164 80744 102\n"
          ]
        },
        {
          "output_type": "stream",
          "name": "stderr",
          "text": [
            "INFO:tensorflow:input_ids: 101 76790 80744 11420 58419 13803 13710 18581 10151 28930 10331 10417 16913 24274 10447 13265 63950 15049 14694 17773 1682 16396 14369 18946 35009 16996 10601 12334 22072 11755 10601 32692 23270 27258 72942 56968 12319 37949 15991 14537 19087 12420 15598 63950 10789 23375 18030 21629 12598 34855 40813 10476 21820 63950 16394 10792 15598 12707 12552 187 35791 188 15915 72810 187 36091 10116 32263 75588 91011 68876 67035 17685 13526 21537 11629 15958 187 35791 188 15915 72810 11213 10476 22545 15991 187 35791 32221 28345 187 36091 10116 32263 75588 15550 17685 39991 12552 11755 10601 19114 11027 21634 23719 63950 22545 15991 187 36091 10116 14694 17783 91011 68876 13284 10601 13710 17031 16394 15550 17685 16996 23258 16117 10151 28930 13284 10601 10792 11629 15958 12552 95019 25730 109628 10148 22389 10331 10792 172 59487 26314 10601 35009 13710 32163 17739 10432 12072 22344 15723 10601 12636 43229 64520 18643 77381 18643 45563 12420 11614 52187 15605 22344 11027 22344 10149 12393 18946 31868 12636 24257 35560 10447 77586 64761 63950 41800 54762 12420 11629 15958 11057 10601 12334 19787 10151 28930 15958 27258 10601 12334 12984 39140 13526 30378 23164 80744 102\n"
          ]
        },
        {
          "output_type": "stream",
          "name": "stdout",
          "text": [
            "INFO:tensorflow:input_mask: 1 1 1 1 1 1 1 1 1 1 1 1 1 1 1 1 1 1 1 1 1 1 1 1 1 1 1 1 1 1 1 1 1 1 1 1 1 1 1 1 1 1 1 1 1 1 1 1 1 1 1 1 1 1 1 1 1 1 1 1 1 1 1 1 1 1 1 1 1 1 1 1 1 1 1 1 1 1 1 1 1 1 1 1 1 1 1 1 1 1 1 1 1 1 1 1 1 1 1 1 1 1 1 1 1 1 1 1 1 1 1 1 1 1 1 1 1 1 1 1 1 1 1 1 1 1 1 1 1 1 1 1 1 1 1 1 1 1 1 1 1 1 1 1 1 1 1 1 1 1 1 1 1 1 1 1 1 1 1 1 1 1 1 1 1 1 1 1 1 1 1 1 1 1 1 1 1 1 1 1 1 1 1 1 1 1 1 1 1 1 1 1 1 1 1 1 1 1 1 1\n"
          ]
        },
        {
          "output_type": "stream",
          "name": "stderr",
          "text": [
            "INFO:tensorflow:input_mask: 1 1 1 1 1 1 1 1 1 1 1 1 1 1 1 1 1 1 1 1 1 1 1 1 1 1 1 1 1 1 1 1 1 1 1 1 1 1 1 1 1 1 1 1 1 1 1 1 1 1 1 1 1 1 1 1 1 1 1 1 1 1 1 1 1 1 1 1 1 1 1 1 1 1 1 1 1 1 1 1 1 1 1 1 1 1 1 1 1 1 1 1 1 1 1 1 1 1 1 1 1 1 1 1 1 1 1 1 1 1 1 1 1 1 1 1 1 1 1 1 1 1 1 1 1 1 1 1 1 1 1 1 1 1 1 1 1 1 1 1 1 1 1 1 1 1 1 1 1 1 1 1 1 1 1 1 1 1 1 1 1 1 1 1 1 1 1 1 1 1 1 1 1 1 1 1 1 1 1 1 1 1 1 1 1 1 1 1 1 1 1 1 1 1 1 1 1 1 1 1\n"
          ]
        },
        {
          "output_type": "stream",
          "name": "stdout",
          "text": [
            "INFO:tensorflow:segment_ids: 0 0 0 0 0 0 0 0 0 0 0 0 0 0 0 0 0 0 0 0 0 0 0 0 0 0 0 0 0 0 0 0 0 0 0 0 0 0 0 0 0 0 0 0 0 0 0 0 0 0 0 0 0 0 0 0 0 0 0 0 0 0 0 0 0 0 0 0 0 0 0 0 0 0 0 0 0 0 0 0 0 0 0 0 0 0 0 0 0 0 0 0 0 0 0 0 0 0 0 0 0 0 0 0 0 0 0 0 0 0 0 0 0 0 0 0 0 0 0 0 0 0 0 0 0 0 0 0 0 0 0 0 0 0 0 0 0 0 0 0 0 0 0 0 0 0 0 0 0 0 0 0 0 0 0 0 0 0 0 0 0 0 0 0 0 0 0 0 0 0 0 0 0 0 0 0 0 0 0 0 0 0 0 0 0 0 0 0 0 0 0 0 0 0 0 0 0 0 0 0\n"
          ]
        },
        {
          "output_type": "stream",
          "name": "stderr",
          "text": [
            "INFO:tensorflow:segment_ids: 0 0 0 0 0 0 0 0 0 0 0 0 0 0 0 0 0 0 0 0 0 0 0 0 0 0 0 0 0 0 0 0 0 0 0 0 0 0 0 0 0 0 0 0 0 0 0 0 0 0 0 0 0 0 0 0 0 0 0 0 0 0 0 0 0 0 0 0 0 0 0 0 0 0 0 0 0 0 0 0 0 0 0 0 0 0 0 0 0 0 0 0 0 0 0 0 0 0 0 0 0 0 0 0 0 0 0 0 0 0 0 0 0 0 0 0 0 0 0 0 0 0 0 0 0 0 0 0 0 0 0 0 0 0 0 0 0 0 0 0 0 0 0 0 0 0 0 0 0 0 0 0 0 0 0 0 0 0 0 0 0 0 0 0 0 0 0 0 0 0 0 0 0 0 0 0 0 0 0 0 0 0 0 0 0 0 0 0 0 0 0 0 0 0 0 0 0 0 0 0\n"
          ]
        },
        {
          "output_type": "stream",
          "name": "stdout",
          "text": [
            "INFO:tensorflow:label: 12 (id = 12)\n"
          ]
        },
        {
          "output_type": "stream",
          "name": "stderr",
          "text": [
            "INFO:tensorflow:label: 12 (id = 12)\n"
          ]
        },
        {
          "output_type": "stream",
          "name": "stdout",
          "text": [
            "INFO:tensorflow:*** Example ***\n"
          ]
        },
        {
          "output_type": "stream",
          "name": "stderr",
          "text": [
            "INFO:tensorflow:*** Example ***\n"
          ]
        },
        {
          "output_type": "stream",
          "name": "stdout",
          "text": [
            "INFO:tensorflow:guid: None\n"
          ]
        },
        {
          "output_type": "stream",
          "name": "stderr",
          "text": [
            "INFO:tensorflow:guid: None\n"
          ]
        },
        {
          "output_type": "stream",
          "name": "stdout",
          "text": [
            "INFO:tensorflow:tokens: [CLS] trái để mưu lợi thông thường khi vi phạm được phát hiện người ta sẽ có x ##u hướng dễ dà ##ng nhận d ##ốt thay vì nhận tham nhận á ##c tuy nhiên trong câu chuyện rất khó để có thể cho rằng quá trình thu phí oan sai diễn ra trong suốt 4 năm đó là vô tình do thiếu nhận thức về pháp luật có một chi tiết mà bất cứ ai từng lá ##i xe đến các nhà ga hàng không mới hiện đại như t ##2 nội bài hoặc t ##ân sơ ##n nhất nếu để ý đều có thể nhận ra các vị trí thu phí vào sân đ ##ỗ đã được thiết kế riêng song chúng đã không được sử dụng để thu phí bởi người ta xây tr ##ạm thu phí ở bên ngoài để có thể kiểm soát việc thu phí cả những chiếc xe chỉ vào sản ##h đó ##n ti ##ễn mà không qua sân đ ##ỗ thậm chí ở nội bài người ta còn đặt d ##ải phân cách để buộc xe đó ##n phải đi qua sân đ ##ỗ khiến việc ra vào nhà ga [SEP]\n"
          ]
        },
        {
          "output_type": "stream",
          "name": "stderr",
          "text": [
            "INFO:tensorflow:tokens: [CLS] trái để mưu lợi thông thường khi vi phạm được phát hiện người ta sẽ có x ##u hướng dễ dà ##ng nhận d ##ốt thay vì nhận tham nhận á ##c tuy nhiên trong câu chuyện rất khó để có thể cho rằng quá trình thu phí oan sai diễn ra trong suốt 4 năm đó là vô tình do thiếu nhận thức về pháp luật có một chi tiết mà bất cứ ai từng lá ##i xe đến các nhà ga hàng không mới hiện đại như t ##2 nội bài hoặc t ##ân sơ ##n nhất nếu để ý đều có thể nhận ra các vị trí thu phí vào sân đ ##ỗ đã được thiết kế riêng song chúng đã không được sử dụng để thu phí bởi người ta xây tr ##ạm thu phí ở bên ngoài để có thể kiểm soát việc thu phí cả những chiếc xe chỉ vào sản ##h đó ##n ti ##ễn mà không qua sân đ ##ỗ thậm chí ở nội bài người ta còn đặt d ##ải phân cách để buộc xe đó ##n phải đi qua sân đ ##ỗ khiến việc ra vào nhà ga [SEP]\n"
          ]
        },
        {
          "output_type": "stream",
          "name": "stdout",
          "text": [
            "INFO:tensorflow:input_ids: 101 57469 12460 72656 38081 18030 16591 12072 13956 50816 10476 13803 13526 11027 11057 16807 10601 192 10138 30096 58160 55962 10376 16638 172 43820 22545 17819 16638 20089 16638 255 10350 67035 17685 10504 33046 54461 18946 54155 12460 10601 12334 11257 16487 27261 16592 23886 70031 17023 13410 17300 11859 10504 63403 125 10558 12393 10331 28443 23403 10149 54594 16638 19154 12420 19013 36011 10601 10417 14325 43419 15542 27402 43735 11346 26258 26142 10116 28174 12002 10792 13265 11887 18031 11755 18652 13526 16071 12552 188 10729 35498 23935 16996 188 15218 81128 10115 13346 41800 12460 283 22389 10601 12334 16638 11859 10792 15598 20098 23886 70031 11603 30552 299 33078 11213 10476 21576 23216 39778 12011 18097 11213 11755 10476 14808 15237 12460 23886 70031 15686 11027 11057 27465 32221 53072 23886 70031 1682 24429 25331 12460 10601 12334 43229 64520 14331 23886 70031 16125 11934 24264 28174 14294 11603 16913 10237 12393 10115 14382 39345 15542 11755 14517 30552 299 33078 109690 33966 1682 35498 23935 11027 11057 14674 23568 172 32123 16225 15605 12460 52041 28174 12393 10115 15723 16895 14517 30552 299 33078 39156 14331 11859 11603 13265 11887 102\n"
          ]
        },
        {
          "output_type": "stream",
          "name": "stderr",
          "text": [
            "INFO:tensorflow:input_ids: 101 57469 12460 72656 38081 18030 16591 12072 13956 50816 10476 13803 13526 11027 11057 16807 10601 192 10138 30096 58160 55962 10376 16638 172 43820 22545 17819 16638 20089 16638 255 10350 67035 17685 10504 33046 54461 18946 54155 12460 10601 12334 11257 16487 27261 16592 23886 70031 17023 13410 17300 11859 10504 63403 125 10558 12393 10331 28443 23403 10149 54594 16638 19154 12420 19013 36011 10601 10417 14325 43419 15542 27402 43735 11346 26258 26142 10116 28174 12002 10792 13265 11887 18031 11755 18652 13526 16071 12552 188 10729 35498 23935 16996 188 15218 81128 10115 13346 41800 12460 283 22389 10601 12334 16638 11859 10792 15598 20098 23886 70031 11603 30552 299 33078 11213 10476 21576 23216 39778 12011 18097 11213 11755 10476 14808 15237 12460 23886 70031 15686 11027 11057 27465 32221 53072 23886 70031 1682 24429 25331 12460 10601 12334 43229 64520 14331 23886 70031 16125 11934 24264 28174 14294 11603 16913 10237 12393 10115 14382 39345 15542 11755 14517 30552 299 33078 109690 33966 1682 35498 23935 11027 11057 14674 23568 172 32123 16225 15605 12460 52041 28174 12393 10115 15723 16895 14517 30552 299 33078 39156 14331 11859 11603 13265 11887 102\n"
          ]
        },
        {
          "output_type": "stream",
          "name": "stdout",
          "text": [
            "INFO:tensorflow:input_mask: 1 1 1 1 1 1 1 1 1 1 1 1 1 1 1 1 1 1 1 1 1 1 1 1 1 1 1 1 1 1 1 1 1 1 1 1 1 1 1 1 1 1 1 1 1 1 1 1 1 1 1 1 1 1 1 1 1 1 1 1 1 1 1 1 1 1 1 1 1 1 1 1 1 1 1 1 1 1 1 1 1 1 1 1 1 1 1 1 1 1 1 1 1 1 1 1 1 1 1 1 1 1 1 1 1 1 1 1 1 1 1 1 1 1 1 1 1 1 1 1 1 1 1 1 1 1 1 1 1 1 1 1 1 1 1 1 1 1 1 1 1 1 1 1 1 1 1 1 1 1 1 1 1 1 1 1 1 1 1 1 1 1 1 1 1 1 1 1 1 1 1 1 1 1 1 1 1 1 1 1 1 1 1 1 1 1 1 1 1 1 1 1 1 1 1 1 1 1 1 1\n"
          ]
        },
        {
          "output_type": "stream",
          "name": "stderr",
          "text": [
            "INFO:tensorflow:input_mask: 1 1 1 1 1 1 1 1 1 1 1 1 1 1 1 1 1 1 1 1 1 1 1 1 1 1 1 1 1 1 1 1 1 1 1 1 1 1 1 1 1 1 1 1 1 1 1 1 1 1 1 1 1 1 1 1 1 1 1 1 1 1 1 1 1 1 1 1 1 1 1 1 1 1 1 1 1 1 1 1 1 1 1 1 1 1 1 1 1 1 1 1 1 1 1 1 1 1 1 1 1 1 1 1 1 1 1 1 1 1 1 1 1 1 1 1 1 1 1 1 1 1 1 1 1 1 1 1 1 1 1 1 1 1 1 1 1 1 1 1 1 1 1 1 1 1 1 1 1 1 1 1 1 1 1 1 1 1 1 1 1 1 1 1 1 1 1 1 1 1 1 1 1 1 1 1 1 1 1 1 1 1 1 1 1 1 1 1 1 1 1 1 1 1 1 1 1 1 1 1\n"
          ]
        },
        {
          "output_type": "stream",
          "name": "stdout",
          "text": [
            "INFO:tensorflow:segment_ids: 0 0 0 0 0 0 0 0 0 0 0 0 0 0 0 0 0 0 0 0 0 0 0 0 0 0 0 0 0 0 0 0 0 0 0 0 0 0 0 0 0 0 0 0 0 0 0 0 0 0 0 0 0 0 0 0 0 0 0 0 0 0 0 0 0 0 0 0 0 0 0 0 0 0 0 0 0 0 0 0 0 0 0 0 0 0 0 0 0 0 0 0 0 0 0 0 0 0 0 0 0 0 0 0 0 0 0 0 0 0 0 0 0 0 0 0 0 0 0 0 0 0 0 0 0 0 0 0 0 0 0 0 0 0 0 0 0 0 0 0 0 0 0 0 0 0 0 0 0 0 0 0 0 0 0 0 0 0 0 0 0 0 0 0 0 0 0 0 0 0 0 0 0 0 0 0 0 0 0 0 0 0 0 0 0 0 0 0 0 0 0 0 0 0 0 0 0 0 0 0\n"
          ]
        },
        {
          "output_type": "stream",
          "name": "stderr",
          "text": [
            "INFO:tensorflow:segment_ids: 0 0 0 0 0 0 0 0 0 0 0 0 0 0 0 0 0 0 0 0 0 0 0 0 0 0 0 0 0 0 0 0 0 0 0 0 0 0 0 0 0 0 0 0 0 0 0 0 0 0 0 0 0 0 0 0 0 0 0 0 0 0 0 0 0 0 0 0 0 0 0 0 0 0 0 0 0 0 0 0 0 0 0 0 0 0 0 0 0 0 0 0 0 0 0 0 0 0 0 0 0 0 0 0 0 0 0 0 0 0 0 0 0 0 0 0 0 0 0 0 0 0 0 0 0 0 0 0 0 0 0 0 0 0 0 0 0 0 0 0 0 0 0 0 0 0 0 0 0 0 0 0 0 0 0 0 0 0 0 0 0 0 0 0 0 0 0 0 0 0 0 0 0 0 0 0 0 0 0 0 0 0 0 0 0 0 0 0 0 0 0 0 0 0 0 0 0 0 0 0\n"
          ]
        },
        {
          "output_type": "stream",
          "name": "stdout",
          "text": [
            "INFO:tensorflow:label: 7 (id = 7)\n"
          ]
        },
        {
          "output_type": "stream",
          "name": "stderr",
          "text": [
            "INFO:tensorflow:label: 7 (id = 7)\n"
          ]
        }
      ],
      "source": [
        "# Convert our train and validation features to InputFeatures that BERT understands.\n",
        "train_features = bert.run_classifier.convert_examples_to_features(train_InputExamples, label_list, MAX_SEQ_LENGTH, tokenizer)\n",
        "\n",
        "val_features = bert.run_classifier.convert_examples_to_features(val_InputExamples, label_list, MAX_SEQ_LENGTH, tokenizer)"
      ]
    },
    {
      "cell_type": "code",
      "execution_count": 50,
      "metadata": {
        "id": "OLkn7RQ8_CV1",
        "colab": {
          "base_uri": "https://localhost:8080/"
        },
        "outputId": "dc225295-ed67-4e9a-c487-1e77f851c8fb"
      },
      "outputs": [
        {
          "output_type": "stream",
          "name": "stdout",
          "text": [
            "Sentence :  tin chắc rằng nếu chúng ta tiếp tục bám sát những nguyên tắc của mình kiểm soát tốt luồng di cư từ bên ngoài vào nội địa con virus quái ác sẽ khó xâm phạm và làm đảo lộn cuộc sống tạm yên bình này lo lắng và hy vọng lớn nhất của tôi là niềm tin chống dịch vào hệ thống y tế vừa nhen nhóm sẽ không bị kéo đổ do những con sâu làm rầu nồi canh như những vụ bắt bớ vì sai phạm không liên quan đến hoạt động chuyên môn của các vị giám đốc vài bệnh viện lãnh đạo cdc hay những dòng người nhập cảnh tiểu ngạch đang kéo về trước tết sẽ trong tầm kiểm soát quay lại việc thử nghiệm vaccine made in vietnam mà tôi được dự lễ khởi động hôm qua hy vọng thử nghiệm lâm sàng sẽ thành công chúng ta vẫn đang đi đúng chiến lược đã vạch ra đóng cửa với các nước có kiểm soát cách ly cho đến khi vaccine phát huy hiệu quả ở năm covid thứ hai này chúng ta vẫn sẽ có những ca lây nhiễm lọt ra cộng đồng\n",
            "------------------------------\n",
            "Tokens :  ['tin', 'ch', '##ắc', 'rằng', 'nếu', 'chúng', 'ta', 'tiếp', 'tục', 'bá', '##m', 'sát', 'những', 'nguyên', 'tắc', 'của', 'mình', 'kiểm', 'soát', 'tốt', 'lu', '##ồng', 'di', 'cư', 'từ', 'bên', 'ngoài', 'vào', 'nội', 'địa', 'con', 'virus', 'quá', '##i', 'á', '##c', 'sẽ', 'khó', 'xâm', 'phạm', 'và', 'làm', 'đảo', 'lộ', '##n', 'cuộc', 'sống', 'tạm', 'y', '##ên', 'bình', 'này', 'lo', 'l', '##ắng', 'và', 'hy', 'vọng', 'lớn', 'nhất', 'của', 'tôi', 'là', 'ni', '##ềm', 'tin', 'chống', 'dịch', 'vào', 'hệ', 'thống', 'y', 'tế', 'vừa', 'n', '##hen', 'nhóm', 'sẽ', 'không', 'bị', 'kéo', 'đổ', 'do', 'những', 'con', 'sâu', 'làm', 'r', '##ầu', 'n', '##ồi', 'can', '##h', 'như', 'những', 'vụ', 'bắt', 'b', '##ớ', 'vì', 'sai', 'phạm', 'không', 'liên', 'quan', 'đến', 'hoạt', 'động', 'chuyên', 'môn', 'của', 'các', 'vị', 'giám', 'đốc', 'vài', 'bệnh', 'viện', 'lãnh', 'đạo', 'cd', '##c', 'hay', 'những', 'dòng', 'người', 'nhập', 'cảnh', 'tiểu', 'ng', '##ạch', 'đang', 'kéo', 'về', 'trước', 'tế', '##t', 'sẽ', 'trong', 'tầm', 'kiểm', 'soát', 'quay', 'lại', 'việc', 'thử', 'nghiệm', 'va', '##cci', '##ne', 'made', 'in', 'vie', '##tna', '##m', 'mà', 'tôi', 'được', 'dự', 'lễ', 'khởi', 'động', 'hôm', 'qua', 'hy', 'vọng', 'thử', 'nghiệm', 'lâm', 's', '##àng', 'sẽ', 'thành', 'công', 'chúng', 'ta', 'vẫn', 'đang', 'đi', 'đúng', 'chiến', 'lược', 'đã', 'v', '##ạch', 'ra', 'đóng', 'cửa', 'với', 'các', 'nước', 'có', 'kiểm', 'soát', 'cách', 'ly', 'cho', 'đến', 'khi', 'va', '##cci', '##ne', 'phát', 'huy', 'hiệu', 'quả', 'ở', 'năm', 'co', '##vid', 'thứ', 'hai', 'này', 'chúng', 'ta', 'vẫn', 'sẽ', 'có', 'những', 'ca', 'l', '##ây', 'nhiễm', 'l', '##ọt', 'ra', 'cộng', 'đồng']\n",
            "------------------------------\n",
            "Input IDs :  [101, 21629, 18643, 36228, 16487, 41800, 18097, 11057, 16948, 26454, 74686, 10147, 25133, 11934, 22862, 96723, 10447, 17830, 43229, 64520, 33598, 14657, 37622, 10120, 34954, 11840, 24429, 25331, 11603, 35498, 18495, 10173, 20399, 27261, 10116, 255, 10350, 16807, 54155, 75956, 50816, 10432, 12984, 22587, 43993, 10115, 15625, 17135, 105463, 193, 20270, 20438, 10789, 10406, 180, 55628, 10432, 15165, 73429, 15731, 13346, 10447, 40813, 10331, 10414, 67060, 21629, 28237, 22654, 11603, 18310, 16805, 193, 17105, 60644, 182, 14786, 24770, 16807, 11755, 12505, 47598, 48424, 10149, 11934, 10173, 53752, 12984, 186, 59328, 182, 36825, 10944, 10237, 12552, 11934, 17790, 18019, 170, 111585, 17819, 13410, 50816, 11755, 20419, 12522, 12002, 21364, 13254, 39589, 52698, 10447, 10792, 15598, 45642, 45529, 43069, 32686, 27805, 30608, 20471, 42076, 10350, 13605, 11934, 40563, 11027, 26785, 33266, 20269, 10743, 29372, 21080, 47598, 12420, 16325, 17105, 10123, 16807, 10504, 75346, 43229, 64520, 39174, 13148, 14331, 63572, 42788, 10321, 28217, 10238, 11019, 10106, 13772, 34247, 10147, 15542, 40813, 10476, 24467, 40824, 50376, 13254, 108113, 14517, 15165, 73429, 63572, 42788, 89383, 187, 51579, 16807, 11629, 12319, 18097, 11057, 22666, 21080, 16895, 82540, 14463, 64922, 11213, 190, 29372, 11859, 26885, 43872, 11182, 10792, 12932, 10601, 43229, 64520, 15605, 66003, 11257, 12002, 102]\n",
            "------------------------------\n",
            "Input Masks :  [1, 1, 1, 1, 1, 1, 1, 1, 1, 1, 1, 1, 1, 1, 1, 1, 1, 1, 1, 1, 1, 1, 1, 1, 1, 1, 1, 1, 1, 1, 1, 1, 1, 1, 1, 1, 1, 1, 1, 1, 1, 1, 1, 1, 1, 1, 1, 1, 1, 1, 1, 1, 1, 1, 1, 1, 1, 1, 1, 1, 1, 1, 1, 1, 1, 1, 1, 1, 1, 1, 1, 1, 1, 1, 1, 1, 1, 1, 1, 1, 1, 1, 1, 1, 1, 1, 1, 1, 1, 1, 1, 1, 1, 1, 1, 1, 1, 1, 1, 1, 1, 1, 1, 1, 1, 1, 1, 1, 1, 1, 1, 1, 1, 1, 1, 1, 1, 1, 1, 1, 1, 1, 1, 1, 1, 1, 1, 1, 1, 1, 1, 1, 1, 1, 1, 1, 1, 1, 1, 1, 1, 1, 1, 1, 1, 1, 1, 1, 1, 1, 1, 1, 1, 1, 1, 1, 1, 1, 1, 1, 1, 1, 1, 1, 1, 1, 1, 1, 1, 1, 1, 1, 1, 1, 1, 1, 1, 1, 1, 1, 1, 1, 1, 1, 1, 1, 1, 1, 1, 1, 1, 1, 1, 1, 1, 1, 1, 1, 1, 1]\n",
            "------------------------------\n",
            "Segment IDs :  [0, 0, 0, 0, 0, 0, 0, 0, 0, 0, 0, 0, 0, 0, 0, 0, 0, 0, 0, 0, 0, 0, 0, 0, 0, 0, 0, 0, 0, 0, 0, 0, 0, 0, 0, 0, 0, 0, 0, 0, 0, 0, 0, 0, 0, 0, 0, 0, 0, 0, 0, 0, 0, 0, 0, 0, 0, 0, 0, 0, 0, 0, 0, 0, 0, 0, 0, 0, 0, 0, 0, 0, 0, 0, 0, 0, 0, 0, 0, 0, 0, 0, 0, 0, 0, 0, 0, 0, 0, 0, 0, 0, 0, 0, 0, 0, 0, 0, 0, 0, 0, 0, 0, 0, 0, 0, 0, 0, 0, 0, 0, 0, 0, 0, 0, 0, 0, 0, 0, 0, 0, 0, 0, 0, 0, 0, 0, 0, 0, 0, 0, 0, 0, 0, 0, 0, 0, 0, 0, 0, 0, 0, 0, 0, 0, 0, 0, 0, 0, 0, 0, 0, 0, 0, 0, 0, 0, 0, 0, 0, 0, 0, 0, 0, 0, 0, 0, 0, 0, 0, 0, 0, 0, 0, 0, 0, 0, 0, 0, 0, 0, 0, 0, 0, 0, 0, 0, 0, 0, 0, 0, 0, 0, 0, 0, 0, 0, 0, 0, 0]\n"
          ]
        }
      ],
      "source": [
        "#Example on first observation in the training set\n",
        "print(\"Sentence : \", train_InputExamples.iloc[0].text_a)\n",
        "print(\"-\"*30)\n",
        "print(\"Tokens : \", tokenizer.tokenize(train_InputExamples.iloc[0].text_a))\n",
        "print(\"-\"*30)\n",
        "print(\"Input IDs : \", train_features[0].input_ids)\n",
        "print(\"-\"*30)\n",
        "print(\"Input Masks : \", train_features[0].input_mask)\n",
        "print(\"-\"*30)\n",
        "print(\"Segment IDs : \", train_features[0].segment_ids)"
      ]
    },
    {
      "cell_type": "markdown",
      "metadata": {
        "id": "piypsrPudMFf"
      },
      "source": [
        "# BERT: Creating A Multi-Class Classifier Model"
      ]
    },
    {
      "cell_type": "code",
      "execution_count": 51,
      "metadata": {
        "id": "TBxxy9s7GCW4"
      },
      "outputs": [],
      "source": [
        "def create_model(is_predicting, input_ids, input_mask, segment_ids, labels,\n",
        "                 num_labels):\n",
        "  \n",
        "  bert_module = hub.Module(\n",
        "      BERT_MODEL_HUB,\n",
        "      trainable=True)\n",
        "  bert_inputs = dict(\n",
        "      input_ids=input_ids,\n",
        "      input_mask=input_mask,\n",
        "      segment_ids=segment_ids)\n",
        "  bert_outputs = bert_module(\n",
        "      inputs=bert_inputs,\n",
        "      signature=\"tokens\",\n",
        "      as_dict=True)\n",
        "\n",
        "  # Use \"pooled_output\" for classification tasks on an entire sentence.\n",
        "  # Use \"sequence_outputs\" for token-level output.\n",
        "  output_layer = bert_outputs[\"pooled_output\"]\n",
        "  # with tf.Session() as sess:\n",
        "  output_layer1 = bert_outputs[\"pooled_output\"]\n",
        "  # output_layer1 = 999\n",
        "  hidden_size = output_layer.shape[-1].value\n",
        "\n",
        "  # Create our own layer to tune for politeness data.\n",
        "  output_weights = tf.get_variable(\n",
        "      \"output_weights\", [num_labels, hidden_size],\n",
        "      initializer=tf.truncated_normal_initializer(stddev=0.02))\n",
        "\n",
        "  output_bias = tf.get_variable(\n",
        "      \"output_bias\", [num_labels], initializer=tf.zeros_initializer())\n",
        "\n",
        "  with tf.variable_scope(\"loss\"):\n",
        "\n",
        "    # Dropout helps prevent overfitting\n",
        "    output_layer = tf.nn.dropout(output_layer, keep_prob=0.8)\n",
        "\n",
        "    logits = tf.matmul(output_layer, output_weights, transpose_b=True)\n",
        "    logits = tf.nn.bias_add(logits, output_bias)\n",
        "    log_probs = tf.nn.log_softmax(logits, axis=-1)\n",
        "\n",
        "    # Convert labels into one-hot encoding\n",
        "    one_hot_labels = tf.one_hot(labels, depth=num_labels, dtype=tf.float32)\n",
        "\n",
        "    predicted_labels = tf.squeeze(tf.argmax(log_probs, axis=-1, output_type=tf.int32))\n",
        "    # If we're predicting, we want predicted labels and the probabiltiies.\n",
        "    if is_predicting:\n",
        "      return (predicted_labels, log_probs, output_layer1)\n",
        "\n",
        "    # If we're train/eval, compute loss between predicted and actual label\n",
        "    per_example_loss = -tf.reduce_sum(one_hot_labels * log_probs, axis=-1)\n",
        "    loss = tf.reduce_mean(per_example_loss)\n",
        "    return (loss, predicted_labels, log_probs)"
      ]
    },
    {
      "cell_type": "code",
      "execution_count": 52,
      "metadata": {
        "id": "rPRB5i1HG8JO"
      },
      "outputs": [],
      "source": [
        "def model_fn_builder(num_labels, learning_rate, num_train_steps,\n",
        "                     num_warmup_steps):\n",
        "  \"\"\"Returns `model_fn` closure for TPUEstimator.\"\"\"\n",
        "  def model_fn(features, labels, mode, params):  # pylint: disable=unused-argument\n",
        "    \"\"\"The `model_fn` for TPUEstimator.\"\"\"\n",
        "\n",
        "    input_ids = features[\"input_ids\"]\n",
        "    input_mask = features[\"input_mask\"]\n",
        "    segment_ids = features[\"segment_ids\"]\n",
        "    label_ids = features[\"label_ids\"]\n",
        "\n",
        "    is_predicting = (mode == tf.estimator.ModeKeys.PREDICT)\n",
        "    \n",
        "    # TRAIN and EVAL\n",
        "    if not is_predicting:\n",
        "\n",
        "      (loss, predicted_labels, log_probs) = create_model(\n",
        "        is_predicting, input_ids, input_mask, segment_ids, label_ids, num_labels)\n",
        "\n",
        "      train_op = bert.optimization.create_optimizer(\n",
        "          loss, learning_rate, num_train_steps, num_warmup_steps, use_tpu=False)\n",
        "\n",
        "      # Calculate evaluation metrics. \n",
        "      def metric_fn(label_ids, predicted_labels):\n",
        "        accuracy = tf.metrics.accuracy(label_ids, predicted_labels)\n",
        "        true_pos = tf.metrics.true_positives(\n",
        "            label_ids,\n",
        "            predicted_labels)\n",
        "        true_neg = tf.metrics.true_negatives(\n",
        "            label_ids,\n",
        "            predicted_labels)   \n",
        "        false_pos = tf.metrics.false_positives(\n",
        "            label_ids,\n",
        "            predicted_labels)  \n",
        "        false_neg = tf.metrics.false_negatives(\n",
        "            label_ids,\n",
        "            predicted_labels)\n",
        "        \n",
        "        return {\n",
        "            \"eval_accuracy\": accuracy,\n",
        "            \"true_positives\": true_pos,\n",
        "            \"true_negatives\": true_neg,\n",
        "            \"false_positives\": false_pos,\n",
        "            \"false_negatives\": false_neg,\n",
        "            }\n",
        "\n",
        "      eval_metrics = metric_fn(label_ids, predicted_labels)\n",
        "\n",
        "      if mode == tf.estimator.ModeKeys.TRAIN:\n",
        "        return tf.estimator.EstimatorSpec(mode=mode,\n",
        "          loss=loss,\n",
        "          train_op=train_op)\n",
        "      else:\n",
        "          return tf.estimator.EstimatorSpec(mode=mode,\n",
        "            loss=loss,\n",
        "            eval_metric_ops=eval_metrics)\n",
        "    else:\n",
        "      (predicted_labels, log_probs, output_layer) = create_model(\n",
        "        is_predicting, input_ids, input_mask, segment_ids, label_ids, num_labels)\n",
        "      predictions = {\n",
        "          'probabilities': log_probs,\n",
        "          'labels': predicted_labels,\n",
        "          'pooled_output': output_layer\n",
        "      }\n",
        "      return tf.estimator.EstimatorSpec(mode, predictions=predictions)\n",
        "\n",
        "  # Return the actual model function in the closure\n",
        "  return model_fn"
      ]
    },
    {
      "cell_type": "code",
      "execution_count": 53,
      "metadata": {
        "colab": {
          "base_uri": "https://localhost:8080/"
        },
        "id": "6JCtSMi7NNTq",
        "outputId": "ec21069c-c15c-4a65-938f-99bd1f7fed8a"
      },
      "outputs": [
        {
          "output_type": "execute_result",
          "data": {
            "text/plain": [
              "2626"
            ]
          },
          "metadata": {},
          "execution_count": 53
        }
      ],
      "source": [
        "len(train_features)"
      ]
    },
    {
      "cell_type": "code",
      "execution_count": 54,
      "metadata": {
        "id": "fNrvabUFHC79"
      },
      "outputs": [],
      "source": [
        "BATCH_SIZE = 13 # ước của len(train_features) # 26\n",
        "LEARNING_RATE = 2e-5\n",
        "NUM_TRAIN_EPOCHS = 2\n",
        "# Warmup is a period of time where the learning rate is small and gradually increases--usually helps training.\n",
        "WARMUP_PROPORTION = 0.1\n",
        "# Model configs\n",
        "SAVE_CHECKPOINTS_STEPS = 300\n",
        "SAVE_SUMMARY_STEPS = 100\n",
        "\n",
        "# Compute train and warmup steps from batch size\n",
        "num_train_steps = int(len(train_features) / BATCH_SIZE * NUM_TRAIN_EPOCHS)\n",
        "num_warmup_steps = int(num_train_steps * WARMUP_PROPORTION)\n",
        "\n",
        "# Specify output directory and number of checkpoint steps to save\n",
        "run_config = tf.estimator.RunConfig(\n",
        "    model_dir=OUTPUT_DIR,\n",
        "    save_summary_steps=SAVE_SUMMARY_STEPS,\n",
        "    save_checkpoints_steps=SAVE_CHECKPOINTS_STEPS)\n",
        "\n",
        "# Specify output directory and number of checkpoint steps to save\n",
        "run_config = tf.estimator.RunConfig(\n",
        "    model_dir=OUTPUT_DIR,\n",
        "    save_summary_steps=SAVE_SUMMARY_STEPS,\n",
        "    save_checkpoints_steps=SAVE_CHECKPOINTS_STEPS)"
      ]
    },
    {
      "cell_type": "code",
      "execution_count": 55,
      "metadata": {
        "colab": {
          "base_uri": "https://localhost:8080/"
        },
        "id": "xo70COnsHIWE",
        "outputId": "0df1e370-7ee1-418d-c704-242b6faa76d1"
      },
      "outputs": [
        {
          "output_type": "execute_result",
          "data": {
            "text/plain": [
              "(404, 13)"
            ]
          },
          "metadata": {},
          "execution_count": 55
        }
      ],
      "source": [
        "num_train_steps, len(label_list)"
      ]
    },
    {
      "cell_type": "code",
      "execution_count": 56,
      "metadata": {
        "colab": {
          "base_uri": "https://localhost:8080/"
        },
        "id": "zHlZKcq7HMzE",
        "outputId": "a2a5a3a5-50cb-4530-d68d-f28aefeb078f"
      },
      "outputs": [
        {
          "output_type": "stream",
          "name": "stdout",
          "text": [
            "INFO:tensorflow:Using config: {'_model_dir': 'model', '_tf_random_seed': None, '_save_summary_steps': 100, '_save_checkpoints_steps': 300, '_save_checkpoints_secs': None, '_session_config': allow_soft_placement: true\n",
            "graph_options {\n",
            "  rewrite_options {\n",
            "    meta_optimizer_iterations: ONE\n",
            "  }\n",
            "}\n",
            ", '_keep_checkpoint_max': 5, '_keep_checkpoint_every_n_hours': 10000, '_log_step_count_steps': 100, '_train_distribute': None, '_device_fn': None, '_protocol': None, '_eval_distribute': None, '_experimental_distribute': None, '_experimental_max_worker_delay_secs': None, '_session_creation_timeout_secs': 7200, '_service': None, '_cluster_spec': <tensorflow.python.training.server_lib.ClusterSpec object at 0x7f0b92c29950>, '_task_type': 'worker', '_task_id': 0, '_global_id_in_cluster': 0, '_master': '', '_evaluation_master': '', '_is_chief': True, '_num_ps_replicas': 0, '_num_worker_replicas': 1}\n"
          ]
        },
        {
          "output_type": "stream",
          "name": "stderr",
          "text": [
            "INFO:tensorflow:Using config: {'_model_dir': 'model', '_tf_random_seed': None, '_save_summary_steps': 100, '_save_checkpoints_steps': 300, '_save_checkpoints_secs': None, '_session_config': allow_soft_placement: true\n",
            "graph_options {\n",
            "  rewrite_options {\n",
            "    meta_optimizer_iterations: ONE\n",
            "  }\n",
            "}\n",
            ", '_keep_checkpoint_max': 5, '_keep_checkpoint_every_n_hours': 10000, '_log_step_count_steps': 100, '_train_distribute': None, '_device_fn': None, '_protocol': None, '_eval_distribute': None, '_experimental_distribute': None, '_experimental_max_worker_delay_secs': None, '_session_creation_timeout_secs': 7200, '_service': None, '_cluster_spec': <tensorflow.python.training.server_lib.ClusterSpec object at 0x7f0b92c29950>, '_task_type': 'worker', '_task_id': 0, '_global_id_in_cluster': 0, '_master': '', '_evaluation_master': '', '_is_chief': True, '_num_ps_replicas': 0, '_num_worker_replicas': 1}\n"
          ]
        }
      ],
      "source": [
        "#Initializing the model and the estimator\n",
        "model_fn = model_fn_builder(\n",
        "  num_labels=len(label_list),\n",
        "  learning_rate=LEARNING_RATE,\n",
        "  num_train_steps=num_train_steps,\n",
        "  num_warmup_steps=num_warmup_steps)\n",
        "\n",
        "estimator = tf.estimator.Estimator(\n",
        "  model_fn=model_fn,\n",
        "  config=run_config,\n",
        "  params={\"batch_size\": BATCH_SIZE})\n"
      ]
    },
    {
      "cell_type": "code",
      "execution_count": 57,
      "metadata": {
        "id": "05KBWhqeHUIF"
      },
      "outputs": [],
      "source": [
        "# Create an input function for training. drop_remainder = True for using TPUs.\n",
        "train_input_fn = bert.run_classifier.input_fn_builder(\n",
        "    features=train_features,\n",
        "    seq_length=MAX_SEQ_LENGTH,\n",
        "    is_training=True,\n",
        "    drop_remainder=False)\n",
        "\n",
        "# Create an input function for validating. drop_remainder = True for using TPUs.\n",
        "val_input_fn = run_classifier.input_fn_builder(\n",
        "    features=val_features,\n",
        "    seq_length=MAX_SEQ_LENGTH,\n",
        "    is_training=False,\n",
        "    drop_remainder=False)"
      ]
    },
    {
      "cell_type": "markdown",
      "metadata": {
        "id": "Lm0AubBnhEst"
      },
      "source": [
        "# BERT: Fine Tuning Training & Evaluating"
      ]
    },
    {
      "cell_type": "code",
      "execution_count": 58,
      "metadata": {
        "colab": {
          "base_uri": "https://localhost:8080/"
        },
        "id": "JUhCik-iHj9o",
        "outputId": "e951b9ba-990a-4f69-abfc-48ff47c63cfe"
      },
      "outputs": [
        {
          "output_type": "stream",
          "name": "stdout",
          "text": [
            "Beginning Training!\n",
            "WARNING:tensorflow:From /tensorflow-1.15.2/python3.7/tensorflow_core/python/training/training_util.py:236: Variable.initialized_value (from tensorflow.python.ops.variables) is deprecated and will be removed in a future version.\n",
            "Instructions for updating:\n",
            "Use Variable.read_value. Variables in 2.X are initialized automatically both in eager and graph (inside tf.defun) contexts.\n"
          ]
        },
        {
          "output_type": "stream",
          "name": "stderr",
          "text": [
            "WARNING:tensorflow:From /tensorflow-1.15.2/python3.7/tensorflow_core/python/training/training_util.py:236: Variable.initialized_value (from tensorflow.python.ops.variables) is deprecated and will be removed in a future version.\n",
            "Instructions for updating:\n",
            "Use Variable.read_value. Variables in 2.X are initialized automatically both in eager and graph (inside tf.defun) contexts.\n"
          ]
        },
        {
          "output_type": "stream",
          "name": "stdout",
          "text": [
            "INFO:tensorflow:Calling model_fn.\n"
          ]
        },
        {
          "output_type": "stream",
          "name": "stderr",
          "text": [
            "INFO:tensorflow:Calling model_fn.\n"
          ]
        },
        {
          "output_type": "stream",
          "name": "stdout",
          "text": [
            "INFO:tensorflow:Saver not created because there are no variables in the graph to restore\n"
          ]
        },
        {
          "output_type": "stream",
          "name": "stderr",
          "text": [
            "INFO:tensorflow:Saver not created because there are no variables in the graph to restore\n"
          ]
        },
        {
          "output_type": "stream",
          "name": "stdout",
          "text": [
            "WARNING:tensorflow:From <ipython-input-51-a75d089b65af>:35: calling dropout (from tensorflow.python.ops.nn_ops) with keep_prob is deprecated and will be removed in a future version.\n",
            "Instructions for updating:\n",
            "Please use `rate` instead of `keep_prob`. Rate should be set to `rate = 1 - keep_prob`.\n"
          ]
        },
        {
          "output_type": "stream",
          "name": "stderr",
          "text": [
            "WARNING:tensorflow:From <ipython-input-51-a75d089b65af>:35: calling dropout (from tensorflow.python.ops.nn_ops) with keep_prob is deprecated and will be removed in a future version.\n",
            "Instructions for updating:\n",
            "Please use `rate` instead of `keep_prob`. Rate should be set to `rate = 1 - keep_prob`.\n"
          ]
        },
        {
          "output_type": "stream",
          "name": "stdout",
          "text": [
            "WARNING:tensorflow:From /usr/local/lib/python3.7/dist-packages/bert/optimization.py:27: The name tf.train.get_or_create_global_step is deprecated. Please use tf.compat.v1.train.get_or_create_global_step instead.\n",
            "\n"
          ]
        },
        {
          "output_type": "stream",
          "name": "stderr",
          "text": [
            "WARNING:tensorflow:From /usr/local/lib/python3.7/dist-packages/bert/optimization.py:27: The name tf.train.get_or_create_global_step is deprecated. Please use tf.compat.v1.train.get_or_create_global_step instead.\n",
            "\n"
          ]
        },
        {
          "output_type": "stream",
          "name": "stdout",
          "text": [
            "WARNING:tensorflow:From /usr/local/lib/python3.7/dist-packages/bert/optimization.py:32: The name tf.train.polynomial_decay is deprecated. Please use tf.compat.v1.train.polynomial_decay instead.\n",
            "\n"
          ]
        },
        {
          "output_type": "stream",
          "name": "stderr",
          "text": [
            "WARNING:tensorflow:From /usr/local/lib/python3.7/dist-packages/bert/optimization.py:32: The name tf.train.polynomial_decay is deprecated. Please use tf.compat.v1.train.polynomial_decay instead.\n",
            "\n"
          ]
        },
        {
          "output_type": "stream",
          "name": "stdout",
          "text": [
            "WARNING:tensorflow:From /usr/local/lib/python3.7/dist-packages/bert/optimization.py:70: The name tf.trainable_variables is deprecated. Please use tf.compat.v1.trainable_variables instead.\n",
            "\n"
          ]
        },
        {
          "output_type": "stream",
          "name": "stderr",
          "text": [
            "WARNING:tensorflow:From /usr/local/lib/python3.7/dist-packages/bert/optimization.py:70: The name tf.trainable_variables is deprecated. Please use tf.compat.v1.trainable_variables instead.\n",
            "\n"
          ]
        },
        {
          "output_type": "stream",
          "name": "stdout",
          "text": [
            "WARNING:tensorflow:From /tensorflow-1.15.2/python3.7/tensorflow_core/python/ops/math_grad.py:1375: where (from tensorflow.python.ops.array_ops) is deprecated and will be removed in a future version.\n",
            "Instructions for updating:\n",
            "Use tf.where in 2.0, which has the same broadcast rule as np.where\n"
          ]
        },
        {
          "output_type": "stream",
          "name": "stderr",
          "text": [
            "WARNING:tensorflow:From /tensorflow-1.15.2/python3.7/tensorflow_core/python/ops/math_grad.py:1375: where (from tensorflow.python.ops.array_ops) is deprecated and will be removed in a future version.\n",
            "Instructions for updating:\n",
            "Use tf.where in 2.0, which has the same broadcast rule as np.where\n",
            "/tensorflow-1.15.2/python3.7/tensorflow_core/python/framework/indexed_slices.py:424: UserWarning: Converting sparse IndexedSlices to a dense Tensor of unknown shape. This may consume a large amount of memory.\n",
            "  \"Converting sparse IndexedSlices to a dense Tensor of unknown shape. \"\n"
          ]
        },
        {
          "output_type": "stream",
          "name": "stdout",
          "text": [
            "INFO:tensorflow:Done calling model_fn.\n"
          ]
        },
        {
          "output_type": "stream",
          "name": "stderr",
          "text": [
            "INFO:tensorflow:Done calling model_fn.\n"
          ]
        },
        {
          "output_type": "stream",
          "name": "stdout",
          "text": [
            "INFO:tensorflow:Create CheckpointSaverHook.\n"
          ]
        },
        {
          "output_type": "stream",
          "name": "stderr",
          "text": [
            "INFO:tensorflow:Create CheckpointSaverHook.\n"
          ]
        },
        {
          "output_type": "stream",
          "name": "stdout",
          "text": [
            "INFO:tensorflow:Graph was finalized.\n"
          ]
        },
        {
          "output_type": "stream",
          "name": "stderr",
          "text": [
            "INFO:tensorflow:Graph was finalized.\n"
          ]
        },
        {
          "output_type": "stream",
          "name": "stdout",
          "text": [
            "INFO:tensorflow:Running local_init_op.\n"
          ]
        },
        {
          "output_type": "stream",
          "name": "stderr",
          "text": [
            "INFO:tensorflow:Running local_init_op.\n"
          ]
        },
        {
          "output_type": "stream",
          "name": "stdout",
          "text": [
            "INFO:tensorflow:Done running local_init_op.\n"
          ]
        },
        {
          "output_type": "stream",
          "name": "stderr",
          "text": [
            "INFO:tensorflow:Done running local_init_op.\n"
          ]
        },
        {
          "output_type": "stream",
          "name": "stdout",
          "text": [
            "INFO:tensorflow:Saving checkpoints for 0 into model/model.ckpt.\n"
          ]
        },
        {
          "output_type": "stream",
          "name": "stderr",
          "text": [
            "INFO:tensorflow:Saving checkpoints for 0 into model/model.ckpt.\n"
          ]
        },
        {
          "output_type": "stream",
          "name": "stdout",
          "text": [
            "INFO:tensorflow:loss = 2.631838, step = 0\n"
          ]
        },
        {
          "output_type": "stream",
          "name": "stderr",
          "text": [
            "INFO:tensorflow:loss = 2.631838, step = 0\n"
          ]
        },
        {
          "output_type": "stream",
          "name": "stdout",
          "text": [
            "INFO:tensorflow:global_step/sec: 1.88962\n"
          ]
        },
        {
          "output_type": "stream",
          "name": "stderr",
          "text": [
            "INFO:tensorflow:global_step/sec: 1.88962\n"
          ]
        },
        {
          "output_type": "stream",
          "name": "stdout",
          "text": [
            "INFO:tensorflow:loss = 2.413284, step = 100 (52.923 sec)\n"
          ]
        },
        {
          "output_type": "stream",
          "name": "stderr",
          "text": [
            "INFO:tensorflow:loss = 2.413284, step = 100 (52.923 sec)\n"
          ]
        },
        {
          "output_type": "stream",
          "name": "stdout",
          "text": [
            "INFO:tensorflow:global_step/sec: 2.62105\n"
          ]
        },
        {
          "output_type": "stream",
          "name": "stderr",
          "text": [
            "INFO:tensorflow:global_step/sec: 2.62105\n"
          ]
        },
        {
          "output_type": "stream",
          "name": "stdout",
          "text": [
            "INFO:tensorflow:loss = 2.3204956, step = 200 (38.154 sec)\n"
          ]
        },
        {
          "output_type": "stream",
          "name": "stderr",
          "text": [
            "INFO:tensorflow:loss = 2.3204956, step = 200 (38.154 sec)\n"
          ]
        },
        {
          "output_type": "stream",
          "name": "stdout",
          "text": [
            "INFO:tensorflow:Saving checkpoints for 300 into model/model.ckpt.\n"
          ]
        },
        {
          "output_type": "stream",
          "name": "stderr",
          "text": [
            "INFO:tensorflow:Saving checkpoints for 300 into model/model.ckpt.\n"
          ]
        },
        {
          "output_type": "stream",
          "name": "stdout",
          "text": [
            "INFO:tensorflow:global_step/sec: 2.15447\n"
          ]
        },
        {
          "output_type": "stream",
          "name": "stderr",
          "text": [
            "INFO:tensorflow:global_step/sec: 2.15447\n"
          ]
        },
        {
          "output_type": "stream",
          "name": "stdout",
          "text": [
            "INFO:tensorflow:loss = 2.3577662, step = 300 (46.415 sec)\n"
          ]
        },
        {
          "output_type": "stream",
          "name": "stderr",
          "text": [
            "INFO:tensorflow:loss = 2.3577662, step = 300 (46.415 sec)\n"
          ]
        },
        {
          "output_type": "stream",
          "name": "stdout",
          "text": [
            "INFO:tensorflow:global_step/sec: 2.61952\n"
          ]
        },
        {
          "output_type": "stream",
          "name": "stderr",
          "text": [
            "INFO:tensorflow:global_step/sec: 2.61952\n"
          ]
        },
        {
          "output_type": "stream",
          "name": "stdout",
          "text": [
            "INFO:tensorflow:loss = 2.144468, step = 400 (38.173 sec)\n"
          ]
        },
        {
          "output_type": "stream",
          "name": "stderr",
          "text": [
            "INFO:tensorflow:loss = 2.144468, step = 400 (38.173 sec)\n"
          ]
        },
        {
          "output_type": "stream",
          "name": "stdout",
          "text": [
            "INFO:tensorflow:Saving checkpoints for 404 into model/model.ckpt.\n"
          ]
        },
        {
          "output_type": "stream",
          "name": "stderr",
          "text": [
            "INFO:tensorflow:Saving checkpoints for 404 into model/model.ckpt.\n"
          ]
        },
        {
          "output_type": "stream",
          "name": "stdout",
          "text": [
            "INFO:tensorflow:Loss for final step: 1.5485196.\n"
          ]
        },
        {
          "output_type": "stream",
          "name": "stderr",
          "text": [
            "INFO:tensorflow:Loss for final step: 1.5485196.\n"
          ]
        },
        {
          "output_type": "stream",
          "name": "stdout",
          "text": [
            "Training took time  0:03:54.492396\n"
          ]
        }
      ],
      "source": [
        "#Training the model\n",
        "print(f'Beginning Training!')\n",
        "current_time = datetime.now()\n",
        "estimator.train(input_fn=train_input_fn, max_steps=num_train_steps)\n",
        "print(\"Training took time \", datetime.now() - current_time)"
      ]
    },
    {
      "cell_type": "markdown",
      "metadata": {
        "id": "b-EFK3DS0qkm"
      },
      "source": [
        "The accuracy for the fine tuned BERT model"
      ]
    },
    {
      "cell_type": "code",
      "execution_count": 59,
      "metadata": {
        "id": "HSQxiqDPHrJy",
        "colab": {
          "base_uri": "https://localhost:8080/"
        },
        "outputId": "eda6c460-12ff-45f7-a6f7-48dd0ed12236"
      },
      "outputs": [
        {
          "output_type": "stream",
          "name": "stdout",
          "text": [
            "INFO:tensorflow:Calling model_fn.\n"
          ]
        },
        {
          "output_type": "stream",
          "name": "stderr",
          "text": [
            "INFO:tensorflow:Calling model_fn.\n"
          ]
        },
        {
          "output_type": "stream",
          "name": "stdout",
          "text": [
            "INFO:tensorflow:Saver not created because there are no variables in the graph to restore\n"
          ]
        },
        {
          "output_type": "stream",
          "name": "stderr",
          "text": [
            "INFO:tensorflow:Saver not created because there are no variables in the graph to restore\n",
            "/tensorflow-1.15.2/python3.7/tensorflow_core/python/framework/indexed_slices.py:424: UserWarning: Converting sparse IndexedSlices to a dense Tensor of unknown shape. This may consume a large amount of memory.\n",
            "  \"Converting sparse IndexedSlices to a dense Tensor of unknown shape. \"\n"
          ]
        },
        {
          "output_type": "stream",
          "name": "stdout",
          "text": [
            "INFO:tensorflow:Done calling model_fn.\n"
          ]
        },
        {
          "output_type": "stream",
          "name": "stderr",
          "text": [
            "INFO:tensorflow:Done calling model_fn.\n"
          ]
        },
        {
          "output_type": "stream",
          "name": "stdout",
          "text": [
            "INFO:tensorflow:Starting evaluation at 2022-07-06T05:39:40Z\n"
          ]
        },
        {
          "output_type": "stream",
          "name": "stderr",
          "text": [
            "INFO:tensorflow:Starting evaluation at 2022-07-06T05:39:40Z\n"
          ]
        },
        {
          "output_type": "stream",
          "name": "stdout",
          "text": [
            "INFO:tensorflow:Graph was finalized.\n"
          ]
        },
        {
          "output_type": "stream",
          "name": "stderr",
          "text": [
            "INFO:tensorflow:Graph was finalized.\n"
          ]
        },
        {
          "output_type": "stream",
          "name": "stdout",
          "text": [
            "INFO:tensorflow:Restoring parameters from model/model.ckpt-404\n"
          ]
        },
        {
          "output_type": "stream",
          "name": "stderr",
          "text": [
            "INFO:tensorflow:Restoring parameters from model/model.ckpt-404\n"
          ]
        },
        {
          "output_type": "stream",
          "name": "stdout",
          "text": [
            "INFO:tensorflow:Running local_init_op.\n"
          ]
        },
        {
          "output_type": "stream",
          "name": "stderr",
          "text": [
            "INFO:tensorflow:Running local_init_op.\n"
          ]
        },
        {
          "output_type": "stream",
          "name": "stdout",
          "text": [
            "INFO:tensorflow:Done running local_init_op.\n"
          ]
        },
        {
          "output_type": "stream",
          "name": "stderr",
          "text": [
            "INFO:tensorflow:Done running local_init_op.\n"
          ]
        },
        {
          "output_type": "stream",
          "name": "stdout",
          "text": [
            "INFO:tensorflow:Finished evaluation at 2022-07-06-05:39:52\n"
          ]
        },
        {
          "output_type": "stream",
          "name": "stderr",
          "text": [
            "INFO:tensorflow:Finished evaluation at 2022-07-06-05:39:52\n"
          ]
        },
        {
          "output_type": "stream",
          "name": "stdout",
          "text": [
            "INFO:tensorflow:Saving dict for global step 404: eval_accuracy = 0.33033034, false_negatives = 36.0, false_positives = 20.0, global_step = 404, loss = 2.0206194, true_negatives = 19.0, true_positives = 591.0\n"
          ]
        },
        {
          "output_type": "stream",
          "name": "stderr",
          "text": [
            "INFO:tensorflow:Saving dict for global step 404: eval_accuracy = 0.33033034, false_negatives = 36.0, false_positives = 20.0, global_step = 404, loss = 2.0206194, true_negatives = 19.0, true_positives = 591.0\n"
          ]
        },
        {
          "output_type": "stream",
          "name": "stdout",
          "text": [
            "INFO:tensorflow:Saving 'checkpoint_path' summary for global step 404: model/model.ckpt-404\n"
          ]
        },
        {
          "output_type": "stream",
          "name": "stderr",
          "text": [
            "INFO:tensorflow:Saving 'checkpoint_path' summary for global step 404: model/model.ckpt-404\n"
          ]
        },
        {
          "output_type": "execute_result",
          "data": {
            "text/plain": [
              "{'eval_accuracy': 0.33033034,\n",
              " 'false_negatives': 36.0,\n",
              " 'false_positives': 20.0,\n",
              " 'global_step': 404,\n",
              " 'loss': 2.0206194,\n",
              " 'true_negatives': 19.0,\n",
              " 'true_positives': 591.0}"
            ]
          },
          "metadata": {},
          "execution_count": 59
        }
      ],
      "source": [
        "#Evaluating the model with Validation set\n",
        "estimator.evaluate(input_fn=val_input_fn, steps=None)"
      ]
    },
    {
      "cell_type": "markdown",
      "metadata": {
        "id": "ubX4mo7ahbZI"
      },
      "source": [
        "# BERT: Get The Vector Transformations from the Fine Tuned BERT"
      ]
    },
    {
      "cell_type": "code",
      "execution_count": 60,
      "metadata": {
        "id": "7B114QMlVwMm"
      },
      "outputs": [],
      "source": [
        "# A method to get predictions\n",
        "def getPrediction(in_sentences, type_output = \"features\"):\n",
        "  #A list to map the actual labels to the predictions\n",
        "  labels = np.unique(train['label'])\n",
        "  input_examples = [run_classifier.InputExample(guid=\"\", text_a = x, text_b = None, label = 0) for x in in_sentences] \n",
        "  input_features = run_classifier.convert_examples_to_features(input_examples, label_list, MAX_SEQ_LENGTH, tokenizer)\n",
        "  #Predicting the classes \n",
        "  predict_input_fn = run_classifier.input_fn_builder(features=input_features, seq_length=MAX_SEQ_LENGTH, is_training=False, drop_remainder=False)\n",
        "  predictions = estimator.predict(predict_input_fn)\n",
        "  #predictions = estimator.predict(input_fn=predict_input_fn, yield_single_examples=False)\n",
        "  if type_output == \"features\":\n",
        "    return [prediction['pooled_output'] for _,prediction in enumerate(predictions) ]\n",
        "  else:\n",
        "    return ([(sentence, prediction['probabilities'],\n",
        "              prediction['labels'], labels[prediction['labels']]) for sentence, prediction in zip(in_sentences, predictions)])\n"
      ]
    },
    {
      "cell_type": "code",
      "execution_count": 61,
      "metadata": {
        "id": "WKpDMg-nV-yZ",
        "colab": {
          "base_uri": "https://localhost:8080/"
        },
        "outputId": "b9377250-5009-4c88-ccc6-0a1e759547e1"
      },
      "outputs": [
        {
          "output_type": "execute_result",
          "data": {
            "text/plain": [
              "200"
            ]
          },
          "metadata": {},
          "execution_count": 61
        }
      ],
      "source": [
        "tf.compat.v1.logging.set_verbosity(tf.logging.ERROR)\n",
        "MAX_SEQ_LENGTH"
      ]
    },
    {
      "cell_type": "code",
      "execution_count": 62,
      "metadata": {
        "id": "EjRdLdqj-mpo",
        "colab": {
          "base_uri": "https://localhost:8080/"
        },
        "outputId": "161c3e83-a249-4f3a-80d4-4765ae78f277"
      },
      "outputs": [
        {
          "output_type": "execute_result",
          "data": {
            "text/plain": [
              "((2626, 2), (666, 2))"
            ]
          },
          "metadata": {},
          "execution_count": 62
        }
      ],
      "source": [
        "train_df.shape, val_df.shape#, test_df.shape"
      ]
    },
    {
      "cell_type": "markdown",
      "metadata": {
        "id": "m4Q7Ih3nmNXh"
      },
      "source": [
        "Now extracting the representations:"
      ]
    },
    {
      "cell_type": "code",
      "execution_count": 63,
      "metadata": {
        "id": "2z3hwrsaWECM"
      },
      "outputs": [],
      "source": [
        "tr_emb = np.apply_along_axis(getPrediction, 0,np.array(train_df[DATA_COLUMN]))"
      ]
    },
    {
      "cell_type": "code",
      "execution_count": 64,
      "metadata": {
        "id": "bw6nDeP2WR_u",
        "colab": {
          "base_uri": "https://localhost:8080/"
        },
        "outputId": "1480be54-bcb4-4d27-e915-f8020fcb1524"
      },
      "outputs": [
        {
          "output_type": "stream",
          "name": "stdout",
          "text": [
            "CPU times: user 7.99 s, sys: 328 ms, total: 8.32 s\n",
            "Wall time: 13.2 s\n"
          ]
        }
      ],
      "source": [
        "%%time\n",
        "val_emb = np.apply_along_axis(getPrediction, 0,np.array(val_df[DATA_COLUMN]))\n",
        "#test_emb = np.apply_along_axis(getPrediction, 0,np.array(test_df[DATA_COLUMN]))"
      ]
    },
    {
      "cell_type": "code",
      "execution_count": 65,
      "metadata": {
        "id": "BQbVWlptWUGE",
        "colab": {
          "base_uri": "https://localhost:8080/"
        },
        "outputId": "74487575-95e8-4d1b-f34d-aba6a095e3d8"
      },
      "outputs": [
        {
          "output_type": "execute_result",
          "data": {
            "text/plain": [
              "((2626, 768), (666, 768))"
            ]
          },
          "metadata": {},
          "execution_count": 65
        }
      ],
      "source": [
        "tr_emb.shape, val_emb.shape#, test_emb"
      ]
    },
    {
      "cell_type": "markdown",
      "metadata": {
        "id": "AbIDKTbw8lOt"
      },
      "source": [
        "and make the dataset for train and val:"
      ]
    },
    {
      "cell_type": "code",
      "execution_count": 66,
      "metadata": {
        "id": "4bBZiJG6hEdU",
        "colab": {
          "base_uri": "https://localhost:8080/"
        },
        "outputId": "c0e76d9b-26ab-4a6c-d54f-735797d23639"
      },
      "outputs": [
        {
          "output_type": "execute_result",
          "data": {
            "text/plain": [
              "368"
            ]
          },
          "metadata": {},
          "execution_count": 66
        }
      ],
      "source": [
        "aux = -1\n",
        "len_l = 0\n",
        "train_x = {}\n",
        "for l, emb in zip(index_l, tr_emb):\n",
        "  if l in train_x.keys():\n",
        "    train_x[l]  =np.vstack([train_x[l], emb])\n",
        "  else:\n",
        "    train_x[l] = [emb]\n",
        "\n",
        "len(train_x.keys())\n"
      ]
    },
    {
      "cell_type": "code",
      "execution_count": 67,
      "metadata": {
        "id": "Oq2tpvrUkyoa",
        "colab": {
          "base_uri": "https://localhost:8080/",
          "height": 206
        },
        "outputId": "f2ba8cb5-82d3-4036-f71b-7bdfec518015"
      },
      "outputs": [
        {
          "output_type": "execute_result",
          "data": {
            "text/plain": [
              "                                                 emb  label\n",
              "0  [[0.71081316, 0.33106458, -0.37354752, 0.49670...      1\n",
              "1  [[-0.25337464, 0.57048917, 0.037311073, -0.290...      1\n",
              "2  [[0.31705016, -0.7080225, -0.24724613, 0.27857...      1\n",
              "3  [[0.7230986, 0.30324838, -0.3564375, 0.5055197...      1\n",
              "4  [[0.5723286, 0.14420725, -0.29242304, 0.714785...      1"
            ],
            "text/html": [
              "\n",
              "  <div id=\"df-50665228-cd56-4460-8afd-a656f1a822f5\">\n",
              "    <div class=\"colab-df-container\">\n",
              "      <div>\n",
              "<style scoped>\n",
              "    .dataframe tbody tr th:only-of-type {\n",
              "        vertical-align: middle;\n",
              "    }\n",
              "\n",
              "    .dataframe tbody tr th {\n",
              "        vertical-align: top;\n",
              "    }\n",
              "\n",
              "    .dataframe thead th {\n",
              "        text-align: right;\n",
              "    }\n",
              "</style>\n",
              "<table border=\"1\" class=\"dataframe\">\n",
              "  <thead>\n",
              "    <tr style=\"text-align: right;\">\n",
              "      <th></th>\n",
              "      <th>emb</th>\n",
              "      <th>label</th>\n",
              "    </tr>\n",
              "  </thead>\n",
              "  <tbody>\n",
              "    <tr>\n",
              "      <th>0</th>\n",
              "      <td>[[0.71081316, 0.33106458, -0.37354752, 0.49670...</td>\n",
              "      <td>1</td>\n",
              "    </tr>\n",
              "    <tr>\n",
              "      <th>1</th>\n",
              "      <td>[[-0.25337464, 0.57048917, 0.037311073, -0.290...</td>\n",
              "      <td>1</td>\n",
              "    </tr>\n",
              "    <tr>\n",
              "      <th>2</th>\n",
              "      <td>[[0.31705016, -0.7080225, -0.24724613, 0.27857...</td>\n",
              "      <td>1</td>\n",
              "    </tr>\n",
              "    <tr>\n",
              "      <th>3</th>\n",
              "      <td>[[0.7230986, 0.30324838, -0.3564375, 0.5055197...</td>\n",
              "      <td>1</td>\n",
              "    </tr>\n",
              "    <tr>\n",
              "      <th>4</th>\n",
              "      <td>[[0.5723286, 0.14420725, -0.29242304, 0.714785...</td>\n",
              "      <td>1</td>\n",
              "    </tr>\n",
              "  </tbody>\n",
              "</table>\n",
              "</div>\n",
              "      <button class=\"colab-df-convert\" onclick=\"convertToInteractive('df-50665228-cd56-4460-8afd-a656f1a822f5')\"\n",
              "              title=\"Convert this dataframe to an interactive table.\"\n",
              "              style=\"display:none;\">\n",
              "        \n",
              "  <svg xmlns=\"http://www.w3.org/2000/svg\" height=\"24px\"viewBox=\"0 0 24 24\"\n",
              "       width=\"24px\">\n",
              "    <path d=\"M0 0h24v24H0V0z\" fill=\"none\"/>\n",
              "    <path d=\"M18.56 5.44l.94 2.06.94-2.06 2.06-.94-2.06-.94-.94-2.06-.94 2.06-2.06.94zm-11 1L8.5 8.5l.94-2.06 2.06-.94-2.06-.94L8.5 2.5l-.94 2.06-2.06.94zm10 10l.94 2.06.94-2.06 2.06-.94-2.06-.94-.94-2.06-.94 2.06-2.06.94z\"/><path d=\"M17.41 7.96l-1.37-1.37c-.4-.4-.92-.59-1.43-.59-.52 0-1.04.2-1.43.59L10.3 9.45l-7.72 7.72c-.78.78-.78 2.05 0 2.83L4 21.41c.39.39.9.59 1.41.59.51 0 1.02-.2 1.41-.59l7.78-7.78 2.81-2.81c.8-.78.8-2.07 0-2.86zM5.41 20L4 18.59l7.72-7.72 1.47 1.35L5.41 20z\"/>\n",
              "  </svg>\n",
              "      </button>\n",
              "      \n",
              "  <style>\n",
              "    .colab-df-container {\n",
              "      display:flex;\n",
              "      flex-wrap:wrap;\n",
              "      gap: 12px;\n",
              "    }\n",
              "\n",
              "    .colab-df-convert {\n",
              "      background-color: #E8F0FE;\n",
              "      border: none;\n",
              "      border-radius: 50%;\n",
              "      cursor: pointer;\n",
              "      display: none;\n",
              "      fill: #1967D2;\n",
              "      height: 32px;\n",
              "      padding: 0 0 0 0;\n",
              "      width: 32px;\n",
              "    }\n",
              "\n",
              "    .colab-df-convert:hover {\n",
              "      background-color: #E2EBFA;\n",
              "      box-shadow: 0px 1px 2px rgba(60, 64, 67, 0.3), 0px 1px 3px 1px rgba(60, 64, 67, 0.15);\n",
              "      fill: #174EA6;\n",
              "    }\n",
              "\n",
              "    [theme=dark] .colab-df-convert {\n",
              "      background-color: #3B4455;\n",
              "      fill: #D2E3FC;\n",
              "    }\n",
              "\n",
              "    [theme=dark] .colab-df-convert:hover {\n",
              "      background-color: #434B5C;\n",
              "      box-shadow: 0px 1px 3px 1px rgba(0, 0, 0, 0.15);\n",
              "      filter: drop-shadow(0px 1px 2px rgba(0, 0, 0, 0.3));\n",
              "      fill: #FFFFFF;\n",
              "    }\n",
              "  </style>\n",
              "\n",
              "      <script>\n",
              "        const buttonEl =\n",
              "          document.querySelector('#df-50665228-cd56-4460-8afd-a656f1a822f5 button.colab-df-convert');\n",
              "        buttonEl.style.display =\n",
              "          google.colab.kernel.accessAllowed ? 'block' : 'none';\n",
              "\n",
              "        async function convertToInteractive(key) {\n",
              "          const element = document.querySelector('#df-50665228-cd56-4460-8afd-a656f1a822f5');\n",
              "          const dataTable =\n",
              "            await google.colab.kernel.invokeFunction('convertToInteractive',\n",
              "                                                     [key], {});\n",
              "          if (!dataTable) return;\n",
              "\n",
              "          const docLinkHtml = 'Like what you see? Visit the ' +\n",
              "            '<a target=\"_blank\" href=https://colab.research.google.com/notebooks/data_table.ipynb>data table notebook</a>'\n",
              "            + ' to learn more about interactive tables.';\n",
              "          element.innerHTML = '';\n",
              "          dataTable['output_type'] = 'display_data';\n",
              "          await google.colab.output.renderOutput(dataTable, element);\n",
              "          const docLink = document.createElement('div');\n",
              "          docLink.innerHTML = docLinkHtml;\n",
              "          element.appendChild(docLink);\n",
              "        }\n",
              "      </script>\n",
              "    </div>\n",
              "  </div>\n",
              "  "
            ]
          },
          "metadata": {},
          "execution_count": 67
        }
      ],
      "source": [
        "train_l_final = []\n",
        "label_l_final = []\n",
        "for k in train_x.keys():\n",
        "  train_l_final.append(train_x[k])\n",
        "  label_l_final.append(train.loc[k]['label'])\n",
        "\n",
        "df_train = pd.DataFrame({'emb': train_l_final, 'label': label_l_final, })\n",
        "df_train.head()"
      ]
    },
    {
      "cell_type": "code",
      "execution_count": 68,
      "metadata": {
        "id": "cnjcaZHqk6rf",
        "colab": {
          "base_uri": "https://localhost:8080/",
          "height": 206
        },
        "outputId": "bc5fbf79-d67c-429f-b250-dd8f104224f5"
      },
      "outputs": [
        {
          "output_type": "execute_result",
          "data": {
            "text/plain": [
              "                                                 emb  label\n",
              "0  [[0.12845455, -0.28794953, -0.09834217, 0.2756...      1\n",
              "1  [[0.07822529, -0.32426423, -0.028524695, 0.713...      1\n",
              "2  [[-0.0119177215, 0.007972471, 0.27013355, 0.65...      1\n",
              "3  [[0.69122654, 0.36060095, -0.40098283, 0.54456...      1\n",
              "4  [[0.3894043, -0.3382791, 0.047870107, 0.730691...      1"
            ],
            "text/html": [
              "\n",
              "  <div id=\"df-148dc76e-db16-40d2-934c-784607d87c4a\">\n",
              "    <div class=\"colab-df-container\">\n",
              "      <div>\n",
              "<style scoped>\n",
              "    .dataframe tbody tr th:only-of-type {\n",
              "        vertical-align: middle;\n",
              "    }\n",
              "\n",
              "    .dataframe tbody tr th {\n",
              "        vertical-align: top;\n",
              "    }\n",
              "\n",
              "    .dataframe thead th {\n",
              "        text-align: right;\n",
              "    }\n",
              "</style>\n",
              "<table border=\"1\" class=\"dataframe\">\n",
              "  <thead>\n",
              "    <tr style=\"text-align: right;\">\n",
              "      <th></th>\n",
              "      <th>emb</th>\n",
              "      <th>label</th>\n",
              "    </tr>\n",
              "  </thead>\n",
              "  <tbody>\n",
              "    <tr>\n",
              "      <th>0</th>\n",
              "      <td>[[0.12845455, -0.28794953, -0.09834217, 0.2756...</td>\n",
              "      <td>1</td>\n",
              "    </tr>\n",
              "    <tr>\n",
              "      <th>1</th>\n",
              "      <td>[[0.07822529, -0.32426423, -0.028524695, 0.713...</td>\n",
              "      <td>1</td>\n",
              "    </tr>\n",
              "    <tr>\n",
              "      <th>2</th>\n",
              "      <td>[[-0.0119177215, 0.007972471, 0.27013355, 0.65...</td>\n",
              "      <td>1</td>\n",
              "    </tr>\n",
              "    <tr>\n",
              "      <th>3</th>\n",
              "      <td>[[0.69122654, 0.36060095, -0.40098283, 0.54456...</td>\n",
              "      <td>1</td>\n",
              "    </tr>\n",
              "    <tr>\n",
              "      <th>4</th>\n",
              "      <td>[[0.3894043, -0.3382791, 0.047870107, 0.730691...</td>\n",
              "      <td>1</td>\n",
              "    </tr>\n",
              "  </tbody>\n",
              "</table>\n",
              "</div>\n",
              "      <button class=\"colab-df-convert\" onclick=\"convertToInteractive('df-148dc76e-db16-40d2-934c-784607d87c4a')\"\n",
              "              title=\"Convert this dataframe to an interactive table.\"\n",
              "              style=\"display:none;\">\n",
              "        \n",
              "  <svg xmlns=\"http://www.w3.org/2000/svg\" height=\"24px\"viewBox=\"0 0 24 24\"\n",
              "       width=\"24px\">\n",
              "    <path d=\"M0 0h24v24H0V0z\" fill=\"none\"/>\n",
              "    <path d=\"M18.56 5.44l.94 2.06.94-2.06 2.06-.94-2.06-.94-.94-2.06-.94 2.06-2.06.94zm-11 1L8.5 8.5l.94-2.06 2.06-.94-2.06-.94L8.5 2.5l-.94 2.06-2.06.94zm10 10l.94 2.06.94-2.06 2.06-.94-2.06-.94-.94-2.06-.94 2.06-2.06.94z\"/><path d=\"M17.41 7.96l-1.37-1.37c-.4-.4-.92-.59-1.43-.59-.52 0-1.04.2-1.43.59L10.3 9.45l-7.72 7.72c-.78.78-.78 2.05 0 2.83L4 21.41c.39.39.9.59 1.41.59.51 0 1.02-.2 1.41-.59l7.78-7.78 2.81-2.81c.8-.78.8-2.07 0-2.86zM5.41 20L4 18.59l7.72-7.72 1.47 1.35L5.41 20z\"/>\n",
              "  </svg>\n",
              "      </button>\n",
              "      \n",
              "  <style>\n",
              "    .colab-df-container {\n",
              "      display:flex;\n",
              "      flex-wrap:wrap;\n",
              "      gap: 12px;\n",
              "    }\n",
              "\n",
              "    .colab-df-convert {\n",
              "      background-color: #E8F0FE;\n",
              "      border: none;\n",
              "      border-radius: 50%;\n",
              "      cursor: pointer;\n",
              "      display: none;\n",
              "      fill: #1967D2;\n",
              "      height: 32px;\n",
              "      padding: 0 0 0 0;\n",
              "      width: 32px;\n",
              "    }\n",
              "\n",
              "    .colab-df-convert:hover {\n",
              "      background-color: #E2EBFA;\n",
              "      box-shadow: 0px 1px 2px rgba(60, 64, 67, 0.3), 0px 1px 3px 1px rgba(60, 64, 67, 0.15);\n",
              "      fill: #174EA6;\n",
              "    }\n",
              "\n",
              "    [theme=dark] .colab-df-convert {\n",
              "      background-color: #3B4455;\n",
              "      fill: #D2E3FC;\n",
              "    }\n",
              "\n",
              "    [theme=dark] .colab-df-convert:hover {\n",
              "      background-color: #434B5C;\n",
              "      box-shadow: 0px 1px 3px 1px rgba(0, 0, 0, 0.15);\n",
              "      filter: drop-shadow(0px 1px 2px rgba(0, 0, 0, 0.3));\n",
              "      fill: #FFFFFF;\n",
              "    }\n",
              "  </style>\n",
              "\n",
              "      <script>\n",
              "        const buttonEl =\n",
              "          document.querySelector('#df-148dc76e-db16-40d2-934c-784607d87c4a button.colab-df-convert');\n",
              "        buttonEl.style.display =\n",
              "          google.colab.kernel.accessAllowed ? 'block' : 'none';\n",
              "\n",
              "        async function convertToInteractive(key) {\n",
              "          const element = document.querySelector('#df-148dc76e-db16-40d2-934c-784607d87c4a');\n",
              "          const dataTable =\n",
              "            await google.colab.kernel.invokeFunction('convertToInteractive',\n",
              "                                                     [key], {});\n",
              "          if (!dataTable) return;\n",
              "\n",
              "          const docLinkHtml = 'Like what you see? Visit the ' +\n",
              "            '<a target=\"_blank\" href=https://colab.research.google.com/notebooks/data_table.ipynb>data table notebook</a>'\n",
              "            + ' to learn more about interactive tables.';\n",
              "          element.innerHTML = '';\n",
              "          dataTable['output_type'] = 'display_data';\n",
              "          await google.colab.output.renderOutput(dataTable, element);\n",
              "          const docLink = document.createElement('div');\n",
              "          docLink.innerHTML = docLinkHtml;\n",
              "          element.appendChild(docLink);\n",
              "        }\n",
              "      </script>\n",
              "    </div>\n",
              "  </div>\n",
              "  "
            ]
          },
          "metadata": {},
          "execution_count": 68
        }
      ],
      "source": [
        "aux = -1\n",
        "len_l = 0\n",
        "val_x = {}\n",
        "\n",
        "for l, emb in zip(val_index_l, val_emb):\n",
        "  if l in val_x.keys():\n",
        "    val_x[l]  =np.vstack([val_x[l], emb])\n",
        "  else:\n",
        "    val_x[l] = [emb]\n",
        "\n",
        "\n",
        "val_l_final = []\n",
        "vlabel_l_final = []\n",
        "for k in val_x.keys():\n",
        "  val_l_final.append(val_x[k])\n",
        "  vlabel_l_final.append(val.loc[k]['label'])\n",
        "\n",
        "df_val = pd.DataFrame({'emb': val_l_final, 'label': vlabel_l_final})\n",
        "df_val.head()"
      ]
    },
    {
      "cell_type": "code",
      "source": [
        "'''\n",
        "aux = -1\n",
        "len_l = 0\n",
        "test_x = {}\n",
        "\n",
        "for l, emb in zip(test_index_l, test_emb):\n",
        "  if l in test_x.keys():\n",
        "    test_x[l]  =np.vstack([test_x[l], emb])\n",
        "  else:\n",
        "    test_x[l] = [emb]\n",
        "\n",
        "\n",
        "test_l_final = []\n",
        "tlabel_l_final = []\n",
        "for k in test_x.keys():\n",
        "  test_l_final.append(test_x[k])\n",
        "  tlabel_l_final.append(test.loc[k]['label'])\n",
        "\n",
        "df_test = pd.DataFrame({'emb': test_l_final, 'label': tlabel_l_final})\n",
        "df_test.head()\n",
        "'''"
      ],
      "metadata": {
        "colab": {
          "base_uri": "https://localhost:8080/",
          "height": 107
        },
        "id": "arOBqaHlfnhG",
        "outputId": "f34e8c26-26db-4b96-cd51-03e822befd5f"
      },
      "execution_count": 69,
      "outputs": [
        {
          "output_type": "execute_result",
          "data": {
            "text/plain": [
              "\"\\naux = -1\\nlen_l = 0\\ntest_x = {}\\n\\nfor l, emb in zip(test_index_l, test_emb):\\n  if l in test_x.keys():\\n    test_x[l]  =np.vstack([test_x[l], emb])\\n  else:\\n    test_x[l] = [emb]\\n\\n\\ntest_l_final = []\\ntlabel_l_final = []\\nfor k in test_x.keys():\\n  test_l_final.append(test_x[k])\\n  tlabel_l_final.append(test.loc[k]['label'])\\n\\ndf_test = pd.DataFrame({'emb': test_l_final, 'label': tlabel_l_final})\\ndf_test.head()\\n\""
            ],
            "application/vnd.google.colaboratory.intrinsic+json": {
              "type": "string"
            }
          },
          "metadata": {},
          "execution_count": 69
        }
      ]
    },
    {
      "cell_type": "code",
      "execution_count": 70,
      "metadata": {
        "id": "rghrPxgelPep",
        "colab": {
          "base_uri": "https://localhost:8080/"
        },
        "outputId": "4fd9191c-18e1-4d9f-eeb7-d29ec24eaaa7"
      },
      "outputs": [
        {
          "output_type": "execute_result",
          "data": {
            "text/plain": [
              "((368, 2), (93, 2))"
            ]
          },
          "metadata": {},
          "execution_count": 70
        }
      ],
      "source": [
        "df_train.shape, df_val.shape#, df_test.shape"
      ]
    },
    {
      "cell_type": "code",
      "source": [
        "temp_df_val = pd.concat([df_val, val_tfidf], axis=1)"
      ],
      "metadata": {
        "id": "7RMNRlBD9Q2Z"
      },
      "execution_count": 71,
      "outputs": []
    },
    {
      "cell_type": "code",
      "source": [
        "df_labels = temp_df_val['label'].value_counts().index.tolist()\n",
        "df_counts = temp_df_val['label'].value_counts().values.tolist()\n",
        "\n",
        "val_temp = pd.DataFrame()\n",
        "test_temp = pd.DataFrame()\n",
        "#test_temp = pd.DataFrame()\n",
        "\n",
        "for label, count in zip(df_labels, df_counts):\n",
        "    val_count = round(count * 0.7)\n",
        "    #val_count = round((count - train_count)*0.7)\n",
        "    val_temp = pd.concat([val_temp, temp_df_val[temp_df_val['label']==label][:val_count]])\n",
        "    test_temp = pd.concat([test_temp, temp_df_val[temp_df_val['label']==label][val_count:]])\n",
        "    #test_temp = pd.concat([test_temp, train_combined[train_combined['label']==label][train_count + val_count:]])"
      ],
      "metadata": {
        "id": "FPEZzWsW9zXF"
      },
      "execution_count": 72,
      "outputs": []
    },
    {
      "cell_type": "code",
      "source": [
        "val_temp.reset_index(drop=True, inplace=True)\n",
        "test_temp.reset_index(drop=True, inplace=True)\n",
        "#test_temp.reset_index(drop=True, inplace=True)"
      ],
      "metadata": {
        "id": "sXMtqBMA-q9E"
      },
      "execution_count": 73,
      "outputs": []
    },
    {
      "cell_type": "code",
      "source": [
        "val_temp.shape, test_temp.shape"
      ],
      "metadata": {
        "colab": {
          "base_uri": "https://localhost:8080/"
        },
        "id": "RFPQdMZA-0kd",
        "outputId": "c3085261-3af8-45c1-f9e1-aa5d962240e6"
      },
      "execution_count": 74,
      "outputs": [
        {
          "output_type": "execute_result",
          "data": {
            "text/plain": [
              "((65, 5758), (28, 5758))"
            ]
          },
          "metadata": {},
          "execution_count": 74
        }
      ]
    },
    {
      "cell_type": "code",
      "source": [
        "df_val = val_temp[['emb', 'label']]\n",
        "df_test = test_temp[['emb', 'label']]\n",
        "val_tfidf = val_temp.drop(columns=['emb', 'label'])\n",
        "test_tfidf = test_temp.drop(columns=['emb', 'label'])"
      ],
      "metadata": {
        "id": "uzoUTJPS_A0i"
      },
      "execution_count": 75,
      "outputs": []
    },
    {
      "cell_type": "code",
      "source": [
        "df_train.shape, df_val.shape, df_test.shape"
      ],
      "metadata": {
        "colab": {
          "base_uri": "https://localhost:8080/"
        },
        "id": "dvybeBFj_kNL",
        "outputId": "25e1a844-ecd1-4d54-ca70-17fad7ad8411"
      },
      "execution_count": 76,
      "outputs": [
        {
          "output_type": "execute_result",
          "data": {
            "text/plain": [
              "((368, 2), (65, 2), (28, 2))"
            ]
          },
          "metadata": {},
          "execution_count": 76
        }
      ]
    },
    {
      "cell_type": "code",
      "source": [
        "train_tfidf.shape, val_tfidf.shape, test_tfidf.shape"
      ],
      "metadata": {
        "colab": {
          "base_uri": "https://localhost:8080/"
        },
        "id": "_pdKRWQE_p3_",
        "outputId": "90fc2ef3-231f-4dab-c0d3-a4d6d878b693"
      },
      "execution_count": 77,
      "outputs": [
        {
          "output_type": "execute_result",
          "data": {
            "text/plain": [
              "((368, 5756), (65, 5756), (28, 5756))"
            ]
          },
          "metadata": {},
          "execution_count": 77
        }
      ]
    },
    {
      "cell_type": "markdown",
      "metadata": {
        "id": "WaWC8aOhvvvr"
      },
      "source": [
        "# VINH"
      ]
    },
    {
      "cell_type": "code",
      "execution_count": 78,
      "metadata": {
        "id": "5RDSXIHmvYgP"
      },
      "outputs": [],
      "source": [
        "num_sequences = len(df_train['emb'].to_list())\n",
        "batch_size = 4\n",
        "batches_per_epoch =  92\n",
        "assert batch_size * batches_per_epoch == num_sequences\n",
        "num_sequences_val = len(df_val['emb'].to_list())\n",
        "batch_size_val = 5\n",
        "batches_per_epoch_val = 13\n",
        "assert batch_size_val * batches_per_epoch_val == num_sequences_val\n",
        "num_features= 768\n",
        "\n",
        "num_sequences_test = len(df_test['emb'].to_list())\n",
        "batch_size_test = 2\n",
        "batches_per_epoch_test = 14\n",
        "assert batch_size_test * batches_per_epoch_test == num_sequences_test"
      ]
    },
    {
      "cell_type": "code",
      "execution_count": 79,
      "metadata": {
        "id": "sf1mSzahv6O6"
      },
      "outputs": [],
      "source": [
        "def train_generator(df, meta, i_meta_num_fea):\n",
        "    x_list= df['emb'].to_list()\n",
        "    y_list =  df.label.to_list()\n",
        "    meta_list = meta.values.tolist()\n",
        "    # Generate batches\n",
        "    while True:\n",
        "        for b in range(batches_per_epoch):\n",
        "            longest_index = (b + 1) * batch_size - 1\n",
        "            timesteps = len(max(df['emb'].to_list()[:(b + 1) * batch_size][-batch_size:], key=len))\n",
        "            x_train = np.full((batch_size, timesteps, num_features), -99.)\n",
        "            y_train = np.zeros((batch_size,  1))\n",
        "            me_train = np.zeros((batch_size,  i_meta_num_fea))\n",
        "            for i in range(batch_size):\n",
        "                li = b * batch_size + i\n",
        "                x_train[i, 0:len(x_list[li]), :] = x_list[li]\n",
        "                y_train[i] = y_list[li]\n",
        "                me_train[i] = meta_list[li]\n",
        "            yield [x_train, me_train], y_train"
      ]
    },
    {
      "cell_type": "code",
      "execution_count": 80,
      "metadata": {
        "id": "XzDMljf1v-7I"
      },
      "outputs": [],
      "source": [
        "def val_generator(df, meta, i_meta_num_fea):\n",
        "    x_list= df['emb'].to_list()\n",
        "    y_list =  df.label.to_list()\n",
        "    meta_list = meta.values.tolist()\n",
        "    # Generate batches\n",
        "    while True:\n",
        "        for b in range(batches_per_epoch_val):\n",
        "            longest_index = (b + 1) * batch_size_val - 1\n",
        "            timesteps = len(max(df['emb'].to_list()[:(b + 1) * batch_size_val][-31:], key=len))\n",
        "            x_train = np.full((batch_size_val, timesteps, num_features), -99.)\n",
        "            y_train = np.zeros((batch_size_val,  1))\n",
        "            me_train = np.zeros((batch_size_val, i_meta_num_fea))\n",
        "            for i in range(batch_size_val):\n",
        "                li = b * batch_size_val + i\n",
        "                x_train[i, 0:len(x_list[li]), :] = x_list[li]\n",
        "                y_train[i] = y_list[li]\n",
        "                me_train[i] = meta_list[li]\n",
        "            yield [x_train, me_train], y_train"
      ]
    },
    {
      "cell_type": "code",
      "execution_count": 81,
      "metadata": {
        "id": "5oWTtzzk-aP8"
      },
      "outputs": [],
      "source": [
        "def test_generator(df, meta, i_meta_num_fea):\n",
        "    x_list= df['emb'].to_list()\n",
        "    y_list =  df.label.to_list()\n",
        "    meta_list = meta.values.tolist()\n",
        "    # Generate batches\n",
        "    while True:\n",
        "        for b in range(batches_per_epoch_test):\n",
        "            longest_index = (b + 1) * batch_size_test - 1\n",
        "            timesteps = len(max(df['emb'].to_list()[:(b + 1) * batch_size_test][-31:], key=len))\n",
        "            x_train = np.full((batch_size_test, timesteps, num_features), -99.)\n",
        "            y_train = np.zeros((batch_size_test,  1))\n",
        "            me_train = np.zeros((batch_size_test, i_meta_num_fea))\n",
        "            for i in range(batch_size_test):\n",
        "                li = b * batch_size_test + i\n",
        "                x_train[i, 0:len(x_list[li]), :] = x_list[li]\n",
        "                y_train[i] = y_list[li]\n",
        "                me_train[i] = meta_list[li]\n",
        "            yield [x_train, me_train], y_train"
      ]
    },
    {
      "cell_type": "code",
      "execution_count": 82,
      "metadata": {
        "id": "3hxEvGoHwINJ"
      },
      "outputs": [],
      "source": [
        "from keras import layers"
      ]
    },
    {
      "cell_type": "code",
      "execution_count": 83,
      "metadata": {
        "id": "wr2s6lVfx2Um"
      },
      "outputs": [],
      "source": [
        "meta_num_fea = 5756\n",
        "\n",
        "text_input = Input(shape=(None,768,), dtype='float32', name='text')\n",
        "meta_input = Input(shape=(meta_num_fea,), name='meta_input')\n",
        "l_mask = layers.Masking(mask_value=-99.)(text_input)\n",
        "# Which we encoded in a single vector via a LSTM\n",
        "encoded_text = layers.LSTM(100,)(l_mask)\n",
        "concat = layers.concatenate([encoded_text, meta_input])\n",
        "out_dense1 = layers.Dense(100, activation='relu')(concat)\n",
        "# And we add a softmax classifier on top\n",
        "out = layers.Dense(len(label_list), activation='softmax')(out_dense1)\n",
        "# At model instantiation, we specify the input and the output:\n",
        "model = Model(inputs=[text_input, meta_input], outputs=[out])\n",
        "opt = keras.optimizers.Adam(learning_rate=1e-3)\n",
        "model.compile(optimizer=opt,\n",
        "              loss='sparse_categorical_crossentropy',\n",
        "              metrics=['acc'])"
      ]
    },
    {
      "cell_type": "code",
      "execution_count": 84,
      "metadata": {
        "id": "CYeXd7z2x3Zn",
        "colab": {
          "base_uri": "https://localhost:8080/"
        },
        "outputId": "6b5d9df9-6377-4a0d-f51c-56c8e2499f68"
      },
      "outputs": [
        {
          "output_type": "stream",
          "name": "stdout",
          "text": [
            "Model: \"model_1\"\n",
            "__________________________________________________________________________________________________\n",
            "Layer (type)                    Output Shape         Param #     Connected to                     \n",
            "==================================================================================================\n",
            "text (InputLayer)               (None, None, 768)    0                                            \n",
            "__________________________________________________________________________________________________\n",
            "masking_1 (Masking)             (None, None, 768)    0           text[0][0]                       \n",
            "__________________________________________________________________________________________________\n",
            "lstm_1 (LSTM)                   (None, 100)          347600      masking_1[0][0]                  \n",
            "__________________________________________________________________________________________________\n",
            "meta_input (InputLayer)         (None, 5756)         0                                            \n",
            "__________________________________________________________________________________________________\n",
            "concatenate_1 (Concatenate)     (None, 5856)         0           lstm_1[0][0]                     \n",
            "                                                                 meta_input[0][0]                 \n",
            "__________________________________________________________________________________________________\n",
            "dense_1 (Dense)                 (None, 100)          585700      concatenate_1[0][0]              \n",
            "__________________________________________________________________________________________________\n",
            "dense_2 (Dense)                 (None, 13)           1313        dense_1[0][0]                    \n",
            "==================================================================================================\n",
            "Total params: 934,613\n",
            "Trainable params: 934,613\n",
            "Non-trainable params: 0\n",
            "__________________________________________________________________________________________________\n"
          ]
        }
      ],
      "source": [
        "model.summary()"
      ]
    },
    {
      "cell_type": "code",
      "execution_count": 85,
      "metadata": {
        "id": "CxkFiAaqzKxi",
        "colab": {
          "base_uri": "https://localhost:8080/"
        },
        "outputId": "bd22a093-9822-46b6-f21c-1cc43184c139"
      },
      "outputs": [
        {
          "output_type": "stream",
          "name": "stdout",
          "text": [
            "<generator object train_generator at 0x7f0b16f873d0>\n"
          ]
        }
      ],
      "source": [
        "print(train_generator(df_train, train_tfidf, meta_num_fea))"
      ]
    },
    {
      "cell_type": "code",
      "execution_count": 86,
      "metadata": {
        "id": "6Q1WKg1LwJQu",
        "colab": {
          "base_uri": "https://localhost:8080/"
        },
        "outputId": "c9095203-2b05-4d24-b989-2c577bc7a221"
      },
      "outputs": [
        {
          "output_type": "stream",
          "name": "stdout",
          "text": [
            "Epoch 1/20\n",
            "92/92 [==============================] - 1s 14ms/step - loss: 2.7505 - acc: 0.0870 - val_loss: 2.7889 - val_acc: 0.0154\n",
            "Epoch 2/20\n",
            "92/92 [==============================] - 1s 10ms/step - loss: 2.6614 - acc: 0.0679 - val_loss: 2.5946 - val_acc: 0.0308\n",
            "Epoch 3/20\n",
            "92/92 [==============================] - 1s 10ms/step - loss: 2.6552 - acc: 0.0027 - val_loss: 2.6378 - val_acc: 0.1385\n",
            "Epoch 4/20\n",
            "92/92 [==============================] - 1s 10ms/step - loss: 2.5297 - acc: 0.0978 - val_loss: 2.6141 - val_acc: 0.0923\n",
            "Epoch 5/20\n",
            "92/92 [==============================] - 1s 10ms/step - loss: 2.4704 - acc: 0.1141 - val_loss: 2.6540 - val_acc: 0.2000\n",
            "Epoch 6/20\n",
            "92/92 [==============================] - 1s 10ms/step - loss: 2.3435 - acc: 0.2636 - val_loss: 2.6954 - val_acc: 0.2615\n",
            "Epoch 7/20\n",
            "92/92 [==============================] - 1s 10ms/step - loss: 2.1476 - acc: 0.3424 - val_loss: 2.5792 - val_acc: 0.2154\n",
            "Epoch 8/20\n",
            "92/92 [==============================] - 1s 10ms/step - loss: 1.9909 - acc: 0.3913 - val_loss: 2.7866 - val_acc: 0.2769\n",
            "Epoch 9/20\n",
            "92/92 [==============================] - 1s 10ms/step - loss: 1.7497 - acc: 0.5217 - val_loss: 2.6734 - val_acc: 0.3231\n",
            "Epoch 10/20\n",
            "92/92 [==============================] - 1s 10ms/step - loss: 1.4908 - acc: 0.6712 - val_loss: 2.6770 - val_acc: 0.2615\n",
            "Epoch 11/20\n",
            "92/92 [==============================] - 1s 10ms/step - loss: 1.2122 - acc: 0.8587 - val_loss: 2.5998 - val_acc: 0.3846\n",
            "Epoch 12/20\n",
            "92/92 [==============================] - 1s 10ms/step - loss: 0.8831 - acc: 0.9049 - val_loss: 2.4676 - val_acc: 0.4615\n",
            "Epoch 13/20\n",
            "92/92 [==============================] - 1s 10ms/step - loss: 0.5802 - acc: 0.9728 - val_loss: 2.5301 - val_acc: 0.5231\n",
            "Epoch 14/20\n",
            "92/92 [==============================] - 1s 10ms/step - loss: 0.3492 - acc: 0.9973 - val_loss: 2.4054 - val_acc: 0.5692\n",
            "Epoch 15/20\n",
            "92/92 [==============================] - 1s 10ms/step - loss: 0.1905 - acc: 0.9973 - val_loss: 2.2471 - val_acc: 0.6000\n",
            "Epoch 16/20\n",
            "92/92 [==============================] - 1s 10ms/step - loss: 0.1091 - acc: 1.0000 - val_loss: 2.1831 - val_acc: 0.6154\n",
            "Epoch 17/20\n",
            "92/92 [==============================] - 1s 10ms/step - loss: 0.0711 - acc: 1.0000 - val_loss: 2.1583 - val_acc: 0.6462\n",
            "Epoch 18/20\n",
            "92/92 [==============================] - 1s 10ms/step - loss: 0.0504 - acc: 1.0000 - val_loss: 2.1442 - val_acc: 0.6308\n",
            "Epoch 19/20\n",
            "92/92 [==============================] - 1s 10ms/step - loss: 0.0379 - acc: 1.0000 - val_loss: 2.1230 - val_acc: 0.6308\n",
            "Epoch 20/20\n",
            "92/92 [==============================] - 1s 10ms/step - loss: 0.0297 - acc: 1.0000 - val_loss: 2.1068 - val_acc: 0.6308\n",
            "\n",
            "Epoch 00020: ReduceLROnPlateau reducing learning rate to 0.0009500000451225787.\n",
            "=-=-=-=-=-Num. fea.:  5756\n",
            "=-=-=-=-=-Result: [0.9122194647789001, 0.5714285969734192]\n",
            "cp: cannot stat 'results_tf_idf_Jun09.txt': No such file or directory\n"
          ]
        }
      ],
      "source": [
        "from keras.callbacks import ReduceLROnPlateau\n",
        "call_reduce = ReduceLROnPlateau(monitor='val_acc', factor=0.95, patience=3, verbose=2,\n",
        "                                mode='auto', min_delta=0.01, cooldown=0, min_lr=0)\n",
        "history = model.fit_generator(train_generator(df_train, train_tfidf, meta_num_fea), steps_per_epoch=batches_per_epoch, epochs=20,\n",
        "                  validation_data=val_generator(df_val, val_tfidf, meta_num_fea), validation_steps=batches_per_epoch_val, callbacks =[call_reduce] )\n",
        "\n",
        "test_result = model.evaluate_generator(test_generator(df_test, test_tfidf, meta_num_fea), steps= batches_per_epoch_test)\n",
        "print(\"=-=-=-=-=-Num. fea.: \", meta_num_fea)\n",
        "print(\"=-=-=-=-=-Result: \" + str(test_result))\n",
        "with open(\"results_tf_idf_July05.txt\", mode='a', encoding='utf8') as fWrite:\n",
        "  fWrite.write(f\"=-=-=-=-=-Num. fea.: {meta_num_fea}\")\n",
        "  fWrite.write(\"\\tResult:\\t\" + str(test_result[0]) + \"\\t\" + str(test_result[1]) + \"\\n\")\n",
        "!cp results_tf_idf_Jun09.txt {drive_dir}"
      ]
    },
    {
      "cell_type": "code",
      "execution_count": 87,
      "metadata": {
        "id": "_6t2Lv0xatxK",
        "colab": {
          "base_uri": "https://localhost:8080/"
        },
        "outputId": "3621fb02-7a15-4f82-eba8-ae47e6effc00"
      },
      "outputs": [
        {
          "output_type": "execute_result",
          "data": {
            "text/plain": [
              "dict_keys(['val_loss', 'val_acc', 'loss', 'acc', 'lr'])"
            ]
          },
          "metadata": {},
          "execution_count": 87
        }
      ],
      "source": [
        "history.history.keys()"
      ]
    },
    {
      "cell_type": "code",
      "execution_count": 88,
      "metadata": {
        "id": "PrBZgHecl6N4"
      },
      "outputs": [],
      "source": [
        "import matplotlib.pyplot as plt"
      ]
    },
    {
      "cell_type": "code",
      "execution_count": 89,
      "metadata": {
        "id": "HbMNy5ydlL1D",
        "colab": {
          "base_uri": "https://localhost:8080/",
          "height": 295
        },
        "outputId": "e507746d-34b1-4f5d-d98c-61003124c319"
      },
      "outputs": [
        {
          "output_type": "display_data",
          "data": {
            "text/plain": [
              "<Figure size 432x288 with 1 Axes>"
            ],
            "image/png": "[encoded data removed]"
          },
          "metadata": {
            "needs_background": "light"
          }
        }
      ],
      "source": [
        "plt.plot(history.history['acc'])\n",
        "plt.plot(history.history['val_acc'])\n",
        "plt.title('model accuracy')\n",
        "plt.ylabel('accuracy')\n",
        "plt.xlabel('epoch')\n",
        "plt.legend(['train', 'val'], loc='upper left')\n",
        "plt.show()"
      ]
    },
    {
      "cell_type": "code",
      "execution_count": 90,
      "metadata": {
        "id": "2Z_OTZAol-bO",
        "colab": {
          "base_uri": "https://localhost:8080/",
          "height": 295
        },
        "outputId": "48dcfe12-f094-47ab-924e-0879f4911a71"
      },
      "outputs": [
        {
          "output_type": "display_data",
          "data": {
            "text/plain": [
              "<Figure size 432x288 with 1 Axes>"
            ],
            "image/png": "[encoded data removed]"
          },
          "metadata": {
            "needs_background": "light"
          }
        }
      ],
      "source": [
        "plt.plot(history.history['loss'])\n",
        "plt.plot(history.history['val_loss'])\n",
        "plt.title('model loss')\n",
        "plt.ylabel('loss')\n",
        "plt.xlabel('epoch')\n",
        "plt.legend(['train', 'val'], loc='upper left')\n",
        "plt.show()"
      ]
    },
    {
      "cell_type": "code",
      "execution_count": 91,
      "metadata": {
        "id": "4axgh5DnBn0a",
        "colab": {
          "base_uri": "https://localhost:8080/"
        },
        "outputId": "1ce25409-9c51-4ab4-a7b8-cc4a6b1e19f6"
      },
      "outputs": [
        {
          "output_type": "stream",
          "name": "stdout",
          "text": [
            "0.08695652\n",
            "0.06793478\n",
            "0.0027173914\n",
            "0.097826086\n",
            "0.11413044\n",
            "0.26358697\n",
            "0.3423913\n",
            "0.39130434\n",
            "0.5217391\n",
            "0.6711956\n",
            "0.8586956\n",
            "0.9048913\n",
            "0.97282606\n",
            "0.9972826\n",
            "0.9972826\n",
            "1.0\n",
            "1.0\n",
            "1.0\n",
            "1.0\n",
            "1.0\n"
          ]
        }
      ],
      "source": [
        "for acc in history.history['acc']:\n",
        "    print(acc)"
      ]
    },
    {
      "cell_type": "code",
      "source": [
        "for acc in history.history['val_acc']:\n",
        "    print(acc)"
      ],
      "metadata": {
        "colab": {
          "base_uri": "https://localhost:8080/"
        },
        "id": "ecFqPbbTmJhs",
        "outputId": "5526468a-227a-4e4a-d176-1ec7f75407d2"
      },
      "execution_count": 92,
      "outputs": [
        {
          "output_type": "stream",
          "name": "stdout",
          "text": [
            "0.015384615398943424\n",
            "0.03076923079788685\n",
            "0.13846154510974884\n",
            "0.0923076942563057\n",
            "0.20000000298023224\n",
            "0.26153847575187683\n",
            "0.2153846174478531\n",
            "0.2769230902194977\n",
            "0.32307693362236023\n",
            "0.26153847575187683\n",
            "0.38461539149284363\n",
            "0.4615384638309479\n",
            "0.5230769515037537\n",
            "0.5692307949066162\n",
            "0.6000000238418579\n",
            "0.6153846383094788\n",
            "0.6461538672447205\n",
            "0.6307692527770996\n",
            "0.6307692527770996\n",
            "0.6307692527770996\n"
          ]
        }
      ]
    },
    {
      "cell_type": "code",
      "source": [
        "for loss in history.history['loss']:\n",
        "    print(loss)"
      ],
      "metadata": {
        "colab": {
          "base_uri": "https://localhost:8080/"
        },
        "id": "zzQe5gWEpQ8m",
        "outputId": "a3b89bdb-74c0-48b6-bd47-800a228b692c"
      },
      "execution_count": 93,
      "outputs": [
        {
          "output_type": "stream",
          "name": "stdout",
          "text": [
            "2.7504666298627853\n",
            "2.6613576230795486\n",
            "2.6551616140033887\n",
            "2.5297112464904785\n",
            "2.4703906489455183\n",
            "2.343522115893986\n",
            "2.1475640172543735\n",
            "1.990884541169457\n",
            "1.7496749829986822\n",
            "1.4908112170903578\n",
            "1.2121541843466137\n",
            "0.8831478065770605\n",
            "0.5801885066472966\n",
            "0.3492084052413702\n",
            "0.19051131270016017\n",
            "0.10906059037813026\n",
            "0.07105996507300955\n",
            "0.05037502217632921\n",
            "0.03790627738825329\n",
            "0.029659336260722383\n"
          ]
        }
      ]
    },
    {
      "cell_type": "code",
      "source": [
        "for loss in history.history['val_loss']:\n",
        "    print(loss)"
      ],
      "metadata": {
        "colab": {
          "base_uri": "https://localhost:8080/"
        },
        "id": "oK8cTwN016r9",
        "outputId": "dbb4bad8-8afd-4895-e490-9f42d0d33aec"
      },
      "execution_count": 94,
      "outputs": [
        {
          "output_type": "stream",
          "name": "stdout",
          "text": [
            "2.7888903617858887\n",
            "2.5946431159973145\n",
            "2.6377925872802734\n",
            "2.6141271591186523\n",
            "2.6540305614471436\n",
            "2.695359706878662\n",
            "2.579244375228882\n",
            "2.7866339683532715\n",
            "2.6733667850494385\n",
            "2.6769862174987793\n",
            "2.599818468093872\n",
            "2.4675731658935547\n",
            "2.5301225185394287\n",
            "2.405400037765503\n",
            "2.2471413612365723\n",
            "2.1830902099609375\n",
            "2.1582655906677246\n",
            "2.1442017555236816\n",
            "2.1230244636535645\n",
            "2.1068060398101807\n"
          ]
        }
      ]
    },
    {
      "cell_type": "code",
      "source": [
        ""
      ],
      "metadata": {
        "id": "5Jh-pLGY19UG"
      },
      "execution_count": 94,
      "outputs": []
    }
  ],
  "metadata": {
    "accelerator": "GPU",
    "colab": {
      "collapsed_sections": [],
      "machine_shape": "hm",
      "name": "BERT_va_tfidf_final.ipynb",
      "provenance": [],
      "include_colab_link": true
    },
    "gpuClass": "standard",
    "kernelspec": {
      "display_name": "Python 3",
      "name": "python3"
    },
    "language_info": {
      "name": "python"
    }
  },
  "nbformat": 4,
  "nbformat_minor": 0
}